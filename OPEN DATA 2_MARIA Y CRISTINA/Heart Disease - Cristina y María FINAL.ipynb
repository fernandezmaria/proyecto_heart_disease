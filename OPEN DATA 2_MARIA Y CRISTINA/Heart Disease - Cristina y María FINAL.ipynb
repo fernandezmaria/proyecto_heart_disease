{
 "cells": [
  {
   "cell_type": "markdown",
   "metadata": {},
   "source": [
    "# PROYECTO GRUPAL: HEART DISEASE\n",
    "## Partiendo de trece distintos atributos de un paciente, se concluye si desarrolla o no una patología de corazón \n",
    "### Por: Cristina Rodríguez Virto y María Fernández Morín"
   ]
  },
  {
   "cell_type": "markdown",
   "metadata": {},
   "source": [
    "El dataset que vamos a estudiar contiene información sobre 303 distintos pacientes pertenecientes a Cleveland Clinic Foundation. La fecha de la tabla data de julio de 1988. De dichos pacientes se muestran 13 distintas características llegando hasta la columna objetivo de la base de datos: el paciente desarrolla o no una enfermedad de corazón. En total conforman 14 columnas. "
   ]
  },
  {
   "cell_type": "markdown",
   "metadata": {},
   "source": [
    "#### El dataset nos proporciona la siguiente información:\n",
    "1. Age - age in years  \n",
    "2. Sex    \n",
    "3. Cp - chest pain type  \n",
    "4. Trestbps - resting blood pressure (in mm Hg on admission to the hospital) \n",
    "5. Chol - serum cholestoral in mg/dl   \n",
    "6. Fbs - (fasting blood sugar > 120 mg/dl) \n",
    "7. Restecg - resting electrocardiographic results \n",
    "8. Thalach - maximum heart rate achieved   \n",
    "9. Exang - exercise induced angina   \n",
    "10. Oldpeak - ST depression induced by exercise relative to rest    \n",
    "11. Slope - the slope of the peak exercise ST segment \n",
    "12. Ca - number of major vessels colored by flouroscopy  \n",
    "13. Thal  \n",
    "14. Target - have disease or not   "
   ]
  },
  {
   "cell_type": "markdown",
   "metadata": {},
   "source": [
    "#### Su correspondiente en castellano:\n",
    "1. Edad: edad en años\n",
    "2. Genero: genero del paciente\n",
    "3. MT: tipo de molestia torácica\n",
    "4. PArterial: presión arterial en reposo en mm/Hg\n",
    "5. Colesterol: colesterol en suero en mg/dl\n",
    "6. Glucemia: azúcar en sangre del paciente en ayunas\n",
    "7. EcgReposo: electrocardiograma en reposo\n",
    "8. FCM: frecuencia cardíaca máxima\n",
    "9. AIE: angina inducida por el ejercicio\n",
    "10. STDep: depresión del ST inducida por el ejercicio en relación al descanso\n",
    "11. Pendiente: la pendiente del ejercicio máximo del segmento ST\n",
    "12. Vasos: número de vasos principales\n",
    "13. TipoDefecto: tipo de anomalía que presenta el paciente\n",
    "14. Enfermedad: indica si el paciente desarrolla o no una patología de corazón"
   ]
  },
  {
   "cell_type": "markdown",
   "metadata": {},
   "source": [
    "##### Encontramos ciertos valores de diversos atributos que están indicados en números y no se deduce su significado sin una información que procedemos a explicar a continuación:"
   ]
  },
  {
   "cell_type": "markdown",
   "metadata": {},
   "source": [
    "- Genero - 1: masculino; 2:femenino\n",
    "- MT - 0: asintomático; 1: angina atípica; 2: ninguna angina detectada; 3: angina común\n",
    "- Glucemia - 1: mayor a 120 mg/dl; 0: menor a esa cifra\n",
    "- EcgReposo - 0: que muestra hipertrofia en el ventrículo izquierdo; 1: normal; 2: anormalidad de la onda T\n",
    "- AIE - 1: sí; 0: no\n",
    "- Pendiente - 0: en bajada; 1: plana; 2: subida\n",
    "- TipoDefecto - 0: no claro; 1: anomalía solucionada; 2: normal; 3: defecto reversible"
   ]
  },
  {
   "cell_type": "markdown",
   "metadata": {},
   "source": [
    "### Seguidamente, vamos a ejecutar el dataset antes de comenzar con el estudio con Spark, para comprobar el balance de los datos, observar de qué manera nos vienen dados los datos y si cuenta con nulos"
   ]
  },
  {
   "cell_type": "code",
   "execution_count": 4,
   "metadata": {},
   "outputs": [],
   "source": [
    "import matplotlib.pyplot as plt\n",
    "import pandas as pd\n",
    "import seaborn as sns\n",
    "from IPython.display import Image"
   ]
  },
  {
   "cell_type": "markdown",
   "metadata": {},
   "source": [
    "Importamos las librerías necesarias para un primer análisis de los datos y ejecutamos el dataset como primera toma de contacto"
   ]
  },
  {
   "cell_type": "code",
   "execution_count": 2,
   "metadata": {
    "collapsed": true
   },
   "outputs": [
    {
     "data": {
      "text/html": [
       "<div>\n",
       "<style scoped>\n",
       "    .dataframe tbody tr th:only-of-type {\n",
       "        vertical-align: middle;\n",
       "    }\n",
       "\n",
       "    .dataframe tbody tr th {\n",
       "        vertical-align: top;\n",
       "    }\n",
       "\n",
       "    .dataframe thead th {\n",
       "        text-align: right;\n",
       "    }\n",
       "</style>\n",
       "<table border=\"1\" class=\"dataframe\">\n",
       "  <thead>\n",
       "    <tr style=\"text-align: right;\">\n",
       "      <th></th>\n",
       "      <th>age</th>\n",
       "      <th>sex</th>\n",
       "      <th>cp</th>\n",
       "      <th>trestbps</th>\n",
       "      <th>chol</th>\n",
       "      <th>fbs</th>\n",
       "      <th>restecg</th>\n",
       "      <th>thalach</th>\n",
       "      <th>exang</th>\n",
       "      <th>oldpeak</th>\n",
       "      <th>slope</th>\n",
       "      <th>ca</th>\n",
       "      <th>thal</th>\n",
       "      <th>target</th>\n",
       "    </tr>\n",
       "  </thead>\n",
       "  <tbody>\n",
       "    <tr>\n",
       "      <td>0</td>\n",
       "      <td>63</td>\n",
       "      <td>1</td>\n",
       "      <td>3</td>\n",
       "      <td>145</td>\n",
       "      <td>233</td>\n",
       "      <td>1</td>\n",
       "      <td>0</td>\n",
       "      <td>150</td>\n",
       "      <td>0</td>\n",
       "      <td>2.3</td>\n",
       "      <td>0</td>\n",
       "      <td>0</td>\n",
       "      <td>1</td>\n",
       "      <td>1</td>\n",
       "    </tr>\n",
       "    <tr>\n",
       "      <td>1</td>\n",
       "      <td>37</td>\n",
       "      <td>1</td>\n",
       "      <td>2</td>\n",
       "      <td>130</td>\n",
       "      <td>250</td>\n",
       "      <td>0</td>\n",
       "      <td>1</td>\n",
       "      <td>187</td>\n",
       "      <td>0</td>\n",
       "      <td>3.5</td>\n",
       "      <td>0</td>\n",
       "      <td>0</td>\n",
       "      <td>2</td>\n",
       "      <td>1</td>\n",
       "    </tr>\n",
       "    <tr>\n",
       "      <td>2</td>\n",
       "      <td>41</td>\n",
       "      <td>0</td>\n",
       "      <td>1</td>\n",
       "      <td>130</td>\n",
       "      <td>204</td>\n",
       "      <td>0</td>\n",
       "      <td>0</td>\n",
       "      <td>172</td>\n",
       "      <td>0</td>\n",
       "      <td>1.4</td>\n",
       "      <td>2</td>\n",
       "      <td>0</td>\n",
       "      <td>2</td>\n",
       "      <td>1</td>\n",
       "    </tr>\n",
       "    <tr>\n",
       "      <td>3</td>\n",
       "      <td>56</td>\n",
       "      <td>1</td>\n",
       "      <td>1</td>\n",
       "      <td>120</td>\n",
       "      <td>236</td>\n",
       "      <td>0</td>\n",
       "      <td>1</td>\n",
       "      <td>178</td>\n",
       "      <td>0</td>\n",
       "      <td>0.8</td>\n",
       "      <td>2</td>\n",
       "      <td>0</td>\n",
       "      <td>2</td>\n",
       "      <td>1</td>\n",
       "    </tr>\n",
       "    <tr>\n",
       "      <td>4</td>\n",
       "      <td>57</td>\n",
       "      <td>0</td>\n",
       "      <td>0</td>\n",
       "      <td>120</td>\n",
       "      <td>354</td>\n",
       "      <td>0</td>\n",
       "      <td>1</td>\n",
       "      <td>163</td>\n",
       "      <td>1</td>\n",
       "      <td>0.6</td>\n",
       "      <td>2</td>\n",
       "      <td>0</td>\n",
       "      <td>2</td>\n",
       "      <td>1</td>\n",
       "    </tr>\n",
       "    <tr>\n",
       "      <td>5</td>\n",
       "      <td>57</td>\n",
       "      <td>1</td>\n",
       "      <td>0</td>\n",
       "      <td>140</td>\n",
       "      <td>192</td>\n",
       "      <td>0</td>\n",
       "      <td>1</td>\n",
       "      <td>148</td>\n",
       "      <td>0</td>\n",
       "      <td>0.4</td>\n",
       "      <td>1</td>\n",
       "      <td>0</td>\n",
       "      <td>1</td>\n",
       "      <td>1</td>\n",
       "    </tr>\n",
       "    <tr>\n",
       "      <td>6</td>\n",
       "      <td>56</td>\n",
       "      <td>0</td>\n",
       "      <td>1</td>\n",
       "      <td>140</td>\n",
       "      <td>294</td>\n",
       "      <td>0</td>\n",
       "      <td>0</td>\n",
       "      <td>153</td>\n",
       "      <td>0</td>\n",
       "      <td>1.3</td>\n",
       "      <td>1</td>\n",
       "      <td>0</td>\n",
       "      <td>2</td>\n",
       "      <td>1</td>\n",
       "    </tr>\n",
       "    <tr>\n",
       "      <td>7</td>\n",
       "      <td>44</td>\n",
       "      <td>1</td>\n",
       "      <td>1</td>\n",
       "      <td>120</td>\n",
       "      <td>263</td>\n",
       "      <td>0</td>\n",
       "      <td>1</td>\n",
       "      <td>173</td>\n",
       "      <td>0</td>\n",
       "      <td>0.0</td>\n",
       "      <td>2</td>\n",
       "      <td>0</td>\n",
       "      <td>3</td>\n",
       "      <td>1</td>\n",
       "    </tr>\n",
       "    <tr>\n",
       "      <td>8</td>\n",
       "      <td>52</td>\n",
       "      <td>1</td>\n",
       "      <td>2</td>\n",
       "      <td>172</td>\n",
       "      <td>199</td>\n",
       "      <td>1</td>\n",
       "      <td>1</td>\n",
       "      <td>162</td>\n",
       "      <td>0</td>\n",
       "      <td>0.5</td>\n",
       "      <td>2</td>\n",
       "      <td>0</td>\n",
       "      <td>3</td>\n",
       "      <td>1</td>\n",
       "    </tr>\n",
       "    <tr>\n",
       "      <td>9</td>\n",
       "      <td>57</td>\n",
       "      <td>1</td>\n",
       "      <td>2</td>\n",
       "      <td>150</td>\n",
       "      <td>168</td>\n",
       "      <td>0</td>\n",
       "      <td>1</td>\n",
       "      <td>174</td>\n",
       "      <td>0</td>\n",
       "      <td>1.6</td>\n",
       "      <td>2</td>\n",
       "      <td>0</td>\n",
       "      <td>2</td>\n",
       "      <td>1</td>\n",
       "    </tr>\n",
       "    <tr>\n",
       "      <td>10</td>\n",
       "      <td>54</td>\n",
       "      <td>1</td>\n",
       "      <td>0</td>\n",
       "      <td>140</td>\n",
       "      <td>239</td>\n",
       "      <td>0</td>\n",
       "      <td>1</td>\n",
       "      <td>160</td>\n",
       "      <td>0</td>\n",
       "      <td>1.2</td>\n",
       "      <td>2</td>\n",
       "      <td>0</td>\n",
       "      <td>2</td>\n",
       "      <td>1</td>\n",
       "    </tr>\n",
       "    <tr>\n",
       "      <td>11</td>\n",
       "      <td>48</td>\n",
       "      <td>0</td>\n",
       "      <td>2</td>\n",
       "      <td>130</td>\n",
       "      <td>275</td>\n",
       "      <td>0</td>\n",
       "      <td>1</td>\n",
       "      <td>139</td>\n",
       "      <td>0</td>\n",
       "      <td>0.2</td>\n",
       "      <td>2</td>\n",
       "      <td>0</td>\n",
       "      <td>2</td>\n",
       "      <td>1</td>\n",
       "    </tr>\n",
       "    <tr>\n",
       "      <td>12</td>\n",
       "      <td>49</td>\n",
       "      <td>1</td>\n",
       "      <td>1</td>\n",
       "      <td>130</td>\n",
       "      <td>266</td>\n",
       "      <td>0</td>\n",
       "      <td>1</td>\n",
       "      <td>171</td>\n",
       "      <td>0</td>\n",
       "      <td>0.6</td>\n",
       "      <td>2</td>\n",
       "      <td>0</td>\n",
       "      <td>2</td>\n",
       "      <td>1</td>\n",
       "    </tr>\n",
       "    <tr>\n",
       "      <td>13</td>\n",
       "      <td>64</td>\n",
       "      <td>1</td>\n",
       "      <td>3</td>\n",
       "      <td>110</td>\n",
       "      <td>211</td>\n",
       "      <td>0</td>\n",
       "      <td>0</td>\n",
       "      <td>144</td>\n",
       "      <td>1</td>\n",
       "      <td>1.8</td>\n",
       "      <td>1</td>\n",
       "      <td>0</td>\n",
       "      <td>2</td>\n",
       "      <td>1</td>\n",
       "    </tr>\n",
       "    <tr>\n",
       "      <td>14</td>\n",
       "      <td>58</td>\n",
       "      <td>0</td>\n",
       "      <td>3</td>\n",
       "      <td>150</td>\n",
       "      <td>283</td>\n",
       "      <td>1</td>\n",
       "      <td>0</td>\n",
       "      <td>162</td>\n",
       "      <td>0</td>\n",
       "      <td>1.0</td>\n",
       "      <td>2</td>\n",
       "      <td>0</td>\n",
       "      <td>2</td>\n",
       "      <td>1</td>\n",
       "    </tr>\n",
       "    <tr>\n",
       "      <td>15</td>\n",
       "      <td>50</td>\n",
       "      <td>0</td>\n",
       "      <td>2</td>\n",
       "      <td>120</td>\n",
       "      <td>219</td>\n",
       "      <td>0</td>\n",
       "      <td>1</td>\n",
       "      <td>158</td>\n",
       "      <td>0</td>\n",
       "      <td>1.6</td>\n",
       "      <td>1</td>\n",
       "      <td>0</td>\n",
       "      <td>2</td>\n",
       "      <td>1</td>\n",
       "    </tr>\n",
       "    <tr>\n",
       "      <td>16</td>\n",
       "      <td>58</td>\n",
       "      <td>0</td>\n",
       "      <td>2</td>\n",
       "      <td>120</td>\n",
       "      <td>340</td>\n",
       "      <td>0</td>\n",
       "      <td>1</td>\n",
       "      <td>172</td>\n",
       "      <td>0</td>\n",
       "      <td>0.0</td>\n",
       "      <td>2</td>\n",
       "      <td>0</td>\n",
       "      <td>2</td>\n",
       "      <td>1</td>\n",
       "    </tr>\n",
       "    <tr>\n",
       "      <td>17</td>\n",
       "      <td>66</td>\n",
       "      <td>0</td>\n",
       "      <td>3</td>\n",
       "      <td>150</td>\n",
       "      <td>226</td>\n",
       "      <td>0</td>\n",
       "      <td>1</td>\n",
       "      <td>114</td>\n",
       "      <td>0</td>\n",
       "      <td>2.6</td>\n",
       "      <td>0</td>\n",
       "      <td>0</td>\n",
       "      <td>2</td>\n",
       "      <td>1</td>\n",
       "    </tr>\n",
       "    <tr>\n",
       "      <td>18</td>\n",
       "      <td>43</td>\n",
       "      <td>1</td>\n",
       "      <td>0</td>\n",
       "      <td>150</td>\n",
       "      <td>247</td>\n",
       "      <td>0</td>\n",
       "      <td>1</td>\n",
       "      <td>171</td>\n",
       "      <td>0</td>\n",
       "      <td>1.5</td>\n",
       "      <td>2</td>\n",
       "      <td>0</td>\n",
       "      <td>2</td>\n",
       "      <td>1</td>\n",
       "    </tr>\n",
       "    <tr>\n",
       "      <td>19</td>\n",
       "      <td>69</td>\n",
       "      <td>0</td>\n",
       "      <td>3</td>\n",
       "      <td>140</td>\n",
       "      <td>239</td>\n",
       "      <td>0</td>\n",
       "      <td>1</td>\n",
       "      <td>151</td>\n",
       "      <td>0</td>\n",
       "      <td>1.8</td>\n",
       "      <td>2</td>\n",
       "      <td>2</td>\n",
       "      <td>2</td>\n",
       "      <td>1</td>\n",
       "    </tr>\n",
       "  </tbody>\n",
       "</table>\n",
       "</div>"
      ],
      "text/plain": [
       "    age  sex  cp  trestbps  chol  fbs  restecg  thalach  exang  oldpeak  \\\n",
       "0    63    1   3       145   233    1        0      150      0      2.3   \n",
       "1    37    1   2       130   250    0        1      187      0      3.5   \n",
       "2    41    0   1       130   204    0        0      172      0      1.4   \n",
       "3    56    1   1       120   236    0        1      178      0      0.8   \n",
       "4    57    0   0       120   354    0        1      163      1      0.6   \n",
       "5    57    1   0       140   192    0        1      148      0      0.4   \n",
       "6    56    0   1       140   294    0        0      153      0      1.3   \n",
       "7    44    1   1       120   263    0        1      173      0      0.0   \n",
       "8    52    1   2       172   199    1        1      162      0      0.5   \n",
       "9    57    1   2       150   168    0        1      174      0      1.6   \n",
       "10   54    1   0       140   239    0        1      160      0      1.2   \n",
       "11   48    0   2       130   275    0        1      139      0      0.2   \n",
       "12   49    1   1       130   266    0        1      171      0      0.6   \n",
       "13   64    1   3       110   211    0        0      144      1      1.8   \n",
       "14   58    0   3       150   283    1        0      162      0      1.0   \n",
       "15   50    0   2       120   219    0        1      158      0      1.6   \n",
       "16   58    0   2       120   340    0        1      172      0      0.0   \n",
       "17   66    0   3       150   226    0        1      114      0      2.6   \n",
       "18   43    1   0       150   247    0        1      171      0      1.5   \n",
       "19   69    0   3       140   239    0        1      151      0      1.8   \n",
       "\n",
       "    slope  ca  thal  target  \n",
       "0       0   0     1       1  \n",
       "1       0   0     2       1  \n",
       "2       2   0     2       1  \n",
       "3       2   0     2       1  \n",
       "4       2   0     2       1  \n",
       "5       1   0     1       1  \n",
       "6       1   0     2       1  \n",
       "7       2   0     3       1  \n",
       "8       2   0     3       1  \n",
       "9       2   0     2       1  \n",
       "10      2   0     2       1  \n",
       "11      2   0     2       1  \n",
       "12      2   0     2       1  \n",
       "13      1   0     2       1  \n",
       "14      2   0     2       1  \n",
       "15      1   0     2       1  \n",
       "16      2   0     2       1  \n",
       "17      0   0     2       1  \n",
       "18      2   0     2       1  \n",
       "19      2   2     2       1  "
      ]
     },
     "execution_count": 2,
     "metadata": {},
     "output_type": "execute_result"
    }
   ],
   "source": [
    "tabla = pd.read_csv(\"./heart.csv\")\n",
    "tabla.head(20)"
   ]
  },
  {
   "cell_type": "markdown",
   "metadata": {},
   "source": [
    "En nuestro caso, nos gusta mucho la función .info porque nos concreta el número de filas, tipo de datos y columnas sin ocupar mucho espacio del notebook"
   ]
  },
  {
   "cell_type": "code",
   "execution_count": 3,
   "metadata": {},
   "outputs": [
    {
     "name": "stdout",
     "output_type": "stream",
     "text": [
      "<class 'pandas.core.frame.DataFrame'>\n",
      "RangeIndex: 303 entries, 0 to 302\n",
      "Data columns (total 14 columns):\n",
      "age         303 non-null int64\n",
      "sex         303 non-null int64\n",
      "cp          303 non-null int64\n",
      "trestbps    303 non-null int64\n",
      "chol        303 non-null int64\n",
      "fbs         303 non-null int64\n",
      "restecg     303 non-null int64\n",
      "thalach     303 non-null int64\n",
      "exang       303 non-null int64\n",
      "oldpeak     303 non-null float64\n",
      "slope       303 non-null int64\n",
      "ca          303 non-null int64\n",
      "thal        303 non-null int64\n",
      "target      303 non-null int64\n",
      "dtypes: float64(1), int64(13)\n",
      "memory usage: 33.3 KB\n"
     ]
    }
   ],
   "source": [
    "tabla.info()"
   ]
  },
  {
   "cell_type": "markdown",
   "metadata": {},
   "source": [
    "Aunque arriba comprobamos que los valores son non-null, no es un método preciso de comprobarlo, por tanto con la función isnull conseguimos ver los valores NaN que podemos tener y sum nos hace la cuenta en cada columna"
   ]
  },
  {
   "cell_type": "code",
   "execution_count": 4,
   "metadata": {},
   "outputs": [
    {
     "data": {
      "text/plain": [
       "age         0\n",
       "sex         0\n",
       "cp          0\n",
       "trestbps    0\n",
       "chol        0\n",
       "fbs         0\n",
       "restecg     0\n",
       "thalach     0\n",
       "exang       0\n",
       "oldpeak     0\n",
       "slope       0\n",
       "ca          0\n",
       "thal        0\n",
       "target      0\n",
       "dtype: int64"
      ]
     },
     "execution_count": 4,
     "metadata": {},
     "output_type": "execute_result"
    }
   ],
   "source": [
    "#ANALIZAMOS SI EXISTEN VALORES NULOS \n",
    "tabla.isnull().sum()"
   ]
  },
  {
   "cell_type": "markdown",
   "metadata": {},
   "source": [
    "Gracias a que no tenemos ningún nulo, no tenemos que modificar nada del dataset que nos proporcionan"
   ]
  },
  {
   "cell_type": "markdown",
   "metadata": {},
   "source": [
    "### ¿Datos desbalanceados?\n",
    "En problemas de clasificación como el nuestro puede ocurrir que uno de los grupos de datos sea minoritario, es decir, que se encuentre en menor medida respecto al grupo complementario. Esto provoca un desbalance de los datos que nos sirven para el uso de los algoritmos y de su correspondiente entrenamiento. Este desbarajuste puede ser causante de overfitting y poca precisión en los resultados, el grupo minoritario no se vería correctamente representado con el modelo obtenido."
   ]
  },
  {
   "cell_type": "code",
   "execution_count": 312,
   "metadata": {},
   "outputs": [
    {
     "data": {
      "image/png": "[encoded data removed]",
      "text/plain": [
       "<Figure size 432x288 with 1 Axes>"
      ]
     },
     "metadata": {
      "needs_background": "light"
     },
     "output_type": "display_data"
    }
   ],
   "source": [
    "#Para comprobar la distribución de los datos de 'target' graficamos la cantidad de valores de cada tipo que hay con ayuda de la función countplot\n",
    "sns.countplot(x='target', data=tabla, palette=\"BuGn_r\")\n",
    "#Target = 0 nos indica que el paciente ha desarrollado una patología; cuando es igual a 1, lo contrario\n",
    "plt.xlabel(\"0 = sí, 1 = no\")\n",
    "plt.ylabel(\"Número de pacientes\")\n",
    "plt.show()"
   ]
  },
  {
   "cell_type": "markdown",
   "metadata": {},
   "source": [
    "Gracias a este sencillo gráfico, podemos comprobar que la columna objetivo (o columna solución) de nuestro dataset está balanceada, no hay una repartición de datos exagerada o extrema, es decir, está muy bien repartido, con porcentajes bastante razonables a la hora de trabajar con ellos"
   ]
  },
  {
   "cell_type": "markdown",
   "metadata": {},
   "source": [
    "Obtengamos el porcentaje exacto..."
   ]
  },
  {
   "cell_type": "code",
   "execution_count": 6,
   "metadata": {},
   "outputs": [
    {
     "name": "stdout",
     "output_type": "stream",
     "text": [
      "Porcentaje de pacientes enfermos: 45.54%\n",
      "Porcentaje de pacientes no enfermos: 54.46%\n"
     ]
    }
   ],
   "source": [
    "#porcentajes de pacientes con patología y sin patología\n",
    "countNoEnfermo = len(tabla[tabla.target == 1])\n",
    "countEnfermo = len(tabla[tabla.target == 0])\n",
    "print(\"Porcentaje de pacientes enfermos: {:.2f}%\".format((countEnfermo / (len(tabla.target))*100)))\n",
    "print(\"Porcentaje de pacientes no enfermos: {:.2f}%\".format((countNoEnfermo / (len(tabla.target))*100)))"
   ]
  },
  {
   "cell_type": "markdown",
   "metadata": {},
   "source": [
    "Esto marca un buen comienzo de nuestro estudio. El desbalance de datos ya no será un problema para nosotras. \\\n",
    "Una vez hemos terminado, comenzamos con la carga de datos en Spark"
   ]
  },
  {
   "cell_type": "markdown",
   "metadata": {},
   "source": [
    "## SPARK"
   ]
  },
  {
   "cell_type": "code",
   "execution_count": 2,
   "metadata": {},
   "outputs": [
    {
     "data": {
      "text/plain": [
       "'C:\\\\spark\\\\spark-2.3.3-bin-hadoop2.7'"
      ]
     },
     "execution_count": 2,
     "metadata": {},
     "output_type": "execute_result"
    }
   ],
   "source": [
    "import findspark\n",
    "findspark.init()\n",
    "findspark.find()\n",
    "\n",
    "import pyspark\n",
    "findspark.find()"
   ]
  },
  {
   "cell_type": "code",
   "execution_count": 3,
   "metadata": {},
   "outputs": [],
   "source": [
    "#Necesaria para utilizar la plataforma Spark SQL\n",
    "from pyspark.sql.types import *"
   ]
  },
  {
   "cell_type": "code",
   "execution_count": 5,
   "metadata": {},
   "outputs": [
    {
     "name": "stdout",
     "output_type": "stream",
     "text": [
      "<SparkContext master=local[3] appName=pyspark-shell>\n"
     ]
    }
   ],
   "source": [
    "#Creamos el spark context\n",
    "from pyspark import SparkContext\n",
    "sc=SparkContext(master=\"local[3]\")\n",
    "print(sc)"
   ]
  },
  {
   "cell_type": "code",
   "execution_count": 6,
   "metadata": {},
   "outputs": [],
   "source": [
    "from pyspark.sql.session import SparkSession\n",
    "spark = SparkSession.builder.appName(\"spark_heart\").getOrCreate()"
   ]
  },
  {
   "cell_type": "markdown",
   "metadata": {},
   "source": [
    "En el siguiente código abrimos el csv con Spark, colocando el **header** como true debido a que ya contamos con las columnas nombradas en la 1ª línea (encabezado).\\\n",
    "**InferSchema** establece que Spark trate de inferir que tipo de datos tiene cada columna (entero, string, etc). Nosotras al haber comprobado anteriormente que tenemos los datos limpios y saber bien que tenemos en cada columna, lo colocamos como true.\\\n",
    "**Sep** establece que sea una coma (por defecto) la que actúe a modo de separador de campos en el archivo de datos."
   ]
  },
  {
   "cell_type": "code",
   "execution_count": 7,
   "metadata": {
    "scrolled": true
   },
   "outputs": [
    {
     "name": "stdout",
     "output_type": "stream",
     "text": [
      "+---+---+---+--------+----+---+-------+-------+-----+-------+-----+---+----+------+\n",
      "|age|sex| cp|trestbps|chol|fbs|restecg|thalach|exang|oldpeak|slope| ca|thal|target|\n",
      "+---+---+---+--------+----+---+-------+-------+-----+-------+-----+---+----+------+\n",
      "| 63|  1|  3|     145| 233|  1|      0|    150|    0|    2.3|    0|  0|   1|     1|\n",
      "| 37|  1|  2|     130| 250|  0|      1|    187|    0|    3.5|    0|  0|   2|     1|\n",
      "| 41|  0|  1|     130| 204|  0|      0|    172|    0|    1.4|    2|  0|   2|     1|\n",
      "| 56|  1|  1|     120| 236|  0|      1|    178|    0|    0.8|    2|  0|   2|     1|\n",
      "| 57|  0|  0|     120| 354|  0|      1|    163|    1|    0.6|    2|  0|   2|     1|\n",
      "| 57|  1|  0|     140| 192|  0|      1|    148|    0|    0.4|    1|  0|   1|     1|\n",
      "| 56|  0|  1|     140| 294|  0|      0|    153|    0|    1.3|    1|  0|   2|     1|\n",
      "| 44|  1|  1|     120| 263|  0|      1|    173|    0|    0.0|    2|  0|   3|     1|\n",
      "| 52|  1|  2|     172| 199|  1|      1|    162|    0|    0.5|    2|  0|   3|     1|\n",
      "| 57|  1|  2|     150| 168|  0|      1|    174|    0|    1.6|    2|  0|   2|     1|\n",
      "| 54|  1|  0|     140| 239|  0|      1|    160|    0|    1.2|    2|  0|   2|     1|\n",
      "| 48|  0|  2|     130| 275|  0|      1|    139|    0|    0.2|    2|  0|   2|     1|\n",
      "| 49|  1|  1|     130| 266|  0|      1|    171|    0|    0.6|    2|  0|   2|     1|\n",
      "| 64|  1|  3|     110| 211|  0|      0|    144|    1|    1.8|    1|  0|   2|     1|\n",
      "| 58|  0|  3|     150| 283|  1|      0|    162|    0|    1.0|    2|  0|   2|     1|\n",
      "| 50|  0|  2|     120| 219|  0|      1|    158|    0|    1.6|    1|  0|   2|     1|\n",
      "| 58|  0|  2|     120| 340|  0|      1|    172|    0|    0.0|    2|  0|   2|     1|\n",
      "| 66|  0|  3|     150| 226|  0|      1|    114|    0|    2.6|    0|  0|   2|     1|\n",
      "| 43|  1|  0|     150| 247|  0|      1|    171|    0|    1.5|    2|  0|   2|     1|\n",
      "| 69|  0|  3|     140| 239|  0|      1|    151|    0|    1.8|    2|  2|   2|     1|\n",
      "+---+---+---+--------+----+---+-------+-------+-----+-------+-----+---+----+------+\n",
      "only showing top 20 rows\n",
      "\n"
     ]
    }
   ],
   "source": [
    "#Mostramos como se ven los datos en Spark\n",
    "heart_df = spark.read.csv('./heart.csv', header='true', inferSchema='true', sep=',') \n",
    "heart_df.show()"
   ]
  },
  {
   "cell_type": "markdown",
   "metadata": {},
   "source": [
    "Otra maneras de mostrar los datos..."
   ]
  },
  {
   "cell_type": "code",
   "execution_count": 165,
   "metadata": {},
   "outputs": [
    {
     "data": {
      "text/plain": [
       "[Row(Edad=63, Genero=1, MT=3, PArterial=145, Colesterol=233, Glucemia=1, EcgReposo=0, FCM=150, AIE=0, STDep=2.3, Pendiente=0, Vasos=0, TipoDefecto=1, Enfermedad=1.0),\n",
       " Row(Edad=37, Genero=1, MT=2, PArterial=130, Colesterol=250, Glucemia=0, EcgReposo=1, FCM=187, AIE=0, STDep=3.5, Pendiente=0, Vasos=0, TipoDefecto=2, Enfermedad=1.0),\n",
       " Row(Edad=41, Genero=0, MT=1, PArterial=130, Colesterol=204, Glucemia=0, EcgReposo=0, FCM=172, AIE=0, STDep=1.4, Pendiente=2, Vasos=0, TipoDefecto=2, Enfermedad=1.0),\n",
       " Row(Edad=56, Genero=1, MT=1, PArterial=120, Colesterol=236, Glucemia=0, EcgReposo=1, FCM=178, AIE=0, STDep=0.8, Pendiente=2, Vasos=0, TipoDefecto=2, Enfermedad=1.0),\n",
       " Row(Edad=57, Genero=0, MT=0, PArterial=120, Colesterol=354, Glucemia=0, EcgReposo=1, FCM=163, AIE=1, STDep=0.6, Pendiente=2, Vasos=0, TipoDefecto=2, Enfermedad=1.0),\n",
       " Row(Edad=57, Genero=1, MT=0, PArterial=140, Colesterol=192, Glucemia=0, EcgReposo=1, FCM=148, AIE=0, STDep=0.4, Pendiente=1, Vasos=0, TipoDefecto=1, Enfermedad=1.0),\n",
       " Row(Edad=56, Genero=0, MT=1, PArterial=140, Colesterol=294, Glucemia=0, EcgReposo=0, FCM=153, AIE=0, STDep=1.3, Pendiente=1, Vasos=0, TipoDefecto=2, Enfermedad=1.0),\n",
       " Row(Edad=44, Genero=1, MT=1, PArterial=120, Colesterol=263, Glucemia=0, EcgReposo=1, FCM=173, AIE=0, STDep=0.0, Pendiente=2, Vasos=0, TipoDefecto=3, Enfermedad=1.0),\n",
       " Row(Edad=52, Genero=1, MT=2, PArterial=172, Colesterol=199, Glucemia=1, EcgReposo=1, FCM=162, AIE=0, STDep=0.5, Pendiente=2, Vasos=0, TipoDefecto=3, Enfermedad=1.0),\n",
       " Row(Edad=57, Genero=1, MT=2, PArterial=150, Colesterol=168, Glucemia=0, EcgReposo=1, FCM=174, AIE=0, STDep=1.6, Pendiente=2, Vasos=0, TipoDefecto=2, Enfermedad=1.0),\n",
       " Row(Edad=54, Genero=1, MT=0, PArterial=140, Colesterol=239, Glucemia=0, EcgReposo=1, FCM=160, AIE=0, STDep=1.2, Pendiente=2, Vasos=0, TipoDefecto=2, Enfermedad=1.0),\n",
       " Row(Edad=48, Genero=0, MT=2, PArterial=130, Colesterol=275, Glucemia=0, EcgReposo=1, FCM=139, AIE=0, STDep=0.2, Pendiente=2, Vasos=0, TipoDefecto=2, Enfermedad=1.0),\n",
       " Row(Edad=49, Genero=1, MT=1, PArterial=130, Colesterol=266, Glucemia=0, EcgReposo=1, FCM=171, AIE=0, STDep=0.6, Pendiente=2, Vasos=0, TipoDefecto=2, Enfermedad=1.0),\n",
       " Row(Edad=64, Genero=1, MT=3, PArterial=110, Colesterol=211, Glucemia=0, EcgReposo=0, FCM=144, AIE=1, STDep=1.8, Pendiente=1, Vasos=0, TipoDefecto=2, Enfermedad=1.0),\n",
       " Row(Edad=58, Genero=0, MT=3, PArterial=150, Colesterol=283, Glucemia=1, EcgReposo=0, FCM=162, AIE=0, STDep=1.0, Pendiente=2, Vasos=0, TipoDefecto=2, Enfermedad=1.0),\n",
       " Row(Edad=50, Genero=0, MT=2, PArterial=120, Colesterol=219, Glucemia=0, EcgReposo=1, FCM=158, AIE=0, STDep=1.6, Pendiente=1, Vasos=0, TipoDefecto=2, Enfermedad=1.0),\n",
       " Row(Edad=58, Genero=0, MT=2, PArterial=120, Colesterol=340, Glucemia=0, EcgReposo=1, FCM=172, AIE=0, STDep=0.0, Pendiente=2, Vasos=0, TipoDefecto=2, Enfermedad=1.0),\n",
       " Row(Edad=66, Genero=0, MT=3, PArterial=150, Colesterol=226, Glucemia=0, EcgReposo=1, FCM=114, AIE=0, STDep=2.6, Pendiente=0, Vasos=0, TipoDefecto=2, Enfermedad=1.0),\n",
       " Row(Edad=43, Genero=1, MT=0, PArterial=150, Colesterol=247, Glucemia=0, EcgReposo=1, FCM=171, AIE=0, STDep=1.5, Pendiente=2, Vasos=0, TipoDefecto=2, Enfermedad=1.0),\n",
       " Row(Edad=69, Genero=0, MT=3, PArterial=140, Colesterol=239, Glucemia=0, EcgReposo=1, FCM=151, AIE=0, STDep=1.8, Pendiente=2, Vasos=2, TipoDefecto=2, Enfermedad=1.0),\n",
       " Row(Edad=59, Genero=1, MT=0, PArterial=135, Colesterol=234, Glucemia=0, EcgReposo=1, FCM=161, AIE=0, STDep=0.5, Pendiente=1, Vasos=0, TipoDefecto=3, Enfermedad=1.0),\n",
       " Row(Edad=44, Genero=1, MT=2, PArterial=130, Colesterol=233, Glucemia=0, EcgReposo=1, FCM=179, AIE=1, STDep=0.4, Pendiente=2, Vasos=0, TipoDefecto=2, Enfermedad=1.0),\n",
       " Row(Edad=42, Genero=1, MT=0, PArterial=140, Colesterol=226, Glucemia=0, EcgReposo=1, FCM=178, AIE=0, STDep=0.0, Pendiente=2, Vasos=0, TipoDefecto=2, Enfermedad=1.0),\n",
       " Row(Edad=61, Genero=1, MT=2, PArterial=150, Colesterol=243, Glucemia=1, EcgReposo=1, FCM=137, AIE=1, STDep=1.0, Pendiente=1, Vasos=0, TipoDefecto=2, Enfermedad=1.0),\n",
       " Row(Edad=40, Genero=1, MT=3, PArterial=140, Colesterol=199, Glucemia=0, EcgReposo=1, FCM=178, AIE=1, STDep=1.4, Pendiente=2, Vasos=0, TipoDefecto=3, Enfermedad=1.0),\n",
       " Row(Edad=71, Genero=0, MT=1, PArterial=160, Colesterol=302, Glucemia=0, EcgReposo=1, FCM=162, AIE=0, STDep=0.4, Pendiente=2, Vasos=2, TipoDefecto=2, Enfermedad=1.0),\n",
       " Row(Edad=59, Genero=1, MT=2, PArterial=150, Colesterol=212, Glucemia=1, EcgReposo=1, FCM=157, AIE=0, STDep=1.6, Pendiente=2, Vasos=0, TipoDefecto=2, Enfermedad=1.0),\n",
       " Row(Edad=51, Genero=1, MT=2, PArterial=110, Colesterol=175, Glucemia=0, EcgReposo=1, FCM=123, AIE=0, STDep=0.6, Pendiente=2, Vasos=0, TipoDefecto=2, Enfermedad=1.0),\n",
       " Row(Edad=65, Genero=0, MT=2, PArterial=140, Colesterol=417, Glucemia=1, EcgReposo=0, FCM=157, AIE=0, STDep=0.8, Pendiente=2, Vasos=1, TipoDefecto=2, Enfermedad=1.0),\n",
       " Row(Edad=53, Genero=1, MT=2, PArterial=130, Colesterol=197, Glucemia=1, EcgReposo=0, FCM=152, AIE=0, STDep=1.2, Pendiente=0, Vasos=0, TipoDefecto=2, Enfermedad=1.0),\n",
       " Row(Edad=41, Genero=0, MT=1, PArterial=105, Colesterol=198, Glucemia=0, EcgReposo=1, FCM=168, AIE=0, STDep=0.0, Pendiente=2, Vasos=1, TipoDefecto=2, Enfermedad=1.0),\n",
       " Row(Edad=65, Genero=1, MT=0, PArterial=120, Colesterol=177, Glucemia=0, EcgReposo=1, FCM=140, AIE=0, STDep=0.4, Pendiente=2, Vasos=0, TipoDefecto=3, Enfermedad=1.0),\n",
       " Row(Edad=44, Genero=1, MT=1, PArterial=130, Colesterol=219, Glucemia=0, EcgReposo=0, FCM=188, AIE=0, STDep=0.0, Pendiente=2, Vasos=0, TipoDefecto=2, Enfermedad=1.0),\n",
       " Row(Edad=54, Genero=1, MT=2, PArterial=125, Colesterol=273, Glucemia=0, EcgReposo=0, FCM=152, AIE=0, STDep=0.5, Pendiente=0, Vasos=1, TipoDefecto=2, Enfermedad=1.0),\n",
       " Row(Edad=51, Genero=1, MT=3, PArterial=125, Colesterol=213, Glucemia=0, EcgReposo=0, FCM=125, AIE=1, STDep=1.4, Pendiente=2, Vasos=1, TipoDefecto=2, Enfermedad=1.0),\n",
       " Row(Edad=46, Genero=0, MT=2, PArterial=142, Colesterol=177, Glucemia=0, EcgReposo=0, FCM=160, AIE=1, STDep=1.4, Pendiente=0, Vasos=0, TipoDefecto=2, Enfermedad=1.0),\n",
       " Row(Edad=54, Genero=0, MT=2, PArterial=135, Colesterol=304, Glucemia=1, EcgReposo=1, FCM=170, AIE=0, STDep=0.0, Pendiente=2, Vasos=0, TipoDefecto=2, Enfermedad=1.0),\n",
       " Row(Edad=54, Genero=1, MT=2, PArterial=150, Colesterol=232, Glucemia=0, EcgReposo=0, FCM=165, AIE=0, STDep=1.6, Pendiente=2, Vasos=0, TipoDefecto=3, Enfermedad=1.0),\n",
       " Row(Edad=65, Genero=0, MT=2, PArterial=155, Colesterol=269, Glucemia=0, EcgReposo=1, FCM=148, AIE=0, STDep=0.8, Pendiente=2, Vasos=0, TipoDefecto=2, Enfermedad=1.0),\n",
       " Row(Edad=65, Genero=0, MT=2, PArterial=160, Colesterol=360, Glucemia=0, EcgReposo=0, FCM=151, AIE=0, STDep=0.8, Pendiente=2, Vasos=0, TipoDefecto=2, Enfermedad=1.0),\n",
       " Row(Edad=51, Genero=0, MT=2, PArterial=140, Colesterol=308, Glucemia=0, EcgReposo=0, FCM=142, AIE=0, STDep=1.5, Pendiente=2, Vasos=1, TipoDefecto=2, Enfermedad=1.0),\n",
       " Row(Edad=48, Genero=1, MT=1, PArterial=130, Colesterol=245, Glucemia=0, EcgReposo=0, FCM=180, AIE=0, STDep=0.2, Pendiente=1, Vasos=0, TipoDefecto=2, Enfermedad=1.0),\n",
       " Row(Edad=45, Genero=1, MT=0, PArterial=104, Colesterol=208, Glucemia=0, EcgReposo=0, FCM=148, AIE=1, STDep=3.0, Pendiente=1, Vasos=0, TipoDefecto=2, Enfermedad=1.0),\n",
       " Row(Edad=53, Genero=0, MT=0, PArterial=130, Colesterol=264, Glucemia=0, EcgReposo=0, FCM=143, AIE=0, STDep=0.4, Pendiente=1, Vasos=0, TipoDefecto=2, Enfermedad=1.0),\n",
       " Row(Edad=39, Genero=1, MT=2, PArterial=140, Colesterol=321, Glucemia=0, EcgReposo=0, FCM=182, AIE=0, STDep=0.0, Pendiente=2, Vasos=0, TipoDefecto=2, Enfermedad=1.0),\n",
       " Row(Edad=52, Genero=1, MT=1, PArterial=120, Colesterol=325, Glucemia=0, EcgReposo=1, FCM=172, AIE=0, STDep=0.2, Pendiente=2, Vasos=0, TipoDefecto=2, Enfermedad=1.0),\n",
       " Row(Edad=44, Genero=1, MT=2, PArterial=140, Colesterol=235, Glucemia=0, EcgReposo=0, FCM=180, AIE=0, STDep=0.0, Pendiente=2, Vasos=0, TipoDefecto=2, Enfermedad=1.0),\n",
       " Row(Edad=47, Genero=1, MT=2, PArterial=138, Colesterol=257, Glucemia=0, EcgReposo=0, FCM=156, AIE=0, STDep=0.0, Pendiente=2, Vasos=0, TipoDefecto=2, Enfermedad=1.0),\n",
       " Row(Edad=53, Genero=0, MT=2, PArterial=128, Colesterol=216, Glucemia=0, EcgReposo=0, FCM=115, AIE=0, STDep=0.0, Pendiente=2, Vasos=0, TipoDefecto=0, Enfermedad=1.0),\n",
       " Row(Edad=53, Genero=0, MT=0, PArterial=138, Colesterol=234, Glucemia=0, EcgReposo=0, FCM=160, AIE=0, STDep=0.0, Pendiente=2, Vasos=0, TipoDefecto=2, Enfermedad=1.0),\n",
       " Row(Edad=51, Genero=0, MT=2, PArterial=130, Colesterol=256, Glucemia=0, EcgReposo=0, FCM=149, AIE=0, STDep=0.5, Pendiente=2, Vasos=0, TipoDefecto=2, Enfermedad=1.0),\n",
       " Row(Edad=66, Genero=1, MT=0, PArterial=120, Colesterol=302, Glucemia=0, EcgReposo=0, FCM=151, AIE=0, STDep=0.4, Pendiente=1, Vasos=0, TipoDefecto=2, Enfermedad=1.0),\n",
       " Row(Edad=62, Genero=1, MT=2, PArterial=130, Colesterol=231, Glucemia=0, EcgReposo=1, FCM=146, AIE=0, STDep=1.8, Pendiente=1, Vasos=3, TipoDefecto=3, Enfermedad=1.0),\n",
       " Row(Edad=44, Genero=0, MT=2, PArterial=108, Colesterol=141, Glucemia=0, EcgReposo=1, FCM=175, AIE=0, STDep=0.6, Pendiente=1, Vasos=0, TipoDefecto=2, Enfermedad=1.0),\n",
       " Row(Edad=63, Genero=0, MT=2, PArterial=135, Colesterol=252, Glucemia=0, EcgReposo=0, FCM=172, AIE=0, STDep=0.0, Pendiente=2, Vasos=0, TipoDefecto=2, Enfermedad=1.0),\n",
       " Row(Edad=52, Genero=1, MT=1, PArterial=134, Colesterol=201, Glucemia=0, EcgReposo=1, FCM=158, AIE=0, STDep=0.8, Pendiente=2, Vasos=1, TipoDefecto=2, Enfermedad=1.0),\n",
       " Row(Edad=48, Genero=1, MT=0, PArterial=122, Colesterol=222, Glucemia=0, EcgReposo=0, FCM=186, AIE=0, STDep=0.0, Pendiente=2, Vasos=0, TipoDefecto=2, Enfermedad=1.0),\n",
       " Row(Edad=45, Genero=1, MT=0, PArterial=115, Colesterol=260, Glucemia=0, EcgReposo=0, FCM=185, AIE=0, STDep=0.0, Pendiente=2, Vasos=0, TipoDefecto=2, Enfermedad=1.0),\n",
       " Row(Edad=34, Genero=1, MT=3, PArterial=118, Colesterol=182, Glucemia=0, EcgReposo=0, FCM=174, AIE=0, STDep=0.0, Pendiente=2, Vasos=0, TipoDefecto=2, Enfermedad=1.0),\n",
       " Row(Edad=57, Genero=0, MT=0, PArterial=128, Colesterol=303, Glucemia=0, EcgReposo=0, FCM=159, AIE=0, STDep=0.0, Pendiente=2, Vasos=1, TipoDefecto=2, Enfermedad=1.0),\n",
       " Row(Edad=71, Genero=0, MT=2, PArterial=110, Colesterol=265, Glucemia=1, EcgReposo=0, FCM=130, AIE=0, STDep=0.0, Pendiente=2, Vasos=1, TipoDefecto=2, Enfermedad=1.0),\n",
       " Row(Edad=54, Genero=1, MT=1, PArterial=108, Colesterol=309, Glucemia=0, EcgReposo=1, FCM=156, AIE=0, STDep=0.0, Pendiente=2, Vasos=0, TipoDefecto=3, Enfermedad=1.0),\n",
       " Row(Edad=52, Genero=1, MT=3, PArterial=118, Colesterol=186, Glucemia=0, EcgReposo=0, FCM=190, AIE=0, STDep=0.0, Pendiente=1, Vasos=0, TipoDefecto=1, Enfermedad=1.0),\n",
       " Row(Edad=41, Genero=1, MT=1, PArterial=135, Colesterol=203, Glucemia=0, EcgReposo=1, FCM=132, AIE=0, STDep=0.0, Pendiente=1, Vasos=0, TipoDefecto=1, Enfermedad=1.0),\n",
       " Row(Edad=58, Genero=1, MT=2, PArterial=140, Colesterol=211, Glucemia=1, EcgReposo=0, FCM=165, AIE=0, STDep=0.0, Pendiente=2, Vasos=0, TipoDefecto=2, Enfermedad=1.0),\n",
       " Row(Edad=35, Genero=0, MT=0, PArterial=138, Colesterol=183, Glucemia=0, EcgReposo=1, FCM=182, AIE=0, STDep=1.4, Pendiente=2, Vasos=0, TipoDefecto=2, Enfermedad=1.0),\n",
       " Row(Edad=51, Genero=1, MT=2, PArterial=100, Colesterol=222, Glucemia=0, EcgReposo=1, FCM=143, AIE=1, STDep=1.2, Pendiente=1, Vasos=0, TipoDefecto=2, Enfermedad=1.0),\n",
       " Row(Edad=45, Genero=0, MT=1, PArterial=130, Colesterol=234, Glucemia=0, EcgReposo=0, FCM=175, AIE=0, STDep=0.6, Pendiente=1, Vasos=0, TipoDefecto=2, Enfermedad=1.0),\n",
       " Row(Edad=44, Genero=1, MT=1, PArterial=120, Colesterol=220, Glucemia=0, EcgReposo=1, FCM=170, AIE=0, STDep=0.0, Pendiente=2, Vasos=0, TipoDefecto=2, Enfermedad=1.0),\n",
       " Row(Edad=62, Genero=0, MT=0, PArterial=124, Colesterol=209, Glucemia=0, EcgReposo=1, FCM=163, AIE=0, STDep=0.0, Pendiente=2, Vasos=0, TipoDefecto=2, Enfermedad=1.0),\n",
       " Row(Edad=54, Genero=1, MT=2, PArterial=120, Colesterol=258, Glucemia=0, EcgReposo=0, FCM=147, AIE=0, STDep=0.4, Pendiente=1, Vasos=0, TipoDefecto=3, Enfermedad=1.0),\n",
       " Row(Edad=51, Genero=1, MT=2, PArterial=94, Colesterol=227, Glucemia=0, EcgReposo=1, FCM=154, AIE=1, STDep=0.0, Pendiente=2, Vasos=1, TipoDefecto=3, Enfermedad=1.0),\n",
       " Row(Edad=29, Genero=1, MT=1, PArterial=130, Colesterol=204, Glucemia=0, EcgReposo=0, FCM=202, AIE=0, STDep=0.0, Pendiente=2, Vasos=0, TipoDefecto=2, Enfermedad=1.0),\n",
       " Row(Edad=51, Genero=1, MT=0, PArterial=140, Colesterol=261, Glucemia=0, EcgReposo=0, FCM=186, AIE=1, STDep=0.0, Pendiente=2, Vasos=0, TipoDefecto=2, Enfermedad=1.0),\n",
       " Row(Edad=43, Genero=0, MT=2, PArterial=122, Colesterol=213, Glucemia=0, EcgReposo=1, FCM=165, AIE=0, STDep=0.2, Pendiente=1, Vasos=0, TipoDefecto=2, Enfermedad=1.0),\n",
       " Row(Edad=55, Genero=0, MT=1, PArterial=135, Colesterol=250, Glucemia=0, EcgReposo=0, FCM=161, AIE=0, STDep=1.4, Pendiente=1, Vasos=0, TipoDefecto=2, Enfermedad=1.0),\n",
       " Row(Edad=51, Genero=1, MT=2, PArterial=125, Colesterol=245, Glucemia=1, EcgReposo=0, FCM=166, AIE=0, STDep=2.4, Pendiente=1, Vasos=0, TipoDefecto=2, Enfermedad=1.0),\n",
       " Row(Edad=59, Genero=1, MT=1, PArterial=140, Colesterol=221, Glucemia=0, EcgReposo=1, FCM=164, AIE=1, STDep=0.0, Pendiente=2, Vasos=0, TipoDefecto=2, Enfermedad=1.0),\n",
       " Row(Edad=52, Genero=1, MT=1, PArterial=128, Colesterol=205, Glucemia=1, EcgReposo=1, FCM=184, AIE=0, STDep=0.0, Pendiente=2, Vasos=0, TipoDefecto=2, Enfermedad=1.0),\n",
       " Row(Edad=58, Genero=1, MT=2, PArterial=105, Colesterol=240, Glucemia=0, EcgReposo=0, FCM=154, AIE=1, STDep=0.6, Pendiente=1, Vasos=0, TipoDefecto=3, Enfermedad=1.0),\n",
       " Row(Edad=41, Genero=1, MT=2, PArterial=112, Colesterol=250, Glucemia=0, EcgReposo=1, FCM=179, AIE=0, STDep=0.0, Pendiente=2, Vasos=0, TipoDefecto=2, Enfermedad=1.0),\n",
       " Row(Edad=45, Genero=1, MT=1, PArterial=128, Colesterol=308, Glucemia=0, EcgReposo=0, FCM=170, AIE=0, STDep=0.0, Pendiente=2, Vasos=0, TipoDefecto=2, Enfermedad=1.0),\n",
       " Row(Edad=60, Genero=0, MT=2, PArterial=102, Colesterol=318, Glucemia=0, EcgReposo=1, FCM=160, AIE=0, STDep=0.0, Pendiente=2, Vasos=1, TipoDefecto=2, Enfermedad=1.0),\n",
       " Row(Edad=52, Genero=1, MT=3, PArterial=152, Colesterol=298, Glucemia=1, EcgReposo=1, FCM=178, AIE=0, STDep=1.2, Pendiente=1, Vasos=0, TipoDefecto=3, Enfermedad=1.0),\n",
       " Row(Edad=42, Genero=0, MT=0, PArterial=102, Colesterol=265, Glucemia=0, EcgReposo=0, FCM=122, AIE=0, STDep=0.6, Pendiente=1, Vasos=0, TipoDefecto=2, Enfermedad=1.0),\n",
       " Row(Edad=67, Genero=0, MT=2, PArterial=115, Colesterol=564, Glucemia=0, EcgReposo=0, FCM=160, AIE=0, STDep=1.6, Pendiente=1, Vasos=0, TipoDefecto=3, Enfermedad=1.0),\n",
       " Row(Edad=68, Genero=1, MT=2, PArterial=118, Colesterol=277, Glucemia=0, EcgReposo=1, FCM=151, AIE=0, STDep=1.0, Pendiente=2, Vasos=1, TipoDefecto=3, Enfermedad=1.0),\n",
       " Row(Edad=46, Genero=1, MT=1, PArterial=101, Colesterol=197, Glucemia=1, EcgReposo=1, FCM=156, AIE=0, STDep=0.0, Pendiente=2, Vasos=0, TipoDefecto=3, Enfermedad=1.0),\n",
       " Row(Edad=54, Genero=0, MT=2, PArterial=110, Colesterol=214, Glucemia=0, EcgReposo=1, FCM=158, AIE=0, STDep=1.6, Pendiente=1, Vasos=0, TipoDefecto=2, Enfermedad=1.0),\n",
       " Row(Edad=58, Genero=0, MT=0, PArterial=100, Colesterol=248, Glucemia=0, EcgReposo=0, FCM=122, AIE=0, STDep=1.0, Pendiente=1, Vasos=0, TipoDefecto=2, Enfermedad=1.0),\n",
       " Row(Edad=48, Genero=1, MT=2, PArterial=124, Colesterol=255, Glucemia=1, EcgReposo=1, FCM=175, AIE=0, STDep=0.0, Pendiente=2, Vasos=2, TipoDefecto=2, Enfermedad=1.0),\n",
       " Row(Edad=57, Genero=1, MT=0, PArterial=132, Colesterol=207, Glucemia=0, EcgReposo=1, FCM=168, AIE=1, STDep=0.0, Pendiente=2, Vasos=0, TipoDefecto=3, Enfermedad=1.0),\n",
       " Row(Edad=52, Genero=1, MT=2, PArterial=138, Colesterol=223, Glucemia=0, EcgReposo=1, FCM=169, AIE=0, STDep=0.0, Pendiente=2, Vasos=4, TipoDefecto=2, Enfermedad=1.0),\n",
       " Row(Edad=54, Genero=0, MT=1, PArterial=132, Colesterol=288, Glucemia=1, EcgReposo=0, FCM=159, AIE=1, STDep=0.0, Pendiente=2, Vasos=1, TipoDefecto=2, Enfermedad=1.0),\n",
       " Row(Edad=45, Genero=0, MT=1, PArterial=112, Colesterol=160, Glucemia=0, EcgReposo=1, FCM=138, AIE=0, STDep=0.0, Pendiente=1, Vasos=0, TipoDefecto=2, Enfermedad=1.0),\n",
       " Row(Edad=53, Genero=1, MT=0, PArterial=142, Colesterol=226, Glucemia=0, EcgReposo=0, FCM=111, AIE=1, STDep=0.0, Pendiente=2, Vasos=0, TipoDefecto=3, Enfermedad=1.0),\n",
       " Row(Edad=62, Genero=0, MT=0, PArterial=140, Colesterol=394, Glucemia=0, EcgReposo=0, FCM=157, AIE=0, STDep=1.2, Pendiente=1, Vasos=0, TipoDefecto=2, Enfermedad=1.0),\n",
       " Row(Edad=52, Genero=1, MT=0, PArterial=108, Colesterol=233, Glucemia=1, EcgReposo=1, FCM=147, AIE=0, STDep=0.1, Pendiente=2, Vasos=3, TipoDefecto=3, Enfermedad=1.0),\n",
       " Row(Edad=43, Genero=1, MT=2, PArterial=130, Colesterol=315, Glucemia=0, EcgReposo=1, FCM=162, AIE=0, STDep=1.9, Pendiente=2, Vasos=1, TipoDefecto=2, Enfermedad=1.0),\n",
       " Row(Edad=53, Genero=1, MT=2, PArterial=130, Colesterol=246, Glucemia=1, EcgReposo=0, FCM=173, AIE=0, STDep=0.0, Pendiente=2, Vasos=3, TipoDefecto=2, Enfermedad=1.0),\n",
       " Row(Edad=42, Genero=1, MT=3, PArterial=148, Colesterol=244, Glucemia=0, EcgReposo=0, FCM=178, AIE=0, STDep=0.8, Pendiente=2, Vasos=2, TipoDefecto=2, Enfermedad=1.0),\n",
       " Row(Edad=59, Genero=1, MT=3, PArterial=178, Colesterol=270, Glucemia=0, EcgReposo=0, FCM=145, AIE=0, STDep=4.2, Pendiente=0, Vasos=0, TipoDefecto=3, Enfermedad=1.0),\n",
       " Row(Edad=63, Genero=0, MT=1, PArterial=140, Colesterol=195, Glucemia=0, EcgReposo=1, FCM=179, AIE=0, STDep=0.0, Pendiente=2, Vasos=2, TipoDefecto=2, Enfermedad=1.0),\n",
       " Row(Edad=42, Genero=1, MT=2, PArterial=120, Colesterol=240, Glucemia=1, EcgReposo=1, FCM=194, AIE=0, STDep=0.8, Pendiente=0, Vasos=0, TipoDefecto=3, Enfermedad=1.0),\n",
       " Row(Edad=50, Genero=1, MT=2, PArterial=129, Colesterol=196, Glucemia=0, EcgReposo=1, FCM=163, AIE=0, STDep=0.0, Pendiente=2, Vasos=0, TipoDefecto=2, Enfermedad=1.0),\n",
       " Row(Edad=68, Genero=0, MT=2, PArterial=120, Colesterol=211, Glucemia=0, EcgReposo=0, FCM=115, AIE=0, STDep=1.5, Pendiente=1, Vasos=0, TipoDefecto=2, Enfermedad=1.0),\n",
       " Row(Edad=69, Genero=1, MT=3, PArterial=160, Colesterol=234, Glucemia=1, EcgReposo=0, FCM=131, AIE=0, STDep=0.1, Pendiente=1, Vasos=1, TipoDefecto=2, Enfermedad=1.0),\n",
       " Row(Edad=45, Genero=0, MT=0, PArterial=138, Colesterol=236, Glucemia=0, EcgReposo=0, FCM=152, AIE=1, STDep=0.2, Pendiente=1, Vasos=0, TipoDefecto=2, Enfermedad=1.0),\n",
       " Row(Edad=50, Genero=0, MT=1, PArterial=120, Colesterol=244, Glucemia=0, EcgReposo=1, FCM=162, AIE=0, STDep=1.1, Pendiente=2, Vasos=0, TipoDefecto=2, Enfermedad=1.0),\n",
       " Row(Edad=50, Genero=0, MT=0, PArterial=110, Colesterol=254, Glucemia=0, EcgReposo=0, FCM=159, AIE=0, STDep=0.0, Pendiente=2, Vasos=0, TipoDefecto=2, Enfermedad=1.0),\n",
       " Row(Edad=64, Genero=0, MT=0, PArterial=180, Colesterol=325, Glucemia=0, EcgReposo=1, FCM=154, AIE=1, STDep=0.0, Pendiente=2, Vasos=0, TipoDefecto=2, Enfermedad=1.0),\n",
       " Row(Edad=57, Genero=1, MT=2, PArterial=150, Colesterol=126, Glucemia=1, EcgReposo=1, FCM=173, AIE=0, STDep=0.2, Pendiente=2, Vasos=1, TipoDefecto=3, Enfermedad=1.0),\n",
       " Row(Edad=64, Genero=0, MT=2, PArterial=140, Colesterol=313, Glucemia=0, EcgReposo=1, FCM=133, AIE=0, STDep=0.2, Pendiente=2, Vasos=0, TipoDefecto=3, Enfermedad=1.0),\n",
       " Row(Edad=43, Genero=1, MT=0, PArterial=110, Colesterol=211, Glucemia=0, EcgReposo=1, FCM=161, AIE=0, STDep=0.0, Pendiente=2, Vasos=0, TipoDefecto=3, Enfermedad=1.0),\n",
       " Row(Edad=55, Genero=1, MT=1, PArterial=130, Colesterol=262, Glucemia=0, EcgReposo=1, FCM=155, AIE=0, STDep=0.0, Pendiente=2, Vasos=0, TipoDefecto=2, Enfermedad=1.0),\n",
       " Row(Edad=37, Genero=0, MT=2, PArterial=120, Colesterol=215, Glucemia=0, EcgReposo=1, FCM=170, AIE=0, STDep=0.0, Pendiente=2, Vasos=0, TipoDefecto=2, Enfermedad=1.0),\n",
       " Row(Edad=41, Genero=1, MT=2, PArterial=130, Colesterol=214, Glucemia=0, EcgReposo=0, FCM=168, AIE=0, STDep=2.0, Pendiente=1, Vasos=0, TipoDefecto=2, Enfermedad=1.0),\n",
       " Row(Edad=56, Genero=1, MT=3, PArterial=120, Colesterol=193, Glucemia=0, EcgReposo=0, FCM=162, AIE=0, STDep=1.9, Pendiente=1, Vasos=0, TipoDefecto=3, Enfermedad=1.0),\n",
       " Row(Edad=46, Genero=0, MT=1, PArterial=105, Colesterol=204, Glucemia=0, EcgReposo=1, FCM=172, AIE=0, STDep=0.0, Pendiente=2, Vasos=0, TipoDefecto=2, Enfermedad=1.0),\n",
       " Row(Edad=46, Genero=0, MT=0, PArterial=138, Colesterol=243, Glucemia=0, EcgReposo=0, FCM=152, AIE=1, STDep=0.0, Pendiente=1, Vasos=0, TipoDefecto=2, Enfermedad=1.0),\n",
       " Row(Edad=64, Genero=0, MT=0, PArterial=130, Colesterol=303, Glucemia=0, EcgReposo=1, FCM=122, AIE=0, STDep=2.0, Pendiente=1, Vasos=2, TipoDefecto=2, Enfermedad=1.0),\n",
       " Row(Edad=59, Genero=1, MT=0, PArterial=138, Colesterol=271, Glucemia=0, EcgReposo=0, FCM=182, AIE=0, STDep=0.0, Pendiente=2, Vasos=0, TipoDefecto=2, Enfermedad=1.0),\n",
       " Row(Edad=41, Genero=0, MT=2, PArterial=112, Colesterol=268, Glucemia=0, EcgReposo=0, FCM=172, AIE=1, STDep=0.0, Pendiente=2, Vasos=0, TipoDefecto=2, Enfermedad=1.0),\n",
       " Row(Edad=54, Genero=0, MT=2, PArterial=108, Colesterol=267, Glucemia=0, EcgReposo=0, FCM=167, AIE=0, STDep=0.0, Pendiente=2, Vasos=0, TipoDefecto=2, Enfermedad=1.0),\n",
       " Row(Edad=39, Genero=0, MT=2, PArterial=94, Colesterol=199, Glucemia=0, EcgReposo=1, FCM=179, AIE=0, STDep=0.0, Pendiente=2, Vasos=0, TipoDefecto=2, Enfermedad=1.0),\n",
       " Row(Edad=34, Genero=0, MT=1, PArterial=118, Colesterol=210, Glucemia=0, EcgReposo=1, FCM=192, AIE=0, STDep=0.7, Pendiente=2, Vasos=0, TipoDefecto=2, Enfermedad=1.0),\n",
       " Row(Edad=47, Genero=1, MT=0, PArterial=112, Colesterol=204, Glucemia=0, EcgReposo=1, FCM=143, AIE=0, STDep=0.1, Pendiente=2, Vasos=0, TipoDefecto=2, Enfermedad=1.0),\n",
       " Row(Edad=67, Genero=0, MT=2, PArterial=152, Colesterol=277, Glucemia=0, EcgReposo=1, FCM=172, AIE=0, STDep=0.0, Pendiente=2, Vasos=1, TipoDefecto=2, Enfermedad=1.0),\n",
       " Row(Edad=52, Genero=0, MT=2, PArterial=136, Colesterol=196, Glucemia=0, EcgReposo=0, FCM=169, AIE=0, STDep=0.1, Pendiente=1, Vasos=0, TipoDefecto=2, Enfermedad=1.0),\n",
       " Row(Edad=74, Genero=0, MT=1, PArterial=120, Colesterol=269, Glucemia=0, EcgReposo=0, FCM=121, AIE=1, STDep=0.2, Pendiente=2, Vasos=1, TipoDefecto=2, Enfermedad=1.0),\n",
       " Row(Edad=54, Genero=0, MT=2, PArterial=160, Colesterol=201, Glucemia=0, EcgReposo=1, FCM=163, AIE=0, STDep=0.0, Pendiente=2, Vasos=1, TipoDefecto=2, Enfermedad=1.0),\n",
       " Row(Edad=49, Genero=0, MT=1, PArterial=134, Colesterol=271, Glucemia=0, EcgReposo=1, FCM=162, AIE=0, STDep=0.0, Pendiente=1, Vasos=0, TipoDefecto=2, Enfermedad=1.0),\n",
       " Row(Edad=42, Genero=1, MT=1, PArterial=120, Colesterol=295, Glucemia=0, EcgReposo=1, FCM=162, AIE=0, STDep=0.0, Pendiente=2, Vasos=0, TipoDefecto=2, Enfermedad=1.0),\n",
       " Row(Edad=41, Genero=1, MT=1, PArterial=110, Colesterol=235, Glucemia=0, EcgReposo=1, FCM=153, AIE=0, STDep=0.0, Pendiente=2, Vasos=0, TipoDefecto=2, Enfermedad=1.0),\n",
       " Row(Edad=41, Genero=0, MT=1, PArterial=126, Colesterol=306, Glucemia=0, EcgReposo=1, FCM=163, AIE=0, STDep=0.0, Pendiente=2, Vasos=0, TipoDefecto=2, Enfermedad=1.0),\n",
       " Row(Edad=49, Genero=0, MT=0, PArterial=130, Colesterol=269, Glucemia=0, EcgReposo=1, FCM=163, AIE=0, STDep=0.0, Pendiente=2, Vasos=0, TipoDefecto=2, Enfermedad=1.0),\n",
       " Row(Edad=60, Genero=0, MT=2, PArterial=120, Colesterol=178, Glucemia=1, EcgReposo=1, FCM=96, AIE=0, STDep=0.0, Pendiente=2, Vasos=0, TipoDefecto=2, Enfermedad=1.0),\n",
       " Row(Edad=62, Genero=1, MT=1, PArterial=128, Colesterol=208, Glucemia=1, EcgReposo=0, FCM=140, AIE=0, STDep=0.0, Pendiente=2, Vasos=0, TipoDefecto=2, Enfermedad=1.0),\n",
       " Row(Edad=57, Genero=1, MT=0, PArterial=110, Colesterol=201, Glucemia=0, EcgReposo=1, FCM=126, AIE=1, STDep=1.5, Pendiente=1, Vasos=0, TipoDefecto=1, Enfermedad=1.0),\n",
       " Row(Edad=64, Genero=1, MT=0, PArterial=128, Colesterol=263, Glucemia=0, EcgReposo=1, FCM=105, AIE=1, STDep=0.2, Pendiente=1, Vasos=1, TipoDefecto=3, Enfermedad=1.0),\n",
       " Row(Edad=51, Genero=0, MT=2, PArterial=120, Colesterol=295, Glucemia=0, EcgReposo=0, FCM=157, AIE=0, STDep=0.6, Pendiente=2, Vasos=0, TipoDefecto=2, Enfermedad=1.0),\n",
       " Row(Edad=43, Genero=1, MT=0, PArterial=115, Colesterol=303, Glucemia=0, EcgReposo=1, FCM=181, AIE=0, STDep=1.2, Pendiente=1, Vasos=0, TipoDefecto=2, Enfermedad=1.0),\n",
       " Row(Edad=42, Genero=0, MT=2, PArterial=120, Colesterol=209, Glucemia=0, EcgReposo=1, FCM=173, AIE=0, STDep=0.0, Pendiente=1, Vasos=0, TipoDefecto=2, Enfermedad=1.0),\n",
       " Row(Edad=67, Genero=0, MT=0, PArterial=106, Colesterol=223, Glucemia=0, EcgReposo=1, FCM=142, AIE=0, STDep=0.3, Pendiente=2, Vasos=2, TipoDefecto=2, Enfermedad=1.0),\n",
       " Row(Edad=76, Genero=0, MT=2, PArterial=140, Colesterol=197, Glucemia=0, EcgReposo=2, FCM=116, AIE=0, STDep=1.1, Pendiente=1, Vasos=0, TipoDefecto=2, Enfermedad=1.0),\n",
       " Row(Edad=70, Genero=1, MT=1, PArterial=156, Colesterol=245, Glucemia=0, EcgReposo=0, FCM=143, AIE=0, STDep=0.0, Pendiente=2, Vasos=0, TipoDefecto=2, Enfermedad=1.0),\n",
       " Row(Edad=44, Genero=0, MT=2, PArterial=118, Colesterol=242, Glucemia=0, EcgReposo=1, FCM=149, AIE=0, STDep=0.3, Pendiente=1, Vasos=1, TipoDefecto=2, Enfermedad=1.0),\n",
       " Row(Edad=60, Genero=0, MT=3, PArterial=150, Colesterol=240, Glucemia=0, EcgReposo=1, FCM=171, AIE=0, STDep=0.9, Pendiente=2, Vasos=0, TipoDefecto=2, Enfermedad=1.0),\n",
       " Row(Edad=44, Genero=1, MT=2, PArterial=120, Colesterol=226, Glucemia=0, EcgReposo=1, FCM=169, AIE=0, STDep=0.0, Pendiente=2, Vasos=0, TipoDefecto=2, Enfermedad=1.0),\n",
       " Row(Edad=42, Genero=1, MT=2, PArterial=130, Colesterol=180, Glucemia=0, EcgReposo=1, FCM=150, AIE=0, STDep=0.0, Pendiente=2, Vasos=0, TipoDefecto=2, Enfermedad=1.0),\n",
       " Row(Edad=66, Genero=1, MT=0, PArterial=160, Colesterol=228, Glucemia=0, EcgReposo=0, FCM=138, AIE=0, STDep=2.3, Pendiente=2, Vasos=0, TipoDefecto=1, Enfermedad=1.0),\n",
       " Row(Edad=71, Genero=0, MT=0, PArterial=112, Colesterol=149, Glucemia=0, EcgReposo=1, FCM=125, AIE=0, STDep=1.6, Pendiente=1, Vasos=0, TipoDefecto=2, Enfermedad=1.0),\n",
       " Row(Edad=64, Genero=1, MT=3, PArterial=170, Colesterol=227, Glucemia=0, EcgReposo=0, FCM=155, AIE=0, STDep=0.6, Pendiente=1, Vasos=0, TipoDefecto=3, Enfermedad=1.0),\n",
       " Row(Edad=66, Genero=0, MT=2, PArterial=146, Colesterol=278, Glucemia=0, EcgReposo=0, FCM=152, AIE=0, STDep=0.0, Pendiente=1, Vasos=1, TipoDefecto=2, Enfermedad=1.0),\n",
       " Row(Edad=39, Genero=0, MT=2, PArterial=138, Colesterol=220, Glucemia=0, EcgReposo=1, FCM=152, AIE=0, STDep=0.0, Pendiente=1, Vasos=0, TipoDefecto=2, Enfermedad=1.0),\n",
       " Row(Edad=58, Genero=0, MT=0, PArterial=130, Colesterol=197, Glucemia=0, EcgReposo=1, FCM=131, AIE=0, STDep=0.6, Pendiente=1, Vasos=0, TipoDefecto=2, Enfermedad=1.0),\n",
       " Row(Edad=47, Genero=1, MT=2, PArterial=130, Colesterol=253, Glucemia=0, EcgReposo=1, FCM=179, AIE=0, STDep=0.0, Pendiente=2, Vasos=0, TipoDefecto=2, Enfermedad=1.0),\n",
       " Row(Edad=35, Genero=1, MT=1, PArterial=122, Colesterol=192, Glucemia=0, EcgReposo=1, FCM=174, AIE=0, STDep=0.0, Pendiente=2, Vasos=0, TipoDefecto=2, Enfermedad=1.0),\n",
       " Row(Edad=58, Genero=1, MT=1, PArterial=125, Colesterol=220, Glucemia=0, EcgReposo=1, FCM=144, AIE=0, STDep=0.4, Pendiente=1, Vasos=4, TipoDefecto=3, Enfermedad=1.0),\n",
       " Row(Edad=56, Genero=1, MT=1, PArterial=130, Colesterol=221, Glucemia=0, EcgReposo=0, FCM=163, AIE=0, STDep=0.0, Pendiente=2, Vasos=0, TipoDefecto=3, Enfermedad=1.0),\n",
       " Row(Edad=56, Genero=1, MT=1, PArterial=120, Colesterol=240, Glucemia=0, EcgReposo=1, FCM=169, AIE=0, STDep=0.0, Pendiente=0, Vasos=0, TipoDefecto=2, Enfermedad=1.0),\n",
       " Row(Edad=55, Genero=0, MT=1, PArterial=132, Colesterol=342, Glucemia=0, EcgReposo=1, FCM=166, AIE=0, STDep=1.2, Pendiente=2, Vasos=0, TipoDefecto=2, Enfermedad=1.0),\n",
       " Row(Edad=41, Genero=1, MT=1, PArterial=120, Colesterol=157, Glucemia=0, EcgReposo=1, FCM=182, AIE=0, STDep=0.0, Pendiente=2, Vasos=0, TipoDefecto=2, Enfermedad=1.0),\n",
       " Row(Edad=38, Genero=1, MT=2, PArterial=138, Colesterol=175, Glucemia=0, EcgReposo=1, FCM=173, AIE=0, STDep=0.0, Pendiente=2, Vasos=4, TipoDefecto=2, Enfermedad=1.0),\n",
       " Row(Edad=38, Genero=1, MT=2, PArterial=138, Colesterol=175, Glucemia=0, EcgReposo=1, FCM=173, AIE=0, STDep=0.0, Pendiente=2, Vasos=4, TipoDefecto=2, Enfermedad=1.0),\n",
       " Row(Edad=67, Genero=1, MT=0, PArterial=160, Colesterol=286, Glucemia=0, EcgReposo=0, FCM=108, AIE=1, STDep=1.5, Pendiente=1, Vasos=3, TipoDefecto=2, Enfermedad=0.0),\n",
       " Row(Edad=67, Genero=1, MT=0, PArterial=120, Colesterol=229, Glucemia=0, EcgReposo=0, FCM=129, AIE=1, STDep=2.6, Pendiente=1, Vasos=2, TipoDefecto=3, Enfermedad=0.0),\n",
       " Row(Edad=62, Genero=0, MT=0, PArterial=140, Colesterol=268, Glucemia=0, EcgReposo=0, FCM=160, AIE=0, STDep=3.6, Pendiente=0, Vasos=2, TipoDefecto=2, Enfermedad=0.0),\n",
       " Row(Edad=63, Genero=1, MT=0, PArterial=130, Colesterol=254, Glucemia=0, EcgReposo=0, FCM=147, AIE=0, STDep=1.4, Pendiente=1, Vasos=1, TipoDefecto=3, Enfermedad=0.0),\n",
       " Row(Edad=53, Genero=1, MT=0, PArterial=140, Colesterol=203, Glucemia=1, EcgReposo=0, FCM=155, AIE=1, STDep=3.1, Pendiente=0, Vasos=0, TipoDefecto=3, Enfermedad=0.0),\n",
       " Row(Edad=56, Genero=1, MT=2, PArterial=130, Colesterol=256, Glucemia=1, EcgReposo=0, FCM=142, AIE=1, STDep=0.6, Pendiente=1, Vasos=1, TipoDefecto=1, Enfermedad=0.0),\n",
       " Row(Edad=48, Genero=1, MT=1, PArterial=110, Colesterol=229, Glucemia=0, EcgReposo=1, FCM=168, AIE=0, STDep=1.0, Pendiente=0, Vasos=0, TipoDefecto=3, Enfermedad=0.0),\n",
       " Row(Edad=58, Genero=1, MT=1, PArterial=120, Colesterol=284, Glucemia=0, EcgReposo=0, FCM=160, AIE=0, STDep=1.8, Pendiente=1, Vasos=0, TipoDefecto=2, Enfermedad=0.0),\n",
       " Row(Edad=58, Genero=1, MT=2, PArterial=132, Colesterol=224, Glucemia=0, EcgReposo=0, FCM=173, AIE=0, STDep=3.2, Pendiente=2, Vasos=2, TipoDefecto=3, Enfermedad=0.0),\n",
       " Row(Edad=60, Genero=1, MT=0, PArterial=130, Colesterol=206, Glucemia=0, EcgReposo=0, FCM=132, AIE=1, STDep=2.4, Pendiente=1, Vasos=2, TipoDefecto=3, Enfermedad=0.0),\n",
       " Row(Edad=40, Genero=1, MT=0, PArterial=110, Colesterol=167, Glucemia=0, EcgReposo=0, FCM=114, AIE=1, STDep=2.0, Pendiente=1, Vasos=0, TipoDefecto=3, Enfermedad=0.0),\n",
       " Row(Edad=60, Genero=1, MT=0, PArterial=117, Colesterol=230, Glucemia=1, EcgReposo=1, FCM=160, AIE=1, STDep=1.4, Pendiente=2, Vasos=2, TipoDefecto=3, Enfermedad=0.0),\n",
       " Row(Edad=64, Genero=1, MT=2, PArterial=140, Colesterol=335, Glucemia=0, EcgReposo=1, FCM=158, AIE=0, STDep=0.0, Pendiente=2, Vasos=0, TipoDefecto=2, Enfermedad=0.0),\n",
       " Row(Edad=43, Genero=1, MT=0, PArterial=120, Colesterol=177, Glucemia=0, EcgReposo=0, FCM=120, AIE=1, STDep=2.5, Pendiente=1, Vasos=0, TipoDefecto=3, Enfermedad=0.0),\n",
       " Row(Edad=57, Genero=1, MT=0, PArterial=150, Colesterol=276, Glucemia=0, EcgReposo=0, FCM=112, AIE=1, STDep=0.6, Pendiente=1, Vasos=1, TipoDefecto=1, Enfermedad=0.0),\n",
       " Row(Edad=55, Genero=1, MT=0, PArterial=132, Colesterol=353, Glucemia=0, EcgReposo=1, FCM=132, AIE=1, STDep=1.2, Pendiente=1, Vasos=1, TipoDefecto=3, Enfermedad=0.0),\n",
       " Row(Edad=65, Genero=0, MT=0, PArterial=150, Colesterol=225, Glucemia=0, EcgReposo=0, FCM=114, AIE=0, STDep=1.0, Pendiente=1, Vasos=3, TipoDefecto=3, Enfermedad=0.0),\n",
       " Row(Edad=61, Genero=0, MT=0, PArterial=130, Colesterol=330, Glucemia=0, EcgReposo=0, FCM=169, AIE=0, STDep=0.0, Pendiente=2, Vasos=0, TipoDefecto=2, Enfermedad=0.0),\n",
       " Row(Edad=58, Genero=1, MT=2, PArterial=112, Colesterol=230, Glucemia=0, EcgReposo=0, FCM=165, AIE=0, STDep=2.5, Pendiente=1, Vasos=1, TipoDefecto=3, Enfermedad=0.0),\n",
       " Row(Edad=50, Genero=1, MT=0, PArterial=150, Colesterol=243, Glucemia=0, EcgReposo=0, FCM=128, AIE=0, STDep=2.6, Pendiente=1, Vasos=0, TipoDefecto=3, Enfermedad=0.0),\n",
       " Row(Edad=44, Genero=1, MT=0, PArterial=112, Colesterol=290, Glucemia=0, EcgReposo=0, FCM=153, AIE=0, STDep=0.0, Pendiente=2, Vasos=1, TipoDefecto=2, Enfermedad=0.0),\n",
       " Row(Edad=60, Genero=1, MT=0, PArterial=130, Colesterol=253, Glucemia=0, EcgReposo=1, FCM=144, AIE=1, STDep=1.4, Pendiente=2, Vasos=1, TipoDefecto=3, Enfermedad=0.0),\n",
       " Row(Edad=54, Genero=1, MT=0, PArterial=124, Colesterol=266, Glucemia=0, EcgReposo=0, FCM=109, AIE=1, STDep=2.2, Pendiente=1, Vasos=1, TipoDefecto=3, Enfermedad=0.0),\n",
       " Row(Edad=50, Genero=1, MT=2, PArterial=140, Colesterol=233, Glucemia=0, EcgReposo=1, FCM=163, AIE=0, STDep=0.6, Pendiente=1, Vasos=1, TipoDefecto=3, Enfermedad=0.0),\n",
       " Row(Edad=41, Genero=1, MT=0, PArterial=110, Colesterol=172, Glucemia=0, EcgReposo=0, FCM=158, AIE=0, STDep=0.0, Pendiente=2, Vasos=0, TipoDefecto=3, Enfermedad=0.0),\n",
       " Row(Edad=51, Genero=0, MT=0, PArterial=130, Colesterol=305, Glucemia=0, EcgReposo=1, FCM=142, AIE=1, STDep=1.2, Pendiente=1, Vasos=0, TipoDefecto=3, Enfermedad=0.0),\n",
       " Row(Edad=58, Genero=1, MT=0, PArterial=128, Colesterol=216, Glucemia=0, EcgReposo=0, FCM=131, AIE=1, STDep=2.2, Pendiente=1, Vasos=3, TipoDefecto=3, Enfermedad=0.0),\n",
       " Row(Edad=54, Genero=1, MT=0, PArterial=120, Colesterol=188, Glucemia=0, EcgReposo=1, FCM=113, AIE=0, STDep=1.4, Pendiente=1, Vasos=1, TipoDefecto=3, Enfermedad=0.0),\n",
       " Row(Edad=60, Genero=1, MT=0, PArterial=145, Colesterol=282, Glucemia=0, EcgReposo=0, FCM=142, AIE=1, STDep=2.8, Pendiente=1, Vasos=2, TipoDefecto=3, Enfermedad=0.0),\n",
       " Row(Edad=60, Genero=1, MT=2, PArterial=140, Colesterol=185, Glucemia=0, EcgReposo=0, FCM=155, AIE=0, STDep=3.0, Pendiente=1, Vasos=0, TipoDefecto=2, Enfermedad=0.0),\n",
       " Row(Edad=59, Genero=1, MT=0, PArterial=170, Colesterol=326, Glucemia=0, EcgReposo=0, FCM=140, AIE=1, STDep=3.4, Pendiente=0, Vasos=0, TipoDefecto=3, Enfermedad=0.0),\n",
       " Row(Edad=46, Genero=1, MT=2, PArterial=150, Colesterol=231, Glucemia=0, EcgReposo=1, FCM=147, AIE=0, STDep=3.6, Pendiente=1, Vasos=0, TipoDefecto=2, Enfermedad=0.0),\n",
       " Row(Edad=67, Genero=1, MT=0, PArterial=125, Colesterol=254, Glucemia=1, EcgReposo=1, FCM=163, AIE=0, STDep=0.2, Pendiente=1, Vasos=2, TipoDefecto=3, Enfermedad=0.0),\n",
       " Row(Edad=62, Genero=1, MT=0, PArterial=120, Colesterol=267, Glucemia=0, EcgReposo=1, FCM=99, AIE=1, STDep=1.8, Pendiente=1, Vasos=2, TipoDefecto=3, Enfermedad=0.0),\n",
       " Row(Edad=65, Genero=1, MT=0, PArterial=110, Colesterol=248, Glucemia=0, EcgReposo=0, FCM=158, AIE=0, STDep=0.6, Pendiente=2, Vasos=2, TipoDefecto=1, Enfermedad=0.0),\n",
       " Row(Edad=44, Genero=1, MT=0, PArterial=110, Colesterol=197, Glucemia=0, EcgReposo=0, FCM=177, AIE=0, STDep=0.0, Pendiente=2, Vasos=1, TipoDefecto=2, Enfermedad=0.0),\n",
       " Row(Edad=60, Genero=1, MT=0, PArterial=125, Colesterol=258, Glucemia=0, EcgReposo=0, FCM=141, AIE=1, STDep=2.8, Pendiente=1, Vasos=1, TipoDefecto=3, Enfermedad=0.0),\n",
       " Row(Edad=58, Genero=1, MT=0, PArterial=150, Colesterol=270, Glucemia=0, EcgReposo=0, FCM=111, AIE=1, STDep=0.8, Pendiente=2, Vasos=0, TipoDefecto=3, Enfermedad=0.0),\n",
       " Row(Edad=68, Genero=1, MT=2, PArterial=180, Colesterol=274, Glucemia=1, EcgReposo=0, FCM=150, AIE=1, STDep=1.6, Pendiente=1, Vasos=0, TipoDefecto=3, Enfermedad=0.0),\n",
       " Row(Edad=62, Genero=0, MT=0, PArterial=160, Colesterol=164, Glucemia=0, EcgReposo=0, FCM=145, AIE=0, STDep=6.2, Pendiente=0, Vasos=3, TipoDefecto=3, Enfermedad=0.0),\n",
       " Row(Edad=52, Genero=1, MT=0, PArterial=128, Colesterol=255, Glucemia=0, EcgReposo=1, FCM=161, AIE=1, STDep=0.0, Pendiente=2, Vasos=1, TipoDefecto=3, Enfermedad=0.0),\n",
       " Row(Edad=59, Genero=1, MT=0, PArterial=110, Colesterol=239, Glucemia=0, EcgReposo=0, FCM=142, AIE=1, STDep=1.2, Pendiente=1, Vasos=1, TipoDefecto=3, Enfermedad=0.0),\n",
       " Row(Edad=60, Genero=0, MT=0, PArterial=150, Colesterol=258, Glucemia=0, EcgReposo=0, FCM=157, AIE=0, STDep=2.6, Pendiente=1, Vasos=2, TipoDefecto=3, Enfermedad=0.0),\n",
       " Row(Edad=49, Genero=1, MT=2, PArterial=120, Colesterol=188, Glucemia=0, EcgReposo=1, FCM=139, AIE=0, STDep=2.0, Pendiente=1, Vasos=3, TipoDefecto=3, Enfermedad=0.0),\n",
       " Row(Edad=59, Genero=1, MT=0, PArterial=140, Colesterol=177, Glucemia=0, EcgReposo=1, FCM=162, AIE=1, STDep=0.0, Pendiente=2, Vasos=1, TipoDefecto=3, Enfermedad=0.0),\n",
       " Row(Edad=57, Genero=1, MT=2, PArterial=128, Colesterol=229, Glucemia=0, EcgReposo=0, FCM=150, AIE=0, STDep=0.4, Pendiente=1, Vasos=1, TipoDefecto=3, Enfermedad=0.0),\n",
       " Row(Edad=61, Genero=1, MT=0, PArterial=120, Colesterol=260, Glucemia=0, EcgReposo=1, FCM=140, AIE=1, STDep=3.6, Pendiente=1, Vasos=1, TipoDefecto=3, Enfermedad=0.0),\n",
       " Row(Edad=39, Genero=1, MT=0, PArterial=118, Colesterol=219, Glucemia=0, EcgReposo=1, FCM=140, AIE=0, STDep=1.2, Pendiente=1, Vasos=0, TipoDefecto=3, Enfermedad=0.0),\n",
       " Row(Edad=61, Genero=0, MT=0, PArterial=145, Colesterol=307, Glucemia=0, EcgReposo=0, FCM=146, AIE=1, STDep=1.0, Pendiente=1, Vasos=0, TipoDefecto=3, Enfermedad=0.0),\n",
       " Row(Edad=56, Genero=1, MT=0, PArterial=125, Colesterol=249, Glucemia=1, EcgReposo=0, FCM=144, AIE=1, STDep=1.2, Pendiente=1, Vasos=1, TipoDefecto=2, Enfermedad=0.0),\n",
       " Row(Edad=43, Genero=0, MT=0, PArterial=132, Colesterol=341, Glucemia=1, EcgReposo=0, FCM=136, AIE=1, STDep=3.0, Pendiente=1, Vasos=0, TipoDefecto=3, Enfermedad=0.0),\n",
       " Row(Edad=62, Genero=0, MT=2, PArterial=130, Colesterol=263, Glucemia=0, EcgReposo=1, FCM=97, AIE=0, STDep=1.2, Pendiente=1, Vasos=1, TipoDefecto=3, Enfermedad=0.0),\n",
       " Row(Edad=63, Genero=1, MT=0, PArterial=130, Colesterol=330, Glucemia=1, EcgReposo=0, FCM=132, AIE=1, STDep=1.8, Pendiente=2, Vasos=3, TipoDefecto=3, Enfermedad=0.0),\n",
       " Row(Edad=65, Genero=1, MT=0, PArterial=135, Colesterol=254, Glucemia=0, EcgReposo=0, FCM=127, AIE=0, STDep=2.8, Pendiente=1, Vasos=1, TipoDefecto=3, Enfermedad=0.0),\n",
       " Row(Edad=48, Genero=1, MT=0, PArterial=130, Colesterol=256, Glucemia=1, EcgReposo=0, FCM=150, AIE=1, STDep=0.0, Pendiente=2, Vasos=2, TipoDefecto=3, Enfermedad=0.0),\n",
       " Row(Edad=63, Genero=0, MT=0, PArterial=150, Colesterol=407, Glucemia=0, EcgReposo=0, FCM=154, AIE=0, STDep=4.0, Pendiente=1, Vasos=3, TipoDefecto=3, Enfermedad=0.0),\n",
       " Row(Edad=55, Genero=1, MT=0, PArterial=140, Colesterol=217, Glucemia=0, EcgReposo=1, FCM=111, AIE=1, STDep=5.6, Pendiente=0, Vasos=0, TipoDefecto=3, Enfermedad=0.0),\n",
       " Row(Edad=65, Genero=1, MT=3, PArterial=138, Colesterol=282, Glucemia=1, EcgReposo=0, FCM=174, AIE=0, STDep=1.4, Pendiente=1, Vasos=1, TipoDefecto=2, Enfermedad=0.0),\n",
       " Row(Edad=56, Genero=0, MT=0, PArterial=200, Colesterol=288, Glucemia=1, EcgReposo=0, FCM=133, AIE=1, STDep=4.0, Pendiente=0, Vasos=2, TipoDefecto=3, Enfermedad=0.0),\n",
       " Row(Edad=54, Genero=1, MT=0, PArterial=110, Colesterol=239, Glucemia=0, EcgReposo=1, FCM=126, AIE=1, STDep=2.8, Pendiente=1, Vasos=1, TipoDefecto=3, Enfermedad=0.0),\n",
       " Row(Edad=70, Genero=1, MT=0, PArterial=145, Colesterol=174, Glucemia=0, EcgReposo=1, FCM=125, AIE=1, STDep=2.6, Pendiente=0, Vasos=0, TipoDefecto=3, Enfermedad=0.0),\n",
       " Row(Edad=62, Genero=1, MT=1, PArterial=120, Colesterol=281, Glucemia=0, EcgReposo=0, FCM=103, AIE=0, STDep=1.4, Pendiente=1, Vasos=1, TipoDefecto=3, Enfermedad=0.0),\n",
       " Row(Edad=35, Genero=1, MT=0, PArterial=120, Colesterol=198, Glucemia=0, EcgReposo=1, FCM=130, AIE=1, STDep=1.6, Pendiente=1, Vasos=0, TipoDefecto=3, Enfermedad=0.0),\n",
       " Row(Edad=59, Genero=1, MT=3, PArterial=170, Colesterol=288, Glucemia=0, EcgReposo=0, FCM=159, AIE=0, STDep=0.2, Pendiente=1, Vasos=0, TipoDefecto=3, Enfermedad=0.0),\n",
       " Row(Edad=64, Genero=1, MT=2, PArterial=125, Colesterol=309, Glucemia=0, EcgReposo=1, FCM=131, AIE=1, STDep=1.8, Pendiente=1, Vasos=0, TipoDefecto=3, Enfermedad=0.0),\n",
       " Row(Edad=47, Genero=1, MT=2, PArterial=108, Colesterol=243, Glucemia=0, EcgReposo=1, FCM=152, AIE=0, STDep=0.0, Pendiente=2, Vasos=0, TipoDefecto=2, Enfermedad=0.0),\n",
       " Row(Edad=57, Genero=1, MT=0, PArterial=165, Colesterol=289, Glucemia=1, EcgReposo=0, FCM=124, AIE=0, STDep=1.0, Pendiente=1, Vasos=3, TipoDefecto=3, Enfermedad=0.0),\n",
       " Row(Edad=55, Genero=1, MT=0, PArterial=160, Colesterol=289, Glucemia=0, EcgReposo=0, FCM=145, AIE=1, STDep=0.8, Pendiente=1, Vasos=1, TipoDefecto=3, Enfermedad=0.0),\n",
       " Row(Edad=64, Genero=1, MT=0, PArterial=120, Colesterol=246, Glucemia=0, EcgReposo=0, FCM=96, AIE=1, STDep=2.2, Pendiente=0, Vasos=1, TipoDefecto=2, Enfermedad=0.0),\n",
       " Row(Edad=70, Genero=1, MT=0, PArterial=130, Colesterol=322, Glucemia=0, EcgReposo=0, FCM=109, AIE=0, STDep=2.4, Pendiente=1, Vasos=3, TipoDefecto=2, Enfermedad=0.0),\n",
       " Row(Edad=51, Genero=1, MT=0, PArterial=140, Colesterol=299, Glucemia=0, EcgReposo=1, FCM=173, AIE=1, STDep=1.6, Pendiente=2, Vasos=0, TipoDefecto=3, Enfermedad=0.0),\n",
       " Row(Edad=58, Genero=1, MT=0, PArterial=125, Colesterol=300, Glucemia=0, EcgReposo=0, FCM=171, AIE=0, STDep=0.0, Pendiente=2, Vasos=2, TipoDefecto=3, Enfermedad=0.0),\n",
       " Row(Edad=60, Genero=1, MT=0, PArterial=140, Colesterol=293, Glucemia=0, EcgReposo=0, FCM=170, AIE=0, STDep=1.2, Pendiente=1, Vasos=2, TipoDefecto=3, Enfermedad=0.0),\n",
       " Row(Edad=77, Genero=1, MT=0, PArterial=125, Colesterol=304, Glucemia=0, EcgReposo=0, FCM=162, AIE=1, STDep=0.0, Pendiente=2, Vasos=3, TipoDefecto=2, Enfermedad=0.0),\n",
       " Row(Edad=35, Genero=1, MT=0, PArterial=126, Colesterol=282, Glucemia=0, EcgReposo=0, FCM=156, AIE=1, STDep=0.0, Pendiente=2, Vasos=0, TipoDefecto=3, Enfermedad=0.0),\n",
       " Row(Edad=70, Genero=1, MT=2, PArterial=160, Colesterol=269, Glucemia=0, EcgReposo=1, FCM=112, AIE=1, STDep=2.9, Pendiente=1, Vasos=1, TipoDefecto=3, Enfermedad=0.0),\n",
       " Row(Edad=59, Genero=0, MT=0, PArterial=174, Colesterol=249, Glucemia=0, EcgReposo=1, FCM=143, AIE=1, STDep=0.0, Pendiente=1, Vasos=0, TipoDefecto=2, Enfermedad=0.0),\n",
       " Row(Edad=64, Genero=1, MT=0, PArterial=145, Colesterol=212, Glucemia=0, EcgReposo=0, FCM=132, AIE=0, STDep=2.0, Pendiente=1, Vasos=2, TipoDefecto=1, Enfermedad=0.0),\n",
       " Row(Edad=57, Genero=1, MT=0, PArterial=152, Colesterol=274, Glucemia=0, EcgReposo=1, FCM=88, AIE=1, STDep=1.2, Pendiente=1, Vasos=1, TipoDefecto=3, Enfermedad=0.0),\n",
       " Row(Edad=56, Genero=1, MT=0, PArterial=132, Colesterol=184, Glucemia=0, EcgReposo=0, FCM=105, AIE=1, STDep=2.1, Pendiente=1, Vasos=1, TipoDefecto=1, Enfermedad=0.0),\n",
       " Row(Edad=48, Genero=1, MT=0, PArterial=124, Colesterol=274, Glucemia=0, EcgReposo=0, FCM=166, AIE=0, STDep=0.5, Pendiente=1, Vasos=0, TipoDefecto=3, Enfermedad=0.0),\n",
       " Row(Edad=56, Genero=0, MT=0, PArterial=134, Colesterol=409, Glucemia=0, EcgReposo=0, FCM=150, AIE=1, STDep=1.9, Pendiente=1, Vasos=2, TipoDefecto=3, Enfermedad=0.0),\n",
       " Row(Edad=66, Genero=1, MT=1, PArterial=160, Colesterol=246, Glucemia=0, EcgReposo=1, FCM=120, AIE=1, STDep=0.0, Pendiente=1, Vasos=3, TipoDefecto=1, Enfermedad=0.0),\n",
       " Row(Edad=54, Genero=1, MT=1, PArterial=192, Colesterol=283, Glucemia=0, EcgReposo=0, FCM=195, AIE=0, STDep=0.0, Pendiente=2, Vasos=1, TipoDefecto=3, Enfermedad=0.0),\n",
       " Row(Edad=69, Genero=1, MT=2, PArterial=140, Colesterol=254, Glucemia=0, EcgReposo=0, FCM=146, AIE=0, STDep=2.0, Pendiente=1, Vasos=3, TipoDefecto=3, Enfermedad=0.0),\n",
       " Row(Edad=51, Genero=1, MT=0, PArterial=140, Colesterol=298, Glucemia=0, EcgReposo=1, FCM=122, AIE=1, STDep=4.2, Pendiente=1, Vasos=3, TipoDefecto=3, Enfermedad=0.0),\n",
       " Row(Edad=43, Genero=1, MT=0, PArterial=132, Colesterol=247, Glucemia=1, EcgReposo=0, FCM=143, AIE=1, STDep=0.1, Pendiente=1, Vasos=4, TipoDefecto=3, Enfermedad=0.0),\n",
       " Row(Edad=62, Genero=0, MT=0, PArterial=138, Colesterol=294, Glucemia=1, EcgReposo=1, FCM=106, AIE=0, STDep=1.9, Pendiente=1, Vasos=3, TipoDefecto=2, Enfermedad=0.0),\n",
       " Row(Edad=67, Genero=1, MT=0, PArterial=100, Colesterol=299, Glucemia=0, EcgReposo=0, FCM=125, AIE=1, STDep=0.9, Pendiente=1, Vasos=2, TipoDefecto=2, Enfermedad=0.0),\n",
       " Row(Edad=59, Genero=1, MT=3, PArterial=160, Colesterol=273, Glucemia=0, EcgReposo=0, FCM=125, AIE=0, STDep=0.0, Pendiente=2, Vasos=0, TipoDefecto=2, Enfermedad=0.0),\n",
       " Row(Edad=45, Genero=1, MT=0, PArterial=142, Colesterol=309, Glucemia=0, EcgReposo=0, FCM=147, AIE=1, STDep=0.0, Pendiente=1, Vasos=3, TipoDefecto=3, Enfermedad=0.0),\n",
       " Row(Edad=58, Genero=1, MT=0, PArterial=128, Colesterol=259, Glucemia=0, EcgReposo=0, FCM=130, AIE=1, STDep=3.0, Pendiente=1, Vasos=2, TipoDefecto=3, Enfermedad=0.0),\n",
       " Row(Edad=50, Genero=1, MT=0, PArterial=144, Colesterol=200, Glucemia=0, EcgReposo=0, FCM=126, AIE=1, STDep=0.9, Pendiente=1, Vasos=0, TipoDefecto=3, Enfermedad=0.0),\n",
       " Row(Edad=62, Genero=0, MT=0, PArterial=150, Colesterol=244, Glucemia=0, EcgReposo=1, FCM=154, AIE=1, STDep=1.4, Pendiente=1, Vasos=0, TipoDefecto=2, Enfermedad=0.0),\n",
       " Row(Edad=38, Genero=1, MT=3, PArterial=120, Colesterol=231, Glucemia=0, EcgReposo=1, FCM=182, AIE=1, STDep=3.8, Pendiente=1, Vasos=0, TipoDefecto=3, Enfermedad=0.0),\n",
       " Row(Edad=66, Genero=0, MT=0, PArterial=178, Colesterol=228, Glucemia=1, EcgReposo=1, FCM=165, AIE=1, STDep=1.0, Pendiente=1, Vasos=2, TipoDefecto=3, Enfermedad=0.0),\n",
       " Row(Edad=52, Genero=1, MT=0, PArterial=112, Colesterol=230, Glucemia=0, EcgReposo=1, FCM=160, AIE=0, STDep=0.0, Pendiente=2, Vasos=1, TipoDefecto=2, Enfermedad=0.0),\n",
       " Row(Edad=53, Genero=1, MT=0, PArterial=123, Colesterol=282, Glucemia=0, EcgReposo=1, FCM=95, AIE=1, STDep=2.0, Pendiente=1, Vasos=2, TipoDefecto=3, Enfermedad=0.0),\n",
       " Row(Edad=63, Genero=0, MT=0, PArterial=108, Colesterol=269, Glucemia=0, EcgReposo=1, FCM=169, AIE=1, STDep=1.8, Pendiente=1, Vasos=2, TipoDefecto=2, Enfermedad=0.0),\n",
       " Row(Edad=54, Genero=1, MT=0, PArterial=110, Colesterol=206, Glucemia=0, EcgReposo=0, FCM=108, AIE=1, STDep=0.0, Pendiente=1, Vasos=1, TipoDefecto=2, Enfermedad=0.0),\n",
       " Row(Edad=66, Genero=1, MT=0, PArterial=112, Colesterol=212, Glucemia=0, EcgReposo=0, FCM=132, AIE=1, STDep=0.1, Pendiente=2, Vasos=1, TipoDefecto=2, Enfermedad=0.0),\n",
       " Row(Edad=55, Genero=0, MT=0, PArterial=180, Colesterol=327, Glucemia=0, EcgReposo=2, FCM=117, AIE=1, STDep=3.4, Pendiente=1, Vasos=0, TipoDefecto=2, Enfermedad=0.0),\n",
       " Row(Edad=49, Genero=1, MT=2, PArterial=118, Colesterol=149, Glucemia=0, EcgReposo=0, FCM=126, AIE=0, STDep=0.8, Pendiente=2, Vasos=3, TipoDefecto=2, Enfermedad=0.0),\n",
       " Row(Edad=54, Genero=1, MT=0, PArterial=122, Colesterol=286, Glucemia=0, EcgReposo=0, FCM=116, AIE=1, STDep=3.2, Pendiente=1, Vasos=2, TipoDefecto=2, Enfermedad=0.0),\n",
       " Row(Edad=56, Genero=1, MT=0, PArterial=130, Colesterol=283, Glucemia=1, EcgReposo=0, FCM=103, AIE=1, STDep=1.6, Pendiente=0, Vasos=0, TipoDefecto=3, Enfermedad=0.0),\n",
       " Row(Edad=46, Genero=1, MT=0, PArterial=120, Colesterol=249, Glucemia=0, EcgReposo=0, FCM=144, AIE=0, STDep=0.8, Pendiente=2, Vasos=0, TipoDefecto=3, Enfermedad=0.0),\n",
       " Row(Edad=61, Genero=1, MT=3, PArterial=134, Colesterol=234, Glucemia=0, EcgReposo=1, FCM=145, AIE=0, STDep=2.6, Pendiente=1, Vasos=2, TipoDefecto=2, Enfermedad=0.0),\n",
       " Row(Edad=67, Genero=1, MT=0, PArterial=120, Colesterol=237, Glucemia=0, EcgReposo=1, FCM=71, AIE=0, STDep=1.0, Pendiente=1, Vasos=0, TipoDefecto=2, Enfermedad=0.0),\n",
       " Row(Edad=58, Genero=1, MT=0, PArterial=100, Colesterol=234, Glucemia=0, EcgReposo=1, FCM=156, AIE=0, STDep=0.1, Pendiente=2, Vasos=1, TipoDefecto=3, Enfermedad=0.0),\n",
       " Row(Edad=47, Genero=1, MT=0, PArterial=110, Colesterol=275, Glucemia=0, EcgReposo=0, FCM=118, AIE=1, STDep=1.0, Pendiente=1, Vasos=1, TipoDefecto=2, Enfermedad=0.0),\n",
       " Row(Edad=52, Genero=1, MT=0, PArterial=125, Colesterol=212, Glucemia=0, EcgReposo=1, FCM=168, AIE=0, STDep=1.0, Pendiente=2, Vasos=2, TipoDefecto=3, Enfermedad=0.0),\n",
       " Row(Edad=58, Genero=1, MT=0, PArterial=146, Colesterol=218, Glucemia=0, EcgReposo=1, FCM=105, AIE=0, STDep=2.0, Pendiente=1, Vasos=1, TipoDefecto=3, Enfermedad=0.0),\n",
       " Row(Edad=57, Genero=1, MT=1, PArterial=124, Colesterol=261, Glucemia=0, EcgReposo=1, FCM=141, AIE=0, STDep=0.3, Pendiente=2, Vasos=0, TipoDefecto=3, Enfermedad=0.0),\n",
       " Row(Edad=58, Genero=0, MT=1, PArterial=136, Colesterol=319, Glucemia=1, EcgReposo=0, FCM=152, AIE=0, STDep=0.0, Pendiente=2, Vasos=2, TipoDefecto=2, Enfermedad=0.0),\n",
       " Row(Edad=61, Genero=1, MT=0, PArterial=138, Colesterol=166, Glucemia=0, EcgReposo=0, FCM=125, AIE=1, STDep=3.6, Pendiente=1, Vasos=1, TipoDefecto=2, Enfermedad=0.0),\n",
       " Row(Edad=42, Genero=1, MT=0, PArterial=136, Colesterol=315, Glucemia=0, EcgReposo=1, FCM=125, AIE=1, STDep=1.8, Pendiente=1, Vasos=0, TipoDefecto=1, Enfermedad=0.0),\n",
       " Row(Edad=52, Genero=1, MT=0, PArterial=128, Colesterol=204, Glucemia=1, EcgReposo=1, FCM=156, AIE=1, STDep=1.0, Pendiente=1, Vasos=0, TipoDefecto=0, Enfermedad=0.0),\n",
       " Row(Edad=59, Genero=1, MT=2, PArterial=126, Colesterol=218, Glucemia=1, EcgReposo=1, FCM=134, AIE=0, STDep=2.2, Pendiente=1, Vasos=1, TipoDefecto=1, Enfermedad=0.0),\n",
       " Row(Edad=40, Genero=1, MT=0, PArterial=152, Colesterol=223, Glucemia=0, EcgReposo=1, FCM=181, AIE=0, STDep=0.0, Pendiente=2, Vasos=0, TipoDefecto=3, Enfermedad=0.0),\n",
       " Row(Edad=61, Genero=1, MT=0, PArterial=140, Colesterol=207, Glucemia=0, EcgReposo=0, FCM=138, AIE=1, STDep=1.9, Pendiente=2, Vasos=1, TipoDefecto=3, Enfermedad=0.0),\n",
       " Row(Edad=46, Genero=1, MT=0, PArterial=140, Colesterol=311, Glucemia=0, EcgReposo=1, FCM=120, AIE=1, STDep=1.8, Pendiente=1, Vasos=2, TipoDefecto=3, Enfermedad=0.0),\n",
       " Row(Edad=59, Genero=1, MT=3, PArterial=134, Colesterol=204, Glucemia=0, EcgReposo=1, FCM=162, AIE=0, STDep=0.8, Pendiente=2, Vasos=2, TipoDefecto=2, Enfermedad=0.0),\n",
       " Row(Edad=57, Genero=1, MT=1, PArterial=154, Colesterol=232, Glucemia=0, EcgReposo=0, FCM=164, AIE=0, STDep=0.0, Pendiente=2, Vasos=1, TipoDefecto=2, Enfermedad=0.0),\n",
       " Row(Edad=57, Genero=1, MT=0, PArterial=110, Colesterol=335, Glucemia=0, EcgReposo=1, FCM=143, AIE=1, STDep=3.0, Pendiente=1, Vasos=1, TipoDefecto=3, Enfermedad=0.0),\n",
       " Row(Edad=55, Genero=0, MT=0, PArterial=128, Colesterol=205, Glucemia=0, EcgReposo=2, FCM=130, AIE=1, STDep=2.0, Pendiente=1, Vasos=1, TipoDefecto=3, Enfermedad=0.0),\n",
       " Row(Edad=61, Genero=1, MT=0, PArterial=148, Colesterol=203, Glucemia=0, EcgReposo=1, FCM=161, AIE=0, STDep=0.0, Pendiente=2, Vasos=1, TipoDefecto=3, Enfermedad=0.0),\n",
       " Row(Edad=58, Genero=1, MT=0, PArterial=114, Colesterol=318, Glucemia=0, EcgReposo=2, FCM=140, AIE=0, STDep=4.4, Pendiente=0, Vasos=3, TipoDefecto=1, Enfermedad=0.0),\n",
       " Row(Edad=58, Genero=0, MT=0, PArterial=170, Colesterol=225, Glucemia=1, EcgReposo=0, FCM=146, AIE=1, STDep=2.8, Pendiente=1, Vasos=2, TipoDefecto=1, Enfermedad=0.0),\n",
       " Row(Edad=67, Genero=1, MT=2, PArterial=152, Colesterol=212, Glucemia=0, EcgReposo=0, FCM=150, AIE=0, STDep=0.8, Pendiente=1, Vasos=0, TipoDefecto=3, Enfermedad=0.0),\n",
       " Row(Edad=44, Genero=1, MT=0, PArterial=120, Colesterol=169, Glucemia=0, EcgReposo=1, FCM=144, AIE=1, STDep=2.8, Pendiente=0, Vasos=0, TipoDefecto=1, Enfermedad=0.0),\n",
       " Row(Edad=63, Genero=1, MT=0, PArterial=140, Colesterol=187, Glucemia=0, EcgReposo=0, FCM=144, AIE=1, STDep=4.0, Pendiente=2, Vasos=2, TipoDefecto=3, Enfermedad=0.0),\n",
       " Row(Edad=63, Genero=0, MT=0, PArterial=124, Colesterol=197, Glucemia=0, EcgReposo=1, FCM=136, AIE=1, STDep=0.0, Pendiente=1, Vasos=0, TipoDefecto=2, Enfermedad=0.0),\n",
       " Row(Edad=59, Genero=1, MT=0, PArterial=164, Colesterol=176, Glucemia=1, EcgReposo=0, FCM=90, AIE=0, STDep=1.0, Pendiente=1, Vasos=2, TipoDefecto=1, Enfermedad=0.0),\n",
       " Row(Edad=57, Genero=0, MT=0, PArterial=140, Colesterol=241, Glucemia=0, EcgReposo=1, FCM=123, AIE=1, STDep=0.2, Pendiente=1, Vasos=0, TipoDefecto=3, Enfermedad=0.0),\n",
       " Row(Edad=45, Genero=1, MT=3, PArterial=110, Colesterol=264, Glucemia=0, EcgReposo=1, FCM=132, AIE=0, STDep=1.2, Pendiente=1, Vasos=0, TipoDefecto=3, Enfermedad=0.0),\n",
       " Row(Edad=68, Genero=1, MT=0, PArterial=144, Colesterol=193, Glucemia=1, EcgReposo=1, FCM=141, AIE=0, STDep=3.4, Pendiente=1, Vasos=2, TipoDefecto=3, Enfermedad=0.0),\n",
       " Row(Edad=57, Genero=1, MT=0, PArterial=130, Colesterol=131, Glucemia=0, EcgReposo=1, FCM=115, AIE=1, STDep=1.2, Pendiente=1, Vasos=1, TipoDefecto=3, Enfermedad=0.0),\n",
       " Row(Edad=57, Genero=0, MT=1, PArterial=130, Colesterol=236, Glucemia=0, EcgReposo=0, FCM=174, AIE=0, STDep=0.0, Pendiente=1, Vasos=1, TipoDefecto=2, Enfermedad=0.0)]"
      ]
     },
     "execution_count": 165,
     "metadata": {},
     "output_type": "execute_result"
    }
   ],
   "source": [
    "heart_df.collect()"
   ]
  },
  {
   "cell_type": "markdown",
   "metadata": {},
   "source": [
    "LLegados a este punto, nos dimos cuenta de que lo adecuado era cambiar el nombre de los distintos campos al castellano, de manera que sean más comprensibles. Están nombrados de acuerdo al significado de cada columna."
   ]
  },
  {
   "cell_type": "code",
   "execution_count": 8,
   "metadata": {},
   "outputs": [],
   "source": [
    "#RENOMBRAMOS LAS COLUMNAS para una mejor comprension\n",
    "heart_df=heart_df.withColumnRenamed('age','Edad')\n",
    "heart_df=heart_df.withColumnRenamed('sex','Genero')\n",
    "heart_df=heart_df.withColumnRenamed('cp','MT')\n",
    "heart_df=heart_df.withColumnRenamed('trestbps','PArterial')\n",
    "heart_df=heart_df.withColumnRenamed('chol','Colesterol')\n",
    "heart_df=heart_df.withColumnRenamed('fbs','Glucemia')\n",
    "heart_df=heart_df.withColumnRenamed('restecg','EcgReposo')\n",
    "heart_df=heart_df.withColumnRenamed('thalach','FCM')\n",
    "heart_df=heart_df.withColumnRenamed('exang','AIE')\n",
    "heart_df=heart_df.withColumnRenamed('oldpeak','STDep')\n",
    "heart_df=heart_df.withColumnRenamed('slope','Pendiente')\n",
    "heart_df=heart_df.withColumnRenamed('ca','Vasos')\n",
    "heart_df=heart_df.withColumnRenamed('thal','TipoDefecto')\n",
    "heart_df=heart_df.withColumnRenamed('target','Enfermedad')"
   ]
  },
  {
   "cell_type": "markdown",
   "metadata": {},
   "source": [
    "A continuación, empezamos a jugar con distintas consultas de Spark con el objetivo de comprobar que los cambios se habían completado bien y todo se veía correctamente"
   ]
  },
  {
   "cell_type": "code",
   "execution_count": 16,
   "metadata": {
    "collapsed": true
   },
   "outputs": [
    {
     "data": {
      "text/plain": [
       "['Edad',\n",
       " 'Genero',\n",
       " 'MT',\n",
       " 'PArterial',\n",
       " 'Colesterol',\n",
       " 'Glucemia',\n",
       " 'EcgReposo',\n",
       " 'FCM',\n",
       " 'AIE',\n",
       " 'STDep',\n",
       " 'Pendiente',\n",
       " 'Vasos',\n",
       " 'TipoDefecto',\n",
       " 'Enfermedad']"
      ]
     },
     "execution_count": 16,
     "metadata": {},
     "output_type": "execute_result"
    }
   ],
   "source": [
    "#Verificamos que el cambio se ha ejecutado bien\n",
    "heart_df.columns"
   ]
  },
  {
   "cell_type": "code",
   "execution_count": 17,
   "metadata": {
    "collapsed": true
   },
   "outputs": [
    {
     "data": {
      "text/plain": [
       "[Row(Edad=63, Genero=1, MT=3, PArterial=145, Colesterol=233, Glucemia=1, EcgReposo=0, FCM=150, AIE=0, STDep=2.3, Pendiente=0, Vasos=0, TipoDefecto=1, Enfermedad=1),\n",
       " Row(Edad=37, Genero=1, MT=2, PArterial=130, Colesterol=250, Glucemia=0, EcgReposo=1, FCM=187, AIE=0, STDep=3.5, Pendiente=0, Vasos=0, TipoDefecto=2, Enfermedad=1),\n",
       " Row(Edad=41, Genero=0, MT=1, PArterial=130, Colesterol=204, Glucemia=0, EcgReposo=0, FCM=172, AIE=0, STDep=1.4, Pendiente=2, Vasos=0, TipoDefecto=2, Enfermedad=1)]"
      ]
     },
     "execution_count": 17,
     "metadata": {},
     "output_type": "execute_result"
    }
   ],
   "source": [
    "#Cómo se ven las tres primeras filas\n",
    "heart_df.head(3)"
   ]
  },
  {
   "cell_type": "code",
   "execution_count": 18,
   "metadata": {
    "collapsed": true
   },
   "outputs": [
    {
     "name": "stdout",
     "output_type": "stream",
     "text": [
      "+----+\n",
      "|Edad|\n",
      "+----+\n",
      "|  65|\n",
      "|  53|\n",
      "|  34|\n",
      "|  76|\n",
      "|  44|\n",
      "|  47|\n",
      "|  52|\n",
      "|  40|\n",
      "|  57|\n",
      "|  54|\n",
      "|  48|\n",
      "|  64|\n",
      "|  41|\n",
      "|  43|\n",
      "|  37|\n",
      "|  61|\n",
      "|  35|\n",
      "|  59|\n",
      "|  55|\n",
      "|  39|\n",
      "+----+\n",
      "only showing top 20 rows\n",
      "\n"
     ]
    }
   ],
   "source": [
    "#Mostramos la columna Edad \n",
    "heart_df.select('Edad').distinct().show()"
   ]
  },
  {
   "cell_type": "code",
   "execution_count": 7,
   "metadata": {
    "scrolled": true
   },
   "outputs": [
    {
     "name": "stdout",
     "output_type": "stream",
     "text": [
      "+----+------+---+---------+----------+--------+---------+---+---+-----+---------+-----+-----------+----------+\n",
      "|Edad|Genero| MT|PArterial|Colesterol|Glucemia|EcgReposo|FCM|AIE|STDep|Pendiente|Vasos|TipoDefecto|Enfermedad|\n",
      "+----+------+---+---------+----------+--------+---------+---+---+-----+---------+-----+-----------+----------+\n",
      "|  63|     1|  3|      145|       233|       1|        0|150|  0|  2.3|        0|    0|          1|         1|\n",
      "|  37|     1|  2|      130|       250|       0|        1|187|  0|  3.5|        0|    0|          2|         1|\n",
      "|  41|     0|  1|      130|       204|       0|        0|172|  0|  1.4|        2|    0|          2|         1|\n",
      "|  56|     1|  1|      120|       236|       0|        1|178|  0|  0.8|        2|    0|          2|         1|\n",
      "|  57|     0|  0|      120|       354|       0|        1|163|  1|  0.6|        2|    0|          2|         1|\n",
      "|  57|     1|  0|      140|       192|       0|        1|148|  0|  0.4|        1|    0|          1|         1|\n",
      "|  56|     0|  1|      140|       294|       0|        0|153|  0|  1.3|        1|    0|          2|         1|\n",
      "|  44|     1|  1|      120|       263|       0|        1|173|  0|  0.0|        2|    0|          3|         1|\n",
      "|  52|     1|  2|      172|       199|       1|        1|162|  0|  0.5|        2|    0|          3|         1|\n",
      "|  57|     1|  2|      150|       168|       0|        1|174|  0|  1.6|        2|    0|          2|         1|\n",
      "|  54|     1|  0|      140|       239|       0|        1|160|  0|  1.2|        2|    0|          2|         1|\n",
      "|  48|     0|  2|      130|       275|       0|        1|139|  0|  0.2|        2|    0|          2|         1|\n",
      "|  49|     1|  1|      130|       266|       0|        1|171|  0|  0.6|        2|    0|          2|         1|\n",
      "|  64|     1|  3|      110|       211|       0|        0|144|  1|  1.8|        1|    0|          2|         1|\n",
      "|  58|     0|  3|      150|       283|       1|        0|162|  0|  1.0|        2|    0|          2|         1|\n",
      "|  50|     0|  2|      120|       219|       0|        1|158|  0|  1.6|        1|    0|          2|         1|\n",
      "|  58|     0|  2|      120|       340|       0|        1|172|  0|  0.0|        2|    0|          2|         1|\n",
      "|  66|     0|  3|      150|       226|       0|        1|114|  0|  2.6|        0|    0|          2|         1|\n",
      "|  43|     1|  0|      150|       247|       0|        1|171|  0|  1.5|        2|    0|          2|         1|\n",
      "|  69|     0|  3|      140|       239|       0|        1|151|  0|  1.8|        2|    2|          2|         1|\n",
      "+----+------+---+---------+----------+--------+---------+---+---+-----+---------+-----+-----------+----------+\n",
      "only showing top 20 rows\n",
      "\n"
     ]
    }
   ],
   "source": [
    "#Mostramos el dataframe en castellano entero, que no lo habíamos hecho hasta ahora\n",
    "heart_df.show()"
   ]
  },
  {
   "cell_type": "code",
   "execution_count": 20,
   "metadata": {},
   "outputs": [
    {
     "data": {
      "text/plain": [
       "[('Edad', 'int'),\n",
       " ('Genero', 'int'),\n",
       " ('MT', 'int'),\n",
       " ('PArterial', 'int'),\n",
       " ('Colesterol', 'int'),\n",
       " ('Glucemia', 'int'),\n",
       " ('EcgReposo', 'int'),\n",
       " ('FCM', 'int'),\n",
       " ('AIE', 'int'),\n",
       " ('STDep', 'double'),\n",
       " ('Pendiente', 'int'),\n",
       " ('Vasos', 'int'),\n",
       " ('TipoDefecto', 'int'),\n",
       " ('Enfermedad', 'int')]"
      ]
     },
     "execution_count": 20,
     "metadata": {},
     "output_type": "execute_result"
    }
   ],
   "source": [
    "#Lo hacemos para que nos coja el tipo de dato en el schema\n",
    "heart_df.dtypes "
   ]
  },
  {
   "cell_type": "code",
   "execution_count": 329,
   "metadata": {},
   "outputs": [
    {
     "data": {
      "text/plain": [
       "['Edad',\n",
       " 'Genero',\n",
       " 'MT',\n",
       " 'PArterial',\n",
       " 'Colesterol',\n",
       " 'Glucemia',\n",
       " 'EcgReposo',\n",
       " 'FCM',\n",
       " 'AIE',\n",
       " 'STDep',\n",
       " 'Pendiente',\n",
       " 'Vasos',\n",
       " 'TipoDefecto',\n",
       " 'Enfermedad']"
      ]
     },
     "execution_count": 329,
     "metadata": {},
     "output_type": "execute_result"
    }
   ],
   "source": [
    "#Para que capte los nuevos nombres de las columnas en el schema\n",
    "heart_df.schema.names "
   ]
  },
  {
   "cell_type": "code",
   "execution_count": 22,
   "metadata": {},
   "outputs": [
    {
     "data": {
      "text/plain": [
       "StructType(List(StructField(Edad,IntegerType,true),StructField(Genero,IntegerType,true),StructField(MT,IntegerType,true),StructField(PArterial,IntegerType,true),StructField(Colesterol,IntegerType,true),StructField(Glucemia,IntegerType,true),StructField(EcgReposo,IntegerType,true),StructField(FCM,IntegerType,true),StructField(AIE,IntegerType,true),StructField(STDep,DoubleType,true),StructField(Pendiente,IntegerType,true),StructField(Vasos,IntegerType,true),StructField(TipoDefecto,IntegerType,true),StructField(Enfermedad,IntegerType,true)))"
      ]
     },
     "execution_count": 22,
     "metadata": {},
     "output_type": "execute_result"
    }
   ],
   "source": [
    "#Que schema tenemos\n",
    "heart_df.schema"
   ]
  },
  {
   "cell_type": "code",
   "execution_count": 23,
   "metadata": {
    "collapsed": true
   },
   "outputs": [
    {
     "name": "stdout",
     "output_type": "stream",
     "text": [
      "root\n",
      " |-- Edad: integer (nullable = true)\n",
      " |-- Genero: integer (nullable = true)\n",
      " |-- MT: integer (nullable = true)\n",
      " |-- PArterial: integer (nullable = true)\n",
      " |-- Colesterol: integer (nullable = true)\n",
      " |-- Glucemia: integer (nullable = true)\n",
      " |-- EcgReposo: integer (nullable = true)\n",
      " |-- FCM: integer (nullable = true)\n",
      " |-- AIE: integer (nullable = true)\n",
      " |-- STDep: double (nullable = true)\n",
      " |-- Pendiente: integer (nullable = true)\n",
      " |-- Vasos: integer (nullable = true)\n",
      " |-- TipoDefecto: integer (nullable = true)\n",
      " |-- Enfermedad: integer (nullable = true)\n",
      "\n"
     ]
    }
   ],
   "source": [
    "#lo imprimimos\n",
    "heart_df.printSchema()"
   ]
  },
  {
   "cell_type": "markdown",
   "metadata": {},
   "source": [
    "Pese a que nuestro esquema estaba correctamente inferido, decidimos crear el nuestro simplemente por probar y utilizar el siguiente código por si hacía falta. Nunca viene mal el código de más."
   ]
  },
  {
   "cell_type": "code",
   "execution_count": 9,
   "metadata": {},
   "outputs": [],
   "source": [
    "#Creamos nuestro esquema\n",
    "miesquema = StructType([\n",
    "    StructField(\"Edad\", IntegerType(), True),    \n",
    "    StructField(\"Genero\", IntegerType(), True),\n",
    "    StructField(\"MT\", IntegerType(), True),\n",
    "    StructField(\"PArterial\", IntegerType(), True),\n",
    "    StructField(\"Colesterol\", IntegerType(), True),\n",
    "    StructField(\"Glucemia\", IntegerType(), True),\n",
    "    StructField(\"EcgReposo\", IntegerType(), True),\n",
    "    StructField(\"FCM\", IntegerType(), True),\n",
    "    StructField(\"AIE\", IntegerType(), True),\n",
    "    StructField(\"STDep\", DoubleType(), True),\n",
    "    StructField(\"Pendiente\", IntegerType(), True),\n",
    "    StructField(\"Vasos\", IntegerType(), True),\n",
    "    StructField(\"TipoDefecto\", IntegerType(), True),\n",
    "    StructField(\"Enfermedad\", IntegerType(), True)\n",
    "])"
   ]
  },
  {
   "cell_type": "markdown",
   "metadata": {},
   "source": [
    "Debido a que hemos realizado nuestro propio esquema, procedemos a desabilitar la función de inferirlo y colocar el nuestro como el correcto, a pesar de que no hubiese diferencias a simple vista."
   ]
  },
  {
   "cell_type": "code",
   "execution_count": 10,
   "metadata": {},
   "outputs": [],
   "source": [
    "#Colocamos nuestro esquema como el correcto\n",
    "heart_df = spark.read.csv('./heart.csv', header='true', inferSchema= 'false', schema = miesquema )"
   ]
  },
  {
   "cell_type": "code",
   "execution_count": 10,
   "metadata": {},
   "outputs": [
    {
     "data": {
      "text/plain": [
       "StructType(List(StructField(Edad,IntegerType,true),StructField(Genero,IntegerType,true),StructField(MT,IntegerType,true),StructField(PArterial,IntegerType,true),StructField(Colesterol,IntegerType,true),StructField(Glucemia,IntegerType,true),StructField(EcgReposo,IntegerType,true),StructField(FCM,IntegerType,true),StructField(AIE,IntegerType,true),StructField(STDep,DoubleType,true),StructField(Pendiente,IntegerType,true),StructField(Vasos,IntegerType,true),StructField(TipoDefecto,IntegerType,true),StructField(Enfermedad,IntegerType,true)))"
      ]
     },
     "execution_count": 10,
     "metadata": {},
     "output_type": "execute_result"
    }
   ],
   "source": [
    "#Así se ve nuestro esquema\n",
    "miesquema"
   ]
  },
  {
   "cell_type": "markdown",
   "metadata": {},
   "source": [
    "## SQL"
   ]
  },
  {
   "cell_type": "markdown",
   "metadata": {},
   "source": [
    "SQL Spark es un módulo Spark que sirve para procesar datos estructurados y resulta de utilidad como motor SQL distribuido. Es importante recalcar que cuando se habla de datos estructurados se refiere a la información que suele encontrarse en la mayoría de bases de datos, información etiquetada y controlada que puede encontrarse en filas o en columnas.\\\n",
    "Con SQL Spark, podemos consultar datos en bases y otros conjuntos de datos.\\\n",
    "El uso de este módulo consiste en ejecutar consultas SQL"
   ]
  },
  {
   "cell_type": "code",
   "execution_count": 20,
   "metadata": {},
   "outputs": [],
   "source": [
    "#Creamos la tabla\n",
    "heart_df.createOrReplaceTempView(\"heart_tb\")"
   ]
  },
  {
   "cell_type": "code",
   "execution_count": 168,
   "metadata": {},
   "outputs": [
    {
     "data": {
      "text/plain": [
       "[Row(count(1)=303)]"
      ]
     },
     "execution_count": 168,
     "metadata": {},
     "output_type": "execute_result"
    }
   ],
   "source": [
    "#Hacemos un count del número de filas de la tabla\n",
    "spark.sql(\"select count(*) from heart_tb\").collect()"
   ]
  },
  {
   "cell_type": "code",
   "execution_count": 169,
   "metadata": {
    "collapsed": true
   },
   "outputs": [
    {
     "data": {
      "text/plain": [
       "[Row(Edad=65),\n",
       " Row(Edad=53),\n",
       " Row(Edad=34),\n",
       " Row(Edad=76),\n",
       " Row(Edad=44),\n",
       " Row(Edad=47),\n",
       " Row(Edad=52),\n",
       " Row(Edad=40),\n",
       " Row(Edad=57),\n",
       " Row(Edad=54),\n",
       " Row(Edad=48),\n",
       " Row(Edad=64),\n",
       " Row(Edad=41),\n",
       " Row(Edad=43),\n",
       " Row(Edad=37),\n",
       " Row(Edad=61),\n",
       " Row(Edad=35),\n",
       " Row(Edad=59),\n",
       " Row(Edad=55),\n",
       " Row(Edad=39),\n",
       " Row(Edad=49),\n",
       " Row(Edad=51),\n",
       " Row(Edad=69),\n",
       " Row(Edad=63),\n",
       " Row(Edad=77),\n",
       " Row(Edad=50),\n",
       " Row(Edad=45),\n",
       " Row(Edad=38),\n",
       " Row(Edad=70),\n",
       " Row(Edad=62),\n",
       " Row(Edad=29),\n",
       " Row(Edad=60),\n",
       " Row(Edad=56),\n",
       " Row(Edad=58),\n",
       " Row(Edad=71),\n",
       " Row(Edad=68),\n",
       " Row(Edad=42),\n",
       " Row(Edad=66),\n",
       " Row(Edad=46),\n",
       " Row(Edad=67),\n",
       " Row(Edad=74)]"
      ]
     },
     "execution_count": 169,
     "metadata": {},
     "output_type": "execute_result"
    }
   ],
   "source": [
    "#Realizamos una búsqueda de las distintas edades que tiene la tabla. Es similar a buscar los valores únicos con la función unique()\n",
    "spark.sql('select distinct(Edad)from heart_tb').collect()"
   ]
  },
  {
   "cell_type": "code",
   "execution_count": 170,
   "metadata": {
    "collapsed": true
   },
   "outputs": [
    {
     "data": {
      "text/plain": [
       "[Row(Edad=66, Enfermedad=1.0),\n",
       " Row(Edad=71, Enfermedad=1.0),\n",
       " Row(Edad=49, Enfermedad=1.0),\n",
       " Row(Edad=58, Enfermedad=1.0),\n",
       " Row(Edad=53, Enfermedad=1.0),\n",
       " Row(Edad=56, Enfermedad=0.0),\n",
       " Row(Edad=50, Enfermedad=1.0),\n",
       " Row(Edad=46, Enfermedad=1.0),\n",
       " Row(Edad=58, Enfermedad=0.0),\n",
       " Row(Edad=40, Enfermedad=0.0),\n",
       " Row(Edad=77, Enfermedad=0.0),\n",
       " Row(Edad=56, Enfermedad=1.0),\n",
       " Row(Edad=63, Enfermedad=1.0),\n",
       " Row(Edad=64, Enfermedad=0.0),\n",
       " Row(Edad=47, Enfermedad=0.0),\n",
       " Row(Edad=74, Enfermedad=1.0),\n",
       " Row(Edad=47, Enfermedad=1.0),\n",
       " Row(Edad=57, Enfermedad=0.0),\n",
       " Row(Edad=70, Enfermedad=0.0),\n",
       " Row(Edad=48, Enfermedad=1.0),\n",
       " Row(Edad=40, Enfermedad=1.0),\n",
       " Row(Edad=60, Enfermedad=0.0),\n",
       " Row(Edad=67, Enfermedad=1.0),\n",
       " Row(Edad=46, Enfermedad=0.0),\n",
       " Row(Edad=52, Enfermedad=1.0),\n",
       " Row(Edad=54, Enfermedad=1.0),\n",
       " Row(Edad=53, Enfermedad=0.0),\n",
       " Row(Edad=59, Enfermedad=1.0),\n",
       " Row(Edad=61, Enfermedad=1.0),\n",
       " Row(Edad=60, Enfermedad=1.0),\n",
       " Row(Edad=39, Enfermedad=0.0),\n",
       " Row(Edad=55, Enfermedad=0.0),\n",
       " Row(Edad=43, Enfermedad=1.0),\n",
       " Row(Edad=45, Enfermedad=1.0),\n",
       " Row(Edad=68, Enfermedad=0.0),\n",
       " Row(Edad=59, Enfermedad=0.0),\n",
       " Row(Edad=37, Enfermedad=1.0),\n",
       " Row(Edad=65, Enfermedad=0.0),\n",
       " Row(Edad=39, Enfermedad=1.0),\n",
       " Row(Edad=67, Enfermedad=0.0),\n",
       " Row(Edad=42, Enfermedad=1.0),\n",
       " Row(Edad=29, Enfermedad=1.0),\n",
       " Row(Edad=66, Enfermedad=0.0),\n",
       " Row(Edad=41, Enfermedad=1.0),\n",
       " Row(Edad=51, Enfermedad=1.0),\n",
       " Row(Edad=48, Enfermedad=0.0),\n",
       " Row(Edad=69, Enfermedad=1.0),\n",
       " Row(Edad=55, Enfermedad=1.0),\n",
       " Row(Edad=51, Enfermedad=0.0),\n",
       " Row(Edad=69, Enfermedad=0.0),\n",
       " Row(Edad=44, Enfermedad=0.0),\n",
       " Row(Edad=70, Enfermedad=1.0),\n",
       " Row(Edad=38, Enfermedad=0.0),\n",
       " Row(Edad=68, Enfermedad=1.0),\n",
       " Row(Edad=43, Enfermedad=0.0),\n",
       " Row(Edad=62, Enfermedad=0.0),\n",
       " Row(Edad=45, Enfermedad=0.0),\n",
       " Row(Edad=35, Enfermedad=0.0),\n",
       " Row(Edad=38, Enfermedad=1.0),\n",
       " Row(Edad=65, Enfermedad=1.0),\n",
       " Row(Edad=50, Enfermedad=0.0),\n",
       " Row(Edad=34, Enfermedad=1.0),\n",
       " Row(Edad=76, Enfermedad=1.0),\n",
       " Row(Edad=42, Enfermedad=0.0),\n",
       " Row(Edad=49, Enfermedad=0.0),\n",
       " Row(Edad=35, Enfermedad=1.0),\n",
       " Row(Edad=52, Enfermedad=0.0),\n",
       " Row(Edad=44, Enfermedad=1.0),\n",
       " Row(Edad=62, Enfermedad=1.0),\n",
       " Row(Edad=41, Enfermedad=0.0),\n",
       " Row(Edad=63, Enfermedad=0.0),\n",
       " Row(Edad=61, Enfermedad=0.0),\n",
       " Row(Edad=54, Enfermedad=0.0),\n",
       " Row(Edad=64, Enfermedad=1.0),\n",
       " Row(Edad=57, Enfermedad=1.0)]"
      ]
     },
     "execution_count": 170,
     "metadata": {},
     "output_type": "execute_result"
    }
   ],
   "source": [
    "#Hacemos un collect de todos los valores de Edad distintos que hay con todas sus posibilidades de Enfermedad que hay\n",
    "spark.sql('select distinct(Edad), Enfermedad from heart_tb').collect()"
   ]
  },
  {
   "cell_type": "code",
   "execution_count": 28,
   "metadata": {},
   "outputs": [
    {
     "data": {
      "text/plain": [
       "[Row(count(DISTINCT (Edad = 67))=2)]"
      ]
     },
     "execution_count": 28,
     "metadata": {},
     "output_type": "execute_result"
    }
   ],
   "source": [
    "spark.sql(\"select count (distinct Edad = 67) from heart_tb where Enfermedad = 0\").collect()"
   ]
  },
  {
   "cell_type": "code",
   "execution_count": 30,
   "metadata": {},
   "outputs": [
    {
     "data": {
      "text/plain": [
       "[Row(count((Edad = 67))=165)]"
      ]
     },
     "execution_count": 30,
     "metadata": {},
     "output_type": "execute_result"
    }
   ],
   "source": [
    "spark.sql(\"select count(Edad = 67) from heart_tb where Enfermedad = 1\").collect()"
   ]
  },
  {
   "cell_type": "code",
   "execution_count": 41,
   "metadata": {},
   "outputs": [
    {
     "data": {
      "text/plain": [
       "DataFrame[(Colesterol = 135): boolean]"
      ]
     },
     "execution_count": 41,
     "metadata": {},
     "output_type": "execute_result"
    }
   ],
   "source": [
    "spark.sql(\"select Colesterol = 135 from heart_tb where Enfermedad = 0\")"
   ]
  },
  {
   "cell_type": "code",
   "execution_count": 52,
   "metadata": {},
   "outputs": [
    {
     "name": "stdout",
     "output_type": "stream",
     "text": [
      "+---+\n",
      "| MT|\n",
      "+---+\n",
      "|  2|\n",
      "|  2|\n",
      "|  0|\n",
      "|  0|\n",
      "+---+\n",
      "\n"
     ]
    }
   ],
   "source": [
    "#Nos devuelve el tipo de molestia torácica de los pacientes que tienen el colesterol entre 400 y 564\n",
    "spark.sql(\"select MT from heart_tb where Colesterol >= 400 AND Colesterol <= 564\").show()"
   ]
  },
  {
   "cell_type": "code",
   "execution_count": 64,
   "metadata": {},
   "outputs": [
    {
     "name": "stdout",
     "output_type": "stream",
     "text": [
      "+----------+\n",
      "|Colesterol|\n",
      "+----------+\n",
      "|       302|\n",
      "|       265|\n",
      "|       269|\n",
      "|       197|\n",
      "|       245|\n",
      "|       149|\n",
      "|       174|\n",
      "|       322|\n",
      "|       304|\n",
      "|       269|\n",
      "+----------+\n",
      "\n"
     ]
    }
   ],
   "source": [
    "spark.sql(\"select Colesterol from heart_tb where Edad >= 70 AND Edad <= 77\").show()"
   ]
  },
  {
   "cell_type": "code",
   "execution_count": 70,
   "metadata": {},
   "outputs": [
    {
     "name": "stdout",
     "output_type": "stream",
     "text": [
      "+----------+\n",
      "|Enfermedad|\n",
      "+----------+\n",
      "|         1|\n",
      "|         1|\n",
      "|         1|\n",
      "|         1|\n",
      "|         1|\n",
      "|         1|\n",
      "|         1|\n",
      "|         1|\n",
      "|         1|\n",
      "|         0|\n",
      "|         0|\n",
      "|         0|\n",
      "+----------+\n",
      "\n"
     ]
    }
   ],
   "source": [
    "spark.sql(\"select Enfermedad from heart_tb where Edad >= 29 AND Edad <= 38\").show()"
   ]
  },
  {
   "cell_type": "code",
   "execution_count": 172,
   "metadata": {},
   "outputs": [
    {
     "data": {
      "text/plain": [
       "[Row(count(DISTINCT (MT = 2))=2)]"
      ]
     },
     "execution_count": 172,
     "metadata": {},
     "output_type": "execute_result"
    }
   ],
   "source": [
    "spark.sql(\"select count(distinct MT = 2) from heart_tb\").collect()"
   ]
  },
  {
   "cell_type": "code",
   "execution_count": 72,
   "metadata": {},
   "outputs": [
    {
     "data": {
      "text/plain": [
       "[Row(count(DISTINCT (Edad = 65), (Enfermedad = 0))=4)]"
      ]
     },
     "execution_count": 72,
     "metadata": {},
     "output_type": "execute_result"
    }
   ],
   "source": [
    "#pacientes de 65 años que desarrollan una patología\n",
    "spark.sql(\"select count(distinct Edad = 65, Enfermedad = 0) from heart_tb\").collect()"
   ]
  },
  {
   "cell_type": "code",
   "execution_count": 52,
   "metadata": {},
   "outputs": [
    {
     "data": {
      "text/plain": [
       "[Row(count(DISTINCT (Enfermedad = 0))=2)]"
      ]
     },
     "execution_count": 52,
     "metadata": {},
     "output_type": "execute_result"
    }
   ],
   "source": [
    "spark.sql(\"select count(distinct Enfermedad = 0) from heart_tb\").collect()"
   ]
  },
  {
   "cell_type": "markdown",
   "metadata": {},
   "source": [
    "## Transformers"
   ]
  },
  {
   "cell_type": "markdown",
   "metadata": {},
   "source": [
    "El proceso que realizan los transformers nos sirve para escalar, convertir o modificar características.\\\n",
    "Lo primero que vamos a hacer es crear el esquema con los tipos de las variables que vamos a utilizar"
   ]
  },
  {
   "cell_type": "code",
   "execution_count": 11,
   "metadata": {},
   "outputs": [],
   "source": [
    "import pyspark.sql.types as typ\n",
    "import pandas as pd\n",
    "\n",
    "labels = [\n",
    "    (\"Enfermedad\", typ.IntegerType()),\n",
    "    (\"Edad\", typ.IntegerType()),   \n",
    "    (\"Genero\", typ.IntegerType()),\n",
    "    (\"MT\",  typ.IntegerType()),\n",
    "    (\"PArterial\", typ.IntegerType()),\n",
    "    (\"Colesterol\", typ.IntegerType()),\n",
    "    (\"Glucemia\", typ.IntegerType()),\n",
    "    (\"EcgReposo\", typ.IntegerType()),\n",
    "    (\"FCM\", typ.IntegerType()),\n",
    "    (\"AIE\", typ.IntegerType()),\n",
    "    (\"STDep\", typ.DoubleType()),\n",
    "    (\"Pendiente\", typ.IntegerType()),\n",
    "    (\"Vasos\", typ.IntegerType()),\n",
    "    (\"TipoDefecto\",typ.IntegerType())\n",
    "]\n",
    "\n",
    "schema = typ.StructType([\n",
    "   typ.StructField(e[0], e[1], False) for e in labels\n",
    "])"
   ]
  },
  {
   "cell_type": "code",
   "execution_count": 12,
   "metadata": {},
   "outputs": [
    {
     "data": {
      "text/plain": [
       "StructType(List(StructField(Enfermedad,IntegerType,false),StructField(Edad,IntegerType,false),StructField(Genero,IntegerType,false),StructField(MT,IntegerType,false),StructField(PArterial,IntegerType,false),StructField(Colesterol,IntegerType,false),StructField(Glucemia,IntegerType,false),StructField(EcgReposo,IntegerType,false),StructField(FCM,IntegerType,false),StructField(AIE,IntegerType,false),StructField(STDep,DoubleType,false),StructField(Pendiente,IntegerType,false),StructField(Vasos,IntegerType,false),StructField(TipoDefecto,IntegerType,false)))"
      ]
     },
     "execution_count": 12,
     "metadata": {},
     "output_type": "execute_result"
    }
   ],
   "source": [
    "schema"
   ]
  },
  {
   "cell_type": "code",
   "execution_count": 12,
   "metadata": {},
   "outputs": [
    {
     "data": {
      "text/plain": [
       "['Edad',\n",
       " 'Genero',\n",
       " 'MT',\n",
       " 'PArterial',\n",
       " 'Colesterol',\n",
       " 'Glucemia',\n",
       " 'EcgReposo',\n",
       " 'FCM',\n",
       " 'AIE',\n",
       " 'STDep',\n",
       " 'Pendiente',\n",
       " 'Vasos',\n",
       " 'TipoDefecto',\n",
       " 'Enfermedad']"
      ]
     },
     "execution_count": 12,
     "metadata": {},
     "output_type": "execute_result"
    }
   ],
   "source": [
    "heart_df.columns"
   ]
  },
  {
   "cell_type": "code",
   "execution_count": 13,
   "metadata": {
    "scrolled": true
   },
   "outputs": [
    {
     "data": {
      "text/plain": [
       "[('Edad', 'int'),\n",
       " ('Genero', 'int'),\n",
       " ('MT', 'int'),\n",
       " ('PArterial', 'int'),\n",
       " ('Colesterol', 'int'),\n",
       " ('Glucemia', 'int'),\n",
       " ('EcgReposo', 'int'),\n",
       " ('FCM', 'int'),\n",
       " ('AIE', 'int'),\n",
       " ('STDep', 'double'),\n",
       " ('Pendiente', 'int'),\n",
       " ('Vasos', 'int'),\n",
       " ('TipoDefecto', 'int'),\n",
       " ('Enfermedad', 'int')]"
      ]
     },
     "execution_count": 13,
     "metadata": {},
     "output_type": "execute_result"
    }
   ],
   "source": [
    "heart_df.dtypes"
   ]
  },
  {
   "cell_type": "markdown",
   "metadata": {},
   "source": [
    "###### Creamos el transformer"
   ]
  },
  {
   "cell_type": "code",
   "execution_count": 12,
   "metadata": {},
   "outputs": [],
   "source": [
    "import pyspark.ml.feature as ft"
   ]
  },
  {
   "cell_type": "code",
   "execution_count": 13,
   "metadata": {},
   "outputs": [],
   "source": [
    "#para que sea de tipo double, porque así es como debemos introducir sus valores\n",
    "from pyspark.sql.types import DoubleType\n",
    "heart_df = heart_df.withColumn(\"Enfermedad\", heart_df[\"Enfermedad\"].cast(DoubleType()))"
   ]
  },
  {
   "cell_type": "markdown",
   "metadata": {},
   "source": [
    "Creamos un transformer del tipo Vector Assembler que guarda todas nuestras variables menos la variable objetivo (Enfermedad) en un vector que llamaremos features. "
   ]
  },
  {
   "cell_type": "code",
   "execution_count": 14,
   "metadata": {},
   "outputs": [],
   "source": [
    "featuresCreator = ft.VectorAssembler(\n",
    "    inputCols=['Edad','Genero','MT','PArterial','Colesterol','Glucemia','EcgReposo','FCM','AIE','STDep','Pendiente','Vasos','TipoDefecto'], \n",
    "    outputCol='features'\n",
    ")\n",
    "output = featuresCreator.transform(heart_df)"
   ]
  },
  {
   "cell_type": "code",
   "execution_count": 15,
   "metadata": {
    "collapsed": true
   },
   "outputs": [
    {
     "name": "stdout",
     "output_type": "stream",
     "text": [
      "Assembled columns to vector column 'features'\n",
      "+------------------------------------------------------------+----------+\n",
      "|features                                                    |Enfermedad|\n",
      "+------------------------------------------------------------+----------+\n",
      "|[63.0,1.0,3.0,145.0,233.0,1.0,0.0,150.0,0.0,2.3,0.0,0.0,1.0]|1.0       |\n",
      "|[37.0,1.0,2.0,130.0,250.0,0.0,1.0,187.0,0.0,3.5,0.0,0.0,2.0]|1.0       |\n",
      "|[41.0,0.0,1.0,130.0,204.0,0.0,0.0,172.0,0.0,1.4,2.0,0.0,2.0]|1.0       |\n",
      "|[56.0,1.0,1.0,120.0,236.0,0.0,1.0,178.0,0.0,0.8,2.0,0.0,2.0]|1.0       |\n",
      "|[57.0,0.0,0.0,120.0,354.0,0.0,1.0,163.0,1.0,0.6,2.0,0.0,2.0]|1.0       |\n",
      "|[57.0,1.0,0.0,140.0,192.0,0.0,1.0,148.0,0.0,0.4,1.0,0.0,1.0]|1.0       |\n",
      "|[56.0,0.0,1.0,140.0,294.0,0.0,0.0,153.0,0.0,1.3,1.0,0.0,2.0]|1.0       |\n",
      "|[44.0,1.0,1.0,120.0,263.0,0.0,1.0,173.0,0.0,0.0,2.0,0.0,3.0]|1.0       |\n",
      "|[52.0,1.0,2.0,172.0,199.0,1.0,1.0,162.0,0.0,0.5,2.0,0.0,3.0]|1.0       |\n",
      "|[57.0,1.0,2.0,150.0,168.0,0.0,1.0,174.0,0.0,1.6,2.0,0.0,2.0]|1.0       |\n",
      "|[54.0,1.0,0.0,140.0,239.0,0.0,1.0,160.0,0.0,1.2,2.0,0.0,2.0]|1.0       |\n",
      "|[48.0,0.0,2.0,130.0,275.0,0.0,1.0,139.0,0.0,0.2,2.0,0.0,2.0]|1.0       |\n",
      "|[49.0,1.0,1.0,130.0,266.0,0.0,1.0,171.0,0.0,0.6,2.0,0.0,2.0]|1.0       |\n",
      "|[64.0,1.0,3.0,110.0,211.0,0.0,0.0,144.0,1.0,1.8,1.0,0.0,2.0]|1.0       |\n",
      "|[58.0,0.0,3.0,150.0,283.0,1.0,0.0,162.0,0.0,1.0,2.0,0.0,2.0]|1.0       |\n",
      "|[50.0,0.0,2.0,120.0,219.0,0.0,1.0,158.0,0.0,1.6,1.0,0.0,2.0]|1.0       |\n",
      "|[58.0,0.0,2.0,120.0,340.0,0.0,1.0,172.0,0.0,0.0,2.0,0.0,2.0]|1.0       |\n",
      "|[66.0,0.0,3.0,150.0,226.0,0.0,1.0,114.0,0.0,2.6,0.0,0.0,2.0]|1.0       |\n",
      "|[43.0,1.0,0.0,150.0,247.0,0.0,1.0,171.0,0.0,1.5,2.0,0.0,2.0]|1.0       |\n",
      "|[69.0,0.0,3.0,140.0,239.0,0.0,1.0,151.0,0.0,1.8,2.0,2.0,2.0]|1.0       |\n",
      "+------------------------------------------------------------+----------+\n",
      "only showing top 20 rows\n",
      "\n"
     ]
    }
   ],
   "source": [
    "#output es un nuevo dataframe que contiene las columnas originales y la creada\n",
    "print(\"Assembled columns to vector column 'features'\")\n",
    "output.select(\"features\", \"Enfermedad\").show(truncate=False)"
   ]
  },
  {
   "cell_type": "code",
   "execution_count": 16,
   "metadata": {},
   "outputs": [
    {
     "data": {
      "text/plain": [
       "VectorAssembler_4b0495148c588639290f"
      ]
     },
     "execution_count": 16,
     "metadata": {},
     "output_type": "execute_result"
    }
   ],
   "source": [
    "featuresCreator"
   ]
  },
  {
   "cell_type": "code",
   "execution_count": 17,
   "metadata": {},
   "outputs": [
    {
     "data": {
      "text/plain": [
       "DataFrame[Edad: int, Genero: int, MT: int, PArterial: int, Colesterol: int, Glucemia: int, EcgReposo: int, FCM: int, AIE: int, STDep: double, Pendiente: int, Vasos: int, TipoDefecto: int, Enfermedad: double]"
      ]
     },
     "execution_count": 17,
     "metadata": {},
     "output_type": "execute_result"
    }
   ],
   "source": [
    "heart_df"
   ]
  },
  {
   "cell_type": "code",
   "execution_count": 16,
   "metadata": {},
   "outputs": [
    {
     "data": {
      "text/plain": [
       "DataFrame[Edad: int, Genero: int, MT: int, PArterial: int, Colesterol: int, Glucemia: int, EcgReposo: int, FCM: int, AIE: int, STDep: double, Pendiente: int, Vasos: int, TipoDefecto: int, Enfermedad: double, features: vector]"
      ]
     },
     "execution_count": 16,
     "metadata": {},
     "output_type": "execute_result"
    }
   ],
   "source": [
    "output"
   ]
  },
  {
   "cell_type": "markdown",
   "metadata": {},
   "source": [
    "# Algoritmos empleados:"
   ]
  },
  {
   "cell_type": "markdown",
   "metadata": {},
   "source": [
    "El nuestro se trata de un problema de clasificación. El DataFrame cuenta con entradas y salidas hasta concluir en una solución de dos tipos distintos.\\\n",
    "Ya que nuestro target es una variable discreta vamos a utilizar algoritmos de clasificación, en nuestro caso hemos elegido random forest y logistic regression  ya que con estos algoritmos se pueden emplear para determinar la enfermedad de una persona de acuerdo a los síntomas que presenta. "
   ]
  },
  {
   "cell_type": "markdown",
   "metadata": {},
   "source": [
    "# 1. Logistic Regression"
   ]
  },
  {
   "cell_type": "markdown",
   "metadata": {},
   "source": [
    "Definimos los valores iniciales para los parametros de regresion logistica: maxIter y regPram"
   ]
  },
  {
   "cell_type": "code",
   "execution_count": 174,
   "metadata": {},
   "outputs": [],
   "source": [
    "import pyspark.ml.classification as cl\n",
    "\n",
    "logistic = cl.LogisticRegression(\n",
    "    maxIter=2, \n",
    "    #regParam corresponds to  λ, debe ser >=0, por defecto 0.0\n",
    "    regParam=0.01, \n",
    "    labelCol='Enfermedad')\n",
    "#después te ejecuta todo y como una de las mejoras, te dice cual es la mejor combinación de parámetros"
   ]
  },
  {
   "cell_type": "markdown",
   "metadata": {},
   "source": [
    "###### Creamos el pipeline"
   ]
  },
  {
   "cell_type": "markdown",
   "metadata": {},
   "source": [
    "A continuación, creamos un pipeline que nos sirve para encapsular el estimador y los transformers para ejecutarlos."
   ]
  },
  {
   "cell_type": "code",
   "execution_count": 175,
   "metadata": {},
   "outputs": [],
   "source": [
    "from pyspark.ml import Pipeline\n",
    "#el pipeline pasará por 2 estados\n",
    "pipeline = Pipeline(stages=[featuresCreator, logistic])"
   ]
  },
  {
   "cell_type": "markdown",
   "metadata": {},
   "source": [
    "###### Conjuntos de train y test"
   ]
  },
  {
   "cell_type": "markdown",
   "metadata": {},
   "source": [
    "Dividimos los datos en un 80% para el conjunto train y un 20% para el test, para después entrenar al modelo"
   ]
  },
  {
   "cell_type": "code",
   "execution_count": 176,
   "metadata": {},
   "outputs": [],
   "source": [
    "heart_train, heart_test = heart_df.randomSplit([0.8, 0.2], seed=666)"
   ]
  },
  {
   "cell_type": "code",
   "execution_count": 177,
   "metadata": {},
   "outputs": [
    {
     "data": {
      "text/plain": [
       "Row(Edad=29, Genero=1, MT=1, PArterial=130, Colesterol=204, Glucemia=0, EcgReposo=0, FCM=202, AIE=0, STDep=0.0, Pendiente=2, Vasos=0, TipoDefecto=2, Enfermedad=1.0)"
      ]
     },
     "execution_count": 177,
     "metadata": {},
     "output_type": "execute_result"
    }
   ],
   "source": [
    "heart_train.head()"
   ]
  },
  {
   "cell_type": "code",
   "execution_count": 178,
   "metadata": {},
   "outputs": [
    {
     "data": {
      "text/plain": [
       "Row(Edad=35, Genero=1, MT=0, PArterial=126, Colesterol=282, Glucemia=0, EcgReposo=0, FCM=156, AIE=1, STDep=0.0, Pendiente=2, Vasos=0, TipoDefecto=3, Enfermedad=0.0)"
      ]
     },
     "execution_count": 178,
     "metadata": {},
     "output_type": "execute_result"
    }
   ],
   "source": [
    "heart_test.head()"
   ]
  },
  {
   "cell_type": "markdown",
   "metadata": {},
   "source": [
    "#### Entrenamos el modelo"
   ]
  },
  {
   "cell_type": "code",
   "execution_count": 179,
   "metadata": {},
   "outputs": [],
   "source": [
    "model = pipeline.fit(heart_train)"
   ]
  },
  {
   "cell_type": "code",
   "execution_count": 180,
   "metadata": {},
   "outputs": [],
   "source": [
    "test_model = model.transform(heart_test)"
   ]
  },
  {
   "cell_type": "code",
   "execution_count": 181,
   "metadata": {},
   "outputs": [
    {
     "data": {
      "text/plain": [
       "[Row(Edad=35, Genero=1, MT=0, PArterial=126, Colesterol=282, Glucemia=0, EcgReposo=0, FCM=156, AIE=1, STDep=0.0, Pendiente=2, Vasos=0, TipoDefecto=3, Enfermedad=0.0, features=DenseVector([35.0, 1.0, 0.0, 126.0, 282.0, 0.0, 0.0, 156.0, 1.0, 0.0, 2.0, 0.0, 3.0]), rawPrediction=DenseVector([-0.1096, 0.1096]), probability=DenseVector([0.4726, 0.5274]), prediction=1.0)]"
      ]
     },
     "execution_count": 181,
     "metadata": {},
     "output_type": "execute_result"
    }
   ],
   "source": [
    "test_model.take(1)#de la primera columna\n",
    "#nos devuleve un vector disperso 9 columnas y la 0 tiene un 1 y etc. Features es el vector disperso con todas las columnas que yo tengo guardadas. Las que no aparecen son 0\n",
    "#rawprediction y probability los habrá sacado del test\n",
    "#el valor buscado lo ha metido en prediction"
   ]
  },
  {
   "cell_type": "markdown",
   "metadata": {},
   "source": [
    "# Evaluamos el modelo"
   ]
  },
  {
   "cell_type": "markdown",
   "metadata": {},
   "source": [
    "#### Curvas ROC y PR"
   ]
  },
  {
   "cell_type": "markdown",
   "metadata": {},
   "source": [
    "Las curvas PR y ROC nos ayudan a ver el equilibrio entre precisión y sensibilidad de un modelo.\n"
   ]
  },
  {
   "cell_type": "code",
   "execution_count": 182,
   "metadata": {},
   "outputs": [
    {
     "name": "stdout",
     "output_type": "stream",
     "text": [
      "0.898989898989899\n",
      "0.909626202913287\n"
     ]
    }
   ],
   "source": [
    "import pyspark.ml.evaluation as ev\n",
    "\n",
    "evaluatorLG = ev.BinaryClassificationEvaluator(\n",
    "    rawPredictionCol='probability', \n",
    "    labelCol='Enfermedad')\n",
    "\n",
    "print(evaluatorLG.evaluate(test_model, \n",
    "     {evaluatorLG.metricName: 'areaUnderROC'})) #area bajo la curva ROC\n",
    "print(evaluatorLG.evaluate(test_model, {evaluatorLG.metricName: 'areaUnderPR'})) #bajo precisión y recall"
   ]
  },
  {
   "cell_type": "markdown",
   "metadata": {},
   "source": [
    "#### Accuracy, F1, precision y recall:"
   ]
  },
  {
   "cell_type": "markdown",
   "metadata": {},
   "source": [
    "Precisión - La precisión es la relación entre las observaciones positivas correctamente previstas y el total de observaciones positivas previstas.\\\n",
    "Recall (Sensibilidad) - El recall es la relación entre las observaciones positivas correctamente predichas y todas las observaciones de la clase real.\\\n",
    "Puntuación F1 - La puntuación F1 es el promedio ponderado de la precisión y el recall. Por lo tanto, esta puntuación tiene en cuenta tanto los falsos positivos como los falsos negativos."
   ]
  },
  {
   "cell_type": "code",
   "execution_count": 183,
   "metadata": {},
   "outputs": [],
   "source": [
    "predictions = model.transform(heart_test)"
   ]
  },
  {
   "cell_type": "code",
   "execution_count": 184,
   "metadata": {},
   "outputs": [
    {
     "name": "stdout",
     "output_type": "stream",
     "text": [
      "Accuracy = 0.777778\n",
      "f1 = 0.772696\n",
      "weightedPrecision = 0.794531\n",
      "weightedRecall = 0.777778\n"
     ]
    }
   ],
   "source": [
    "evaluatorALG = ev.MulticlassClassificationEvaluator(labelCol=\"Enfermedad\", metricName=\"accuracy\")\n",
    "accuracy = evaluatorALG.evaluate(predictions)\n",
    "print(\"Accuracy = %g\" % accuracy)\n",
    " \n",
    "evaluatorf1 = ev.MulticlassClassificationEvaluator(labelCol=\"Enfermedad\", metricName=\"f1\")\n",
    "f1 = evaluatorf1.evaluate(predictions)\n",
    "print(\"f1 = %g\" % f1)\n",
    " \n",
    "evaluatorwp = ev.MulticlassClassificationEvaluator(labelCol=\"Enfermedad\", metricName=\"weightedPrecision\")\n",
    "wp = evaluatorwp.evaluate(predictions)\n",
    "print(\"weightedPrecision = %g\" % wp)\n",
    " \n",
    "evaluatorwr = ev.MulticlassClassificationEvaluator(labelCol=\"Enfermedad\", metricName=\"weightedRecall\")\n",
    "wr = evaluatorwr.evaluate(predictions)\n",
    "print(\"weightedRecall = %g\" % wr)"
   ]
  },
  {
   "cell_type": "markdown",
   "metadata": {},
   "source": [
    "# Hyper-tunning de los parámetros para LR"
   ]
  },
  {
   "cell_type": "markdown",
   "metadata": {},
   "source": [
    "El hyper-tunning de los parámetros consiste en mejorar el modelo estudiando cual resulta ser la mejor combinación de parámetros a introducir en el algoritmo.\\\n",
    "Al dar con una combinación optimizada, a su vez mejoraremos los resultados del modelo."
   ]
  },
  {
   "cell_type": "markdown",
   "metadata": {},
   "source": [
    "El proceso de ajuste optimiza los parámetros del modelo para que éste se ajuste a los datos de entrenamiento tan bien como pueda."
   ]
  },
  {
   "cell_type": "code",
   "execution_count": 185,
   "metadata": {},
   "outputs": [],
   "source": [
    "import pyspark.ml.tuning as tune"
   ]
  },
  {
   "cell_type": "code",
   "execution_count": 186,
   "metadata": {},
   "outputs": [],
   "source": [
    "evaluator = ev.BinaryClassificationEvaluator(rawPredictionCol='probability', labelCol='Enfermedad')"
   ]
  },
  {
   "cell_type": "markdown",
   "metadata": {},
   "source": [
    "Creamos un grid donde establecemos diferentes valores de los parámetros y evaluamos como se comportan en el algorimo. "
   ]
  },
  {
   "cell_type": "code",
   "execution_count": 187,
   "metadata": {},
   "outputs": [],
   "source": [
    "logistic = cl.LogisticRegression(labelCol='Enfermedad')\n",
    "\n",
    "grid_lg = tune.ParamGridBuilder().addGrid(logistic.maxIter, [2, 10, 50]).addGrid(logistic.regParam, [0.01, 0.05, 0.3]).build()"
   ]
  },
  {
   "cell_type": "code",
   "execution_count": 188,
   "metadata": {},
   "outputs": [],
   "source": [
    "cv = tune.CrossValidator(estimator=logistic, estimatorParamMaps=grid_lg , evaluator=evaluator)"
   ]
  },
  {
   "cell_type": "code",
   "execution_count": 209,
   "metadata": {},
   "outputs": [],
   "source": [
    "pipeline = Pipeline(stages=[featuresCreator])\n",
    "data_transformer = pipeline.fit(heart_train)"
   ]
  },
  {
   "cell_type": "code",
   "execution_count": 190,
   "metadata": {},
   "outputs": [],
   "source": [
    "cvModel = cv.fit(data_transformer.transform(heart_train))"
   ]
  },
  {
   "cell_type": "markdown",
   "metadata": {},
   "source": [
    "#### Evaluamos los resultados obtenidos"
   ]
  },
  {
   "cell_type": "markdown",
   "metadata": {},
   "source": [
    "Realizamos un proceso parecido al inicial en el que evaluamos el algoritmo"
   ]
  },
  {
   "cell_type": "code",
   "execution_count": 191,
   "metadata": {},
   "outputs": [
    {
     "name": "stdout",
     "output_type": "stream",
     "text": [
      "0.908080808080808\n",
      "0.9172456820888996\n"
     ]
    }
   ],
   "source": [
    "data_train = data_transformer.transform(heart_test)\n",
    "results = cvModel.transform(data_train)\n",
    "\n",
    "print(evaluator.evaluate(results, {evaluator.metricName: 'areaUnderROC'}))\n",
    "print(evaluator.evaluate(results, {evaluator.metricName: 'areaUnderPR'}))"
   ]
  },
  {
   "cell_type": "markdown",
   "metadata": {},
   "source": [
    "#### Obtenemos los parametros empleados "
   ]
  },
  {
   "cell_type": "code",
   "execution_count": 192,
   "metadata": {},
   "outputs": [
    {
     "data": {
      "text/plain": [
       "([{'maxIter': 50}, {'regParam': 0.3}], 0.9003040671645325)"
      ]
     },
     "execution_count": 192,
     "metadata": {},
     "output_type": "execute_result"
    }
   ],
   "source": [
    "results = [\n",
    "    ([{key.name: paramValue} \n",
    "            for key, paramValue \n",
    "            in zip(\n",
    "                params.keys(), \n",
    "                params.values())], \n",
    "                metric) \n",
    "    for params, metric \n",
    "    in zip(\n",
    "        cvModel.getEstimatorParamMaps(), \n",
    "        cvModel.avgMetrics)]\n",
    "\n",
    "sorted(results, key=lambda el: el[1], reverse=True)[0]"
   ]
  },
  {
   "cell_type": "code",
   "execution_count": 193,
   "metadata": {},
   "outputs": [
    {
     "data": {
      "text/plain": [
       "50"
      ]
     },
     "execution_count": 193,
     "metadata": {},
     "output_type": "execute_result"
    }
   ],
   "source": [
    "cvModel.bestModel._java_obj.getMaxIter()"
   ]
  },
  {
   "cell_type": "code",
   "execution_count": 194,
   "metadata": {},
   "outputs": [
    {
     "data": {
      "text/plain": [
       "0.3"
      ]
     },
     "execution_count": 194,
     "metadata": {},
     "output_type": "execute_result"
    }
   ],
   "source": [
    "cvModel.bestModel._java_obj.getRegParam()"
   ]
  },
  {
   "cell_type": "markdown",
   "metadata": {},
   "source": [
    "Según los resultados obtenidos, los parámetros más adecuados a introducir serían:\n",
    "- MaxIter = 50\n",
    "- RegParam = 0.3"
   ]
  },
  {
   "cell_type": "code",
   "execution_count": 210,
   "metadata": {},
   "outputs": [],
   "source": [
    "predictions = data_transformer.transform(heart_test)"
   ]
  },
  {
   "cell_type": "code",
   "execution_count": 211,
   "metadata": {},
   "outputs": [
    {
     "name": "stdout",
     "output_type": "stream",
     "text": [
      "Accuracy = 0.825397\n",
      "f1 = 0.822238\n",
      "weightedPrecision = 0.840735\n",
      "weightedRecall = 0.825397\n"
     ]
    }
   ],
   "source": [
    "evaluatorALG = ev.MulticlassClassificationEvaluator(labelCol=\"Enfermedad\", metricName=\"accuracy\")\n",
    "accuracy = evaluatorALG.evaluate(predictions)\n",
    "print(\"Accuracy = %g\" % accuracy)\n",
    " \n",
    "evaluatorf1 = ev.MulticlassClassificationEvaluator(labelCol=\"Enfermedad\", metricName=\"f1\")\n",
    "f1 = evaluatorf1.evaluate(predictions)\n",
    "print(\"f1 = %g\" % f1)\n",
    " \n",
    "evaluatorwp = ev.MulticlassClassificationEvaluator(labelCol=\"Enfermedad\", metricName=\"weightedPrecision\")\n",
    "wp = evaluatorwp.evaluate(predictions)\n",
    "print(\"weightedPrecision = %g\" % wp)\n",
    " \n",
    "evaluatorwr = ev.MulticlassClassificationEvaluator(labelCol=\"Enfermedad\", metricName=\"weightedRecall\")\n",
    "wr = evaluatorwr.evaluate(predictions)\n",
    "print(\"weightedRecall = %g\" % wr)"
   ]
  },
  {
   "cell_type": "markdown",
   "metadata": {},
   "source": [
    "# Cross validation con k fold para LR"
   ]
  },
  {
   "cell_type": "markdown",
   "metadata": {},
   "source": [
    "Es una técnica de particionado de datos, que  se emplea para conseguir los resultados más óptimos para el algoritmo."
   ]
  },
  {
   "cell_type": "code",
   "execution_count": 35,
   "metadata": {},
   "outputs": [],
   "source": [
    "from pyspark.ml.evaluation import BinaryClassificationEvaluator\n",
    "from pyspark.ml.tuning import CrossValidator, ParamGridBuilder\n",
    "paramGrid = ParamGridBuilder() \\\n",
    "    .addGrid(logistic.regParam, [0.3]) \\\n",
    "    .addGrid(logistic.maxIter, [50]) \\\n",
    "    .build()\n",
    "\n",
    "crossval = CrossValidator(estimator=pipeline,\n",
    "                          estimatorParamMaps=paramGrid,\n",
    "                          evaluator=BinaryClassificationEvaluator(rawPredictionCol='Enfermedad', labelCol='Enfermedad'),\n",
    "                          numFolds=3)  # use 3+ folds in practice"
   ]
  },
  {
   "cell_type": "code",
   "execution_count": 36,
   "metadata": {},
   "outputs": [],
   "source": [
    "# Run cross-validation, and choose the best set of parameters.\n",
    "cvModelKF = crossval.fit(heart_train)"
   ]
  },
  {
   "cell_type": "code",
   "execution_count": 37,
   "metadata": {},
   "outputs": [],
   "source": [
    "test = heart_test"
   ]
  },
  {
   "cell_type": "code",
   "execution_count": 38,
   "metadata": {
    "collapsed": true
   },
   "outputs": [
    {
     "name": "stdout",
     "output_type": "stream",
     "text": [
      "Row(Enfermedad=0.0)\n",
      "Row(Enfermedad=0.0)\n",
      "Row(Enfermedad=1.0)\n",
      "Row(Enfermedad=1.0)\n",
      "Row(Enfermedad=1.0)\n",
      "Row(Enfermedad=1.0)\n",
      "Row(Enfermedad=1.0)\n",
      "Row(Enfermedad=1.0)\n",
      "Row(Enfermedad=0.0)\n",
      "Row(Enfermedad=1.0)\n",
      "Row(Enfermedad=1.0)\n",
      "Row(Enfermedad=1.0)\n",
      "Row(Enfermedad=0.0)\n",
      "Row(Enfermedad=1.0)\n",
      "Row(Enfermedad=1.0)\n",
      "Row(Enfermedad=1.0)\n",
      "Row(Enfermedad=0.0)\n",
      "Row(Enfermedad=1.0)\n",
      "Row(Enfermedad=1.0)\n",
      "Row(Enfermedad=0.0)\n",
      "Row(Enfermedad=0.0)\n",
      "Row(Enfermedad=1.0)\n",
      "Row(Enfermedad=0.0)\n",
      "Row(Enfermedad=0.0)\n",
      "Row(Enfermedad=1.0)\n",
      "Row(Enfermedad=1.0)\n",
      "Row(Enfermedad=0.0)\n",
      "Row(Enfermedad=0.0)\n",
      "Row(Enfermedad=1.0)\n",
      "Row(Enfermedad=1.0)\n",
      "Row(Enfermedad=0.0)\n",
      "Row(Enfermedad=0.0)\n",
      "Row(Enfermedad=1.0)\n",
      "Row(Enfermedad=0.0)\n",
      "Row(Enfermedad=1.0)\n",
      "Row(Enfermedad=1.0)\n",
      "Row(Enfermedad=1.0)\n",
      "Row(Enfermedad=0.0)\n",
      "Row(Enfermedad=1.0)\n",
      "Row(Enfermedad=1.0)\n",
      "Row(Enfermedad=1.0)\n",
      "Row(Enfermedad=0.0)\n",
      "Row(Enfermedad=0.0)\n",
      "Row(Enfermedad=1.0)\n",
      "Row(Enfermedad=0.0)\n",
      "Row(Enfermedad=1.0)\n",
      "Row(Enfermedad=0.0)\n",
      "Row(Enfermedad=0.0)\n",
      "Row(Enfermedad=0.0)\n",
      "Row(Enfermedad=0.0)\n",
      "Row(Enfermedad=0.0)\n",
      "Row(Enfermedad=0.0)\n",
      "Row(Enfermedad=0.0)\n",
      "Row(Enfermedad=0.0)\n",
      "Row(Enfermedad=1.0)\n",
      "Row(Enfermedad=0.0)\n",
      "Row(Enfermedad=0.0)\n",
      "Row(Enfermedad=1.0)\n",
      "Row(Enfermedad=1.0)\n",
      "Row(Enfermedad=0.0)\n",
      "Row(Enfermedad=1.0)\n",
      "Row(Enfermedad=0.0)\n",
      "Row(Enfermedad=1.0)\n"
     ]
    }
   ],
   "source": [
    "prediction = cvModelKF.transform(test)\n",
    "selected = prediction.select('Enfermedad')\n",
    "for row in selected.collect():\n",
    "    print(row)"
   ]
  },
  {
   "cell_type": "markdown",
   "metadata": {},
   "source": [
    "#### Evaluamos el modelo y vemos si ha mejorado"
   ]
  },
  {
   "cell_type": "code",
   "execution_count": 53,
   "metadata": {},
   "outputs": [],
   "source": [
    "predictions = model.transform(heart_train)"
   ]
  },
  {
   "cell_type": "code",
   "execution_count": 54,
   "metadata": {},
   "outputs": [
    {
     "name": "stdout",
     "output_type": "stream",
     "text": [
      "Accuracy = 0.85\n",
      "f1 = 0.848849\n",
      "weightedPrecision = 0.852083\n",
      "weightedRecall = 0.85\n"
     ]
    }
   ],
   "source": [
    "evaluatorALG = ev.MulticlassClassificationEvaluator(labelCol=\"Enfermedad\", metricName=\"accuracy\")\n",
    "accuracy = evaluatorALG.evaluate(predictions)\n",
    "print(\"Accuracy = %g\" % accuracy)\n",
    " \n",
    "evaluatorf1 = ev.MulticlassClassificationEvaluator(labelCol=\"Enfermedad\", metricName=\"f1\")\n",
    "f1 = evaluatorf1.evaluate(predictions)\n",
    "print(\"f1 = %g\" % f1)\n",
    " \n",
    "evaluatorwp = ev.MulticlassClassificationEvaluator(labelCol=\"Enfermedad\", metricName=\"weightedPrecision\")\n",
    "wp = evaluatorwp.evaluate(predictions)\n",
    "print(\"weightedPrecision = %g\" % wp)\n",
    " \n",
    "evaluatorwr = ev.MulticlassClassificationEvaluator(labelCol=\"Enfermedad\", metricName=\"weightedRecall\")\n",
    "wr = evaluatorwr.evaluate(predictions)\n",
    "print(\"weightedRecall = %g\" % wr)"
   ]
  },
  {
   "cell_type": "markdown",
   "metadata": {},
   "source": [
    "# 2. Random Forest  "
   ]
  },
  {
   "cell_type": "markdown",
   "metadata": {},
   "source": [
    "Definimos los valores iniciales para los parametros de random forest: numTrees y maxDepth"
   ]
  },
  {
   "cell_type": "markdown",
   "metadata": {},
   "source": [
    "En este caso hacemos una partición de los datos en train y test diferente"
   ]
  },
  {
   "cell_type": "code",
   "execution_count": 55,
   "metadata": {},
   "outputs": [],
   "source": [
    "heart_trainRF, heart_testRF =  heart_df.randomSplit([0.7, 0.3], seed=666)"
   ]
  },
  {
   "cell_type": "code",
   "execution_count": 56,
   "metadata": {},
   "outputs": [],
   "source": [
    "classifier = cl.RandomForestClassifier(\n",
    "    numTrees=5, \n",
    "    maxDepth=5, \n",
    "    labelCol='Enfermedad')\n",
    "\n",
    "pipeline = Pipeline(\n",
    "    stages=[featuresCreator, classifier])\n",
    "\n",
    "model = pipeline.fit(heart_trainRF)\n",
    "test = model.transform(heart_testRF)"
   ]
  },
  {
   "cell_type": "code",
   "execution_count": 57,
   "metadata": {},
   "outputs": [
    {
     "data": {
      "text/plain": [
       "[Row(Edad=35, Genero=1, MT=0, PArterial=126, Colesterol=282, Glucemia=0, EcgReposo=0, FCM=156, AIE=1, STDep=0.0, Pendiente=2, Vasos=0, TipoDefecto=3, Enfermedad=0.0, features=DenseVector([35.0, 1.0, 0.0, 126.0, 282.0, 0.0, 0.0, 156.0, 1.0, 0.0, 2.0, 0.0, 3.0]), rawPrediction=DenseVector([1.9333, 3.0667]), probability=DenseVector([0.3867, 0.6133]), prediction=1.0)]"
      ]
     },
     "execution_count": 57,
     "metadata": {},
     "output_type": "execute_result"
    }
   ],
   "source": [
    "test.take(1)"
   ]
  },
  {
   "cell_type": "markdown",
   "metadata": {},
   "source": [
    "# Evaluamos el modelo"
   ]
  },
  {
   "cell_type": "markdown",
   "metadata": {},
   "source": [
    "#### Curvas ROC y PR"
   ]
  },
  {
   "cell_type": "code",
   "execution_count": 58,
   "metadata": {},
   "outputs": [
    {
     "name": "stdout",
     "output_type": "stream",
     "text": [
      "0.8608695652173914\n",
      "0.8113627367542955\n"
     ]
    }
   ],
   "source": [
    "import pyspark.ml.evaluation as ev\n",
    "\n",
    "evaluatorRF = ev.BinaryClassificationEvaluator(rawPredictionCol='probability', labelCol='Enfermedad')\n",
    "\n",
    "print(evaluatorRF.evaluate(test, \n",
    "     {evaluatorRF.metricName: 'areaUnderROC'}))\n",
    "print(evaluatorRF.evaluate(test, {evaluatorRF.metricName: 'areaUnderPR'}))"
   ]
  },
  {
   "cell_type": "markdown",
   "metadata": {},
   "source": [
    "#### Accuracy, F1, precision y recall:"
   ]
  },
  {
   "cell_type": "code",
   "execution_count": 59,
   "metadata": {},
   "outputs": [],
   "source": [
    "from pyspark.ml.evaluation import MulticlassClassificationEvaluator\n",
    "predictions = model.transform(heart_testRF)"
   ]
  },
  {
   "cell_type": "code",
   "execution_count": 60,
   "metadata": {},
   "outputs": [
    {
     "name": "stdout",
     "output_type": "stream",
     "text": [
      "Accuracy = 0.758242\n",
      "f1 = 0.757891\n",
      "weightedPrecision = 0.760484\n",
      "weightedRecall = 0.758242\n"
     ]
    }
   ],
   "source": [
    "evaluatorARF = MulticlassClassificationEvaluator(labelCol=\"Enfermedad\", metricName=\"accuracy\")\n",
    "accuracy = evaluatorARF.evaluate(predictions)\n",
    "print(\"Accuracy = %g\" % accuracy)\n",
    " \n",
    "evaluatorf1 = MulticlassClassificationEvaluator(labelCol=\"Enfermedad\", metricName=\"f1\")\n",
    "f1 = evaluatorf1.evaluate(predictions)\n",
    "print(\"f1 = %g\" % f1)\n",
    " \n",
    "evaluatorwp = MulticlassClassificationEvaluator(labelCol=\"Enfermedad\", metricName=\"weightedPrecision\")\n",
    "wp = evaluatorwp.evaluate(predictions)\n",
    "print(\"weightedPrecision = %g\" % wp)\n",
    " \n",
    "evaluatorwr = MulticlassClassificationEvaluator(labelCol=\"Enfermedad\", metricName=\"weightedRecall\")\n",
    "wr = evaluatorwr.evaluate(predictions)\n",
    "print(\"weightedRecall = %g\" % wr)"
   ]
  },
  {
   "cell_type": "markdown",
   "metadata": {},
   "source": [
    "## Hyper-tunning de los parámetros para RF"
   ]
  },
  {
   "cell_type": "code",
   "execution_count": 61,
   "metadata": {},
   "outputs": [],
   "source": [
    "evaluator = ev.BinaryClassificationEvaluator(rawPredictionCol='probability', labelCol='Enfermedad')"
   ]
  },
  {
   "cell_type": "code",
   "execution_count": 62,
   "metadata": {},
   "outputs": [],
   "source": [
    "classifier = cl.RandomForestClassifier(labelCol='Enfermedad')\n",
    "\n",
    "grid_rf = tune.ParamGridBuilder().addGrid(classifier.numTrees, [10, 20, 5]).addGrid(classifier.maxDepth, [6, 9, 15]).build()\n"
   ]
  },
  {
   "cell_type": "code",
   "execution_count": 63,
   "metadata": {},
   "outputs": [],
   "source": [
    "cv = tune.CrossValidator(estimator=logistic, estimatorParamMaps=grid_rf , evaluator=evaluator)"
   ]
  },
  {
   "cell_type": "code",
   "execution_count": 64,
   "metadata": {},
   "outputs": [],
   "source": [
    "pipeline = Pipeline(stages=[featuresCreator])\n",
    "data_transformer = pipeline.fit(heart_trainRF)"
   ]
  },
  {
   "cell_type": "code",
   "execution_count": 65,
   "metadata": {},
   "outputs": [],
   "source": [
    "cvModel = cv.fit(data_transformer.transform(heart_trainRF))"
   ]
  },
  {
   "cell_type": "markdown",
   "metadata": {},
   "source": [
    "#### Evaluamos los resultados obtenidos"
   ]
  },
  {
   "cell_type": "code",
   "execution_count": 66,
   "metadata": {},
   "outputs": [
    {
     "name": "stdout",
     "output_type": "stream",
     "text": [
      "0.906280193236715\n",
      "0.9120983131733811\n"
     ]
    }
   ],
   "source": [
    "#a ver que valor nos da, a ver si son mejores\n",
    "data_train = data_transformer.transform(heart_testRF)\n",
    "results = cvModel.transform(data_train)\n",
    "\n",
    "print(evaluator.evaluate(results, {evaluator.metricName: 'areaUnderROC'}))\n",
    "print(evaluator.evaluate(results, {evaluator.metricName: 'areaUnderPR'}))"
   ]
  },
  {
   "cell_type": "markdown",
   "metadata": {},
   "source": [
    "#### Obtenemos los parametros empleados "
   ]
  },
  {
   "cell_type": "code",
   "execution_count": 67,
   "metadata": {},
   "outputs": [
    {
     "data": {
      "text/plain": [
       "([{'numTrees': 10}, {'maxDepth': 6}], 0.8817162523562094)"
      ]
     },
     "execution_count": 67,
     "metadata": {},
     "output_type": "execute_result"
    }
   ],
   "source": [
    "results = [\n",
    "    ([{key.name: paramValue} \n",
    "            for key, paramValue \n",
    "            in zip(\n",
    "                params.keys(), \n",
    "                params.values())], \n",
    "                metric) \n",
    "    \n",
    "    for params, metric \n",
    "    in zip(\n",
    "        cvModel.getEstimatorParamMaps(), \n",
    "        cvModel.avgMetrics)]\n",
    "\n",
    "sorted(results, key=lambda el: el[1], reverse=True)[0]"
   ]
  },
  {
   "cell_type": "markdown",
   "metadata": {},
   "source": [
    "# Cross validation con k fold para RF"
   ]
  },
  {
   "cell_type": "code",
   "execution_count": 68,
   "metadata": {},
   "outputs": [],
   "source": [
    "from pyspark.ml.evaluation import BinaryClassificationEvaluator\n",
    "from pyspark.ml.tuning import CrossValidator, ParamGridBuilder\n",
    "paramGrid = ParamGridBuilder() \\\n",
    "    .addGrid(classifier.numTrees, [10]) \\\n",
    "    .addGrid(classifier.maxDepth, [6]) \\\n",
    "    .build()\n",
    "\n",
    "crossval = CrossValidator(estimator=pipeline,\n",
    "                          estimatorParamMaps=paramGrid,\n",
    "                          evaluator=BinaryClassificationEvaluator(rawPredictionCol='Enfermedad', labelCol='Enfermedad'),\n",
    "                          numFolds=3) "
   ]
  },
  {
   "cell_type": "code",
   "execution_count": 69,
   "metadata": {
    "collapsed": true
   },
   "outputs": [
    {
     "name": "stdout",
     "output_type": "stream",
     "text": [
      "Row(Enfermedad=0.0)\n",
      "Row(Enfermedad=0.0)\n",
      "Row(Enfermedad=0.0)\n",
      "Row(Enfermedad=1.0)\n",
      "Row(Enfermedad=1.0)\n",
      "Row(Enfermedad=1.0)\n",
      "Row(Enfermedad=1.0)\n",
      "Row(Enfermedad=1.0)\n",
      "Row(Enfermedad=1.0)\n",
      "Row(Enfermedad=1.0)\n",
      "Row(Enfermedad=1.0)\n",
      "Row(Enfermedad=1.0)\n",
      "Row(Enfermedad=0.0)\n",
      "Row(Enfermedad=1.0)\n",
      "Row(Enfermedad=1.0)\n",
      "Row(Enfermedad=0.0)\n",
      "Row(Enfermedad=0.0)\n",
      "Row(Enfermedad=1.0)\n",
      "Row(Enfermedad=0.0)\n",
      "Row(Enfermedad=1.0)\n",
      "Row(Enfermedad=1.0)\n",
      "Row(Enfermedad=1.0)\n",
      "Row(Enfermedad=0.0)\n",
      "Row(Enfermedad=0.0)\n",
      "Row(Enfermedad=1.0)\n",
      "Row(Enfermedad=0.0)\n",
      "Row(Enfermedad=1.0)\n",
      "Row(Enfermedad=0.0)\n",
      "Row(Enfermedad=0.0)\n",
      "Row(Enfermedad=1.0)\n",
      "Row(Enfermedad=0.0)\n",
      "Row(Enfermedad=0.0)\n",
      "Row(Enfermedad=0.0)\n",
      "Row(Enfermedad=0.0)\n",
      "Row(Enfermedad=1.0)\n",
      "Row(Enfermedad=1.0)\n",
      "Row(Enfermedad=0.0)\n",
      "Row(Enfermedad=0.0)\n",
      "Row(Enfermedad=1.0)\n",
      "Row(Enfermedad=1.0)\n",
      "Row(Enfermedad=1.0)\n",
      "Row(Enfermedad=0.0)\n",
      "Row(Enfermedad=0.0)\n",
      "Row(Enfermedad=0.0)\n",
      "Row(Enfermedad=0.0)\n",
      "Row(Enfermedad=1.0)\n",
      "Row(Enfermedad=0.0)\n",
      "Row(Enfermedad=1.0)\n",
      "Row(Enfermedad=1.0)\n",
      "Row(Enfermedad=1.0)\n",
      "Row(Enfermedad=0.0)\n",
      "Row(Enfermedad=1.0)\n",
      "Row(Enfermedad=1.0)\n",
      "Row(Enfermedad=1.0)\n",
      "Row(Enfermedad=0.0)\n",
      "Row(Enfermedad=1.0)\n",
      "Row(Enfermedad=0.0)\n",
      "Row(Enfermedad=0.0)\n",
      "Row(Enfermedad=0.0)\n",
      "Row(Enfermedad=1.0)\n",
      "Row(Enfermedad=1.0)\n",
      "Row(Enfermedad=0.0)\n",
      "Row(Enfermedad=1.0)\n",
      "Row(Enfermedad=0.0)\n",
      "Row(Enfermedad=0.0)\n",
      "Row(Enfermedad=0.0)\n",
      "Row(Enfermedad=0.0)\n",
      "Row(Enfermedad=0.0)\n",
      "Row(Enfermedad=0.0)\n",
      "Row(Enfermedad=0.0)\n",
      "Row(Enfermedad=0.0)\n",
      "Row(Enfermedad=0.0)\n",
      "Row(Enfermedad=0.0)\n",
      "Row(Enfermedad=1.0)\n",
      "Row(Enfermedad=0.0)\n",
      "Row(Enfermedad=1.0)\n",
      "Row(Enfermedad=1.0)\n",
      "Row(Enfermedad=0.0)\n",
      "Row(Enfermedad=0.0)\n",
      "Row(Enfermedad=1.0)\n",
      "Row(Enfermedad=1.0)\n",
      "Row(Enfermedad=1.0)\n",
      "Row(Enfermedad=1.0)\n",
      "Row(Enfermedad=0.0)\n",
      "Row(Enfermedad=0.0)\n",
      "Row(Enfermedad=1.0)\n",
      "Row(Enfermedad=0.0)\n",
      "Row(Enfermedad=0.0)\n",
      "Row(Enfermedad=1.0)\n",
      "Row(Enfermedad=1.0)\n",
      "Row(Enfermedad=1.0)\n"
     ]
    }
   ],
   "source": [
    "cvModelRF = crossval.fit(heart_trainRF)\n",
    "test = heart_testRF\n",
    "prediction = cvModelRF.transform(test)\n",
    "selected = prediction.select('Enfermedad')\n",
    "for row in selected.collect():\n",
    "    print(row)"
   ]
  },
  {
   "cell_type": "markdown",
   "metadata": {},
   "source": [
    "#### Evaluamos el modelo y vemos si ha mejorado"
   ]
  },
  {
   "cell_type": "code",
   "execution_count": 80,
   "metadata": {},
   "outputs": [],
   "source": [
    "predictions = model.transform(heart_testRF)"
   ]
  },
  {
   "cell_type": "code",
   "execution_count": 81,
   "metadata": {},
   "outputs": [
    {
     "name": "stdout",
     "output_type": "stream",
     "text": [
      "Accuracy = 0.89769\n",
      "f1 = 0.897509\n",
      "weightedPrecision = 0.897824\n",
      "weightedRecall = 0.89769\n"
     ]
    }
   ],
   "source": [
    "evaluatorARF = MulticlassClassificationEvaluator(labelCol=\"Enfermedad\", metricName=\"accuracy\")\n",
    "accuracy = evaluatorARF.evaluate(predictions)\n",
    "print(\"Accuracy = %g\" % accuracy)\n",
    " \n",
    "evaluatorf1 = MulticlassClassificationEvaluator(labelCol=\"Enfermedad\", metricName=\"f1\")\n",
    "f1 = evaluatorf1.evaluate(predictions)\n",
    "print(\"f1 = %g\" % f1)\n",
    " \n",
    "evaluatorwp = MulticlassClassificationEvaluator(labelCol=\"Enfermedad\", metricName=\"weightedPrecision\")\n",
    "wp = evaluatorwp.evaluate(predictions)\n",
    "print(\"weightedPrecision = %g\" % wp)\n",
    " \n",
    "evaluatorwr = MulticlassClassificationEvaluator(labelCol=\"Enfermedad\", metricName=\"weightedRecall\")\n",
    "wr = evaluatorwr.evaluate(predictions)\n",
    "print(\"weightedRecall = %g\" % wr)"
   ]
  },
  {
   "cell_type": "markdown",
   "metadata": {},
   "source": [
    "# Modificación de las variables para mejorar el modelo"
   ]
  },
  {
   "cell_type": "markdown",
   "metadata": {},
   "source": [
    "La minería de datos podríamos decir que está basada en los siguientes procedimientos:\\\n",
    "• Transformación de los datos.\\\n",
    "• Extracción y selección de características.\\\n",
    "• Discretización, muestreo y normalización de los datos.\\\n",
    "• Reducción de la dimensionalidad.\\\n",
    "• Análisis de contenidos multimedia.\\\n",
    "• Modelos de predicción y probabilísticos.\\ "
   ]
  },
  {
   "cell_type": "markdown",
   "metadata": {},
   "source": [
    "Una vez llegamos al tercer punto, tenemos la misión de llevar a cabo las técnicas más adecuadas según nuestros datos y los modelos utilizados. Es debido a esto que en nuestro caso, no hemos tenido que emplearlo ya que según los datos que tenemos no era necesario emplear discretización."
   ]
  },
  {
   "cell_type": "code",
   "execution_count": 92,
   "metadata": {},
   "outputs": [
    {
     "data": {
      "image/png": "[encoded data removed]",
      "text/plain": [
       "<IPython.core.display.Image object>"
      ]
     },
     "execution_count": 92,
     "metadata": {},
     "output_type": "execute_result"
    }
   ],
   "source": [
    "Image(filename='./AlgoritmoMachineLearning.png')"
   ]
  },
  {
   "cell_type": "markdown",
   "metadata": {},
   "source": [
    "# ESTANDARIZAR"
   ]
  },
  {
   "cell_type": "markdown",
   "metadata": {},
   "source": [
    "No obstante, debemos tener en cuenta que el rango de datos de nuestros valores en la mayoría de columnas no es muy amplio, no hay muchos valores únicos de Edad distintos, ni de Frecuencia Cardiaca Máxima ni en Tipo de Molestia, por ejemplo. Todo ello se debe a que en muchas de las variables, como ya hemos explicado anteriormente, solo encontramos unas pocos posibles valores que han sido medidos en números. \\\n",
    "Sin embargo, encontramos un campo que se movía entre muchos valores distintos y algo más grandes que el resto. Se trata de **Colesterol**, por ello decidimos normalizarlo de manera que no fuese tan extremo en relación al resto de características que estamos estudiando."
   ]
  },
  {
   "cell_type": "code",
   "execution_count": 212,
   "metadata": {},
   "outputs": [],
   "source": [
    "vectorizer = ft.VectorAssembler(inputCols=['Colesterol'], outputCol='Colesterol_vec')"
   ]
  },
  {
   "cell_type": "code",
   "execution_count": 213,
   "metadata": {},
   "outputs": [],
   "source": [
    "normalizer = ft.StandardScaler(\n",
    "    inputCol=vectorizer.getOutputCol(), \n",
    "    outputCol='normalized', \n",
    "    withMean=True,\n",
    "    withStd=True\n",
    ")"
   ]
  },
  {
   "cell_type": "code",
   "execution_count": 214,
   "metadata": {},
   "outputs": [],
   "source": [
    "featuresCreator2 = ft.VectorAssembler(\n",
    "    inputCols=['Edad','Genero','MT','PArterial','Glucemia','EcgReposo','FCM','AIE','STDep','Pendiente','Vasos','TipoDefecto'], \n",
    "    outputCol='features'\n",
    ")"
   ]
  },
  {
   "cell_type": "code",
   "execution_count": 215,
   "metadata": {},
   "outputs": [],
   "source": [
    "logistic1 = cl.LogisticRegression(\n",
    "    maxIter=50, \n",
    "    regParam=0.3, \n",
    "    labelCol='Enfermedad')"
   ]
  },
  {
   "cell_type": "code",
   "execution_count": 216,
   "metadata": {},
   "outputs": [],
   "source": [
    "evaluator1 = ev.BinaryClassificationEvaluator(\n",
    "    rawPredictionCol='probability', \n",
    "    labelCol='Enfermedad')"
   ]
  },
  {
   "cell_type": "code",
   "execution_count": 217,
   "metadata": {},
   "outputs": [],
   "source": [
    "pipeline = Pipeline(stages=[vectorizer, normalizer, featuresCreator2, logistic1])\n",
    "#data_standardized = pipeline.fit(heart_df).transform(heart_df)\n",
    "data_standardized = pipeline.fit(heart_train)"
   ]
  },
  {
   "cell_type": "code",
   "execution_count": 218,
   "metadata": {},
   "outputs": [],
   "source": [
    "test_model = data_standardized.transform(heart_test)"
   ]
  },
  {
   "cell_type": "code",
   "execution_count": 219,
   "metadata": {},
   "outputs": [
    {
     "name": "stdout",
     "output_type": "stream",
     "text": [
      "0.907070707070707\n",
      "0.9162569456369315\n"
     ]
    }
   ],
   "source": [
    "print(evaluator1.evaluate(test_model, \n",
    "     {evaluator1.metricName: 'areaUnderROC'})) #area bajo la curva ROC\n",
    "print(evaluator1.evaluate(test_model, {evaluator1.metricName: 'areaUnderPR'}))#area bajo PR"
   ]
  },
  {
   "cell_type": "code",
   "execution_count": 220,
   "metadata": {},
   "outputs": [
    {
     "name": "stdout",
     "output_type": "stream",
     "text": [
      "Accuracy = 0.809524\n",
      "f1 = 0.805168\n",
      "weightedPrecision = 0.828952\n",
      "weightedRecall = 0.809524\n"
     ]
    }
   ],
   "source": [
    "evaluatorALG = ev.MulticlassClassificationEvaluator(labelCol=\"Enfermedad\", metricName=\"accuracy\")\n",
    "accuracy = evaluatorALG.evaluate(test_model)\n",
    "print(\"Accuracy = %g\" % accuracy)\n",
    " \n",
    "evaluatorf1 = ev.MulticlassClassificationEvaluator(labelCol=\"Enfermedad\", metricName=\"f1\")\n",
    "f1 = evaluatorf1.evaluate(test_model)\n",
    "print(\"f1 = %g\" % f1)\n",
    " \n",
    "evaluatorwp = ev.MulticlassClassificationEvaluator(labelCol=\"Enfermedad\", metricName=\"weightedPrecision\")\n",
    "wp = evaluatorwp.evaluate(test_model)\n",
    "print(\"weightedPrecision = %g\" % wp)\n",
    " \n",
    "evaluatorwr = ev.MulticlassClassificationEvaluator(labelCol=\"Enfermedad\", metricName=\"weightedRecall\")\n",
    "wr = evaluatorwr.evaluate(test_model)\n",
    "print(\"weightedRecall = %g\" % wr)"
   ]
  },
  {
   "cell_type": "code",
   "execution_count": 159,
   "metadata": {
    "scrolled": true
   },
   "outputs": [
    {
     "data": {
      "text/plain": [
       "[Row(Edad=63, Genero=1, MT=3, PArterial=145, Colesterol=233, Glucemia=1, EcgReposo=0, FCM=150, AIE=0, STDep=2.3, Pendiente=0, Vasos=0, TipoDefecto=1, Enfermedad=1.0, Colesterol_vec=DenseVector([233.0]), normalized=DenseVector([-0.2469]), features=DenseVector([63.0, 1.0, 3.0, 145.0, 233.0, 1.0, 0.0, 150.0, 0.0, 2.3, 0.0, 0.0, 1.0]), rawPrediction=DenseVector([-1.5474, 1.5474]), probability=DenseVector([0.1755, 0.8245]), prediction=1.0)]"
      ]
     },
     "execution_count": 159,
     "metadata": {},
     "output_type": "execute_result"
    }
   ],
   "source": [
    "data_standardized.transform(heart_df).take(1)"
   ]
  },
  {
   "cell_type": "markdown",
   "metadata": {},
   "source": [
    "## Extracción de características "
   ]
  },
  {
   "cell_type": "markdown",
   "metadata": {},
   "source": [
    "##### El proceso de selección consiste en escoger un subconjunto de un conjunto más grande de características"
   ]
  },
  {
   "cell_type": "markdown",
   "metadata": {},
   "source": [
    "Ordena los rasgos basados en el test Chi Cuadrado, que es independiente de la clase, y luego filtra los rasgos superiores de los que más depende la etiqueta de la clase. Este selector es útil para mejorar el poder de predicción de un modelo."
   ]
  },
  {
   "cell_type": "code",
   "execution_count": 90,
   "metadata": {},
   "outputs": [],
   "source": [
    "#lo que nosotras deberíamos hacer\n",
    "import pyspark.sql.types as typ\n",
    "from pyspark.ml.feature import ChiSqSelector "
   ]
  },
  {
   "cell_type": "code",
   "execution_count": 91,
   "metadata": {},
   "outputs": [],
   "source": [
    "selector = ChiSqSelector(numTopFeatures=4, featuresCol=\"features\", outputCol=\"selectedFeatures\", labelCol=\"Enfermedad\")\n",
    "pipelinechi = Pipeline(stages=[featuresCreator,selector])"
   ]
  },
  {
   "cell_type": "code",
   "execution_count": 92,
   "metadata": {},
   "outputs": [],
   "source": [
    "result = pipelinechi.fit(heart_df).transform(heart_df)"
   ]
  },
  {
   "cell_type": "code",
   "execution_count": 93,
   "metadata": {},
   "outputs": [
    {
     "name": "stdout",
     "output_type": "stream",
     "text": [
      "ChiSqSelector output with top 4 features selected\n",
      "+----+------+---+---------+----------+--------+---------+---+---+-----+---------+-----+-----------+----------+--------------------+-----------------+\n",
      "|Edad|Genero| MT|PArterial|Colesterol|Glucemia|EcgReposo|FCM|AIE|STDep|Pendiente|Vasos|TipoDefecto|Enfermedad|            features| selectedFeatures|\n",
      "+----+------+---+---------+----------+--------+---------+---+---+-----+---------+-----+-----------+----------+--------------------+-----------------+\n",
      "|  63|     1|  3|      145|       233|       1|        0|150|  0|  2.3|        0|    0|          1|       1.0|[63.0,1.0,3.0,145...|[3.0,0.0,0.0,1.0]|\n",
      "|  37|     1|  2|      130|       250|       0|        1|187|  0|  3.5|        0|    0|          2|       1.0|[37.0,1.0,2.0,130...|[2.0,0.0,0.0,2.0]|\n",
      "|  41|     0|  1|      130|       204|       0|        0|172|  0|  1.4|        2|    0|          2|       1.0|[41.0,0.0,1.0,130...|[1.0,0.0,0.0,2.0]|\n",
      "|  56|     1|  1|      120|       236|       0|        1|178|  0|  0.8|        2|    0|          2|       1.0|[56.0,1.0,1.0,120...|[1.0,0.0,0.0,2.0]|\n",
      "+----+------+---+---------+----------+--------+---------+---+---+-----+---------+-----+-----------+----------+--------------------+-----------------+\n",
      "only showing top 4 rows\n",
      "\n"
     ]
    }
   ],
   "source": [
    "print(\"ChiSqSelector output with top %d features selected\" % selector.getNumTopFeatures())\n",
    "result.show(4) "
   ]
  },
  {
   "cell_type": "code",
   "execution_count": 89,
   "metadata": {},
   "outputs": [
    {
     "name": "stdout",
     "output_type": "stream",
     "text": [
      "+-----------------+\n",
      "| selectedFeatures|\n",
      "+-----------------+\n",
      "|[3.0,0.0,0.0,1.0]|\n",
      "|[2.0,0.0,0.0,2.0]|\n",
      "|[1.0,0.0,0.0,2.0]|\n",
      "+-----------------+\n",
      "only showing top 3 rows\n",
      "\n"
     ]
    }
   ],
   "source": [
    "result.select('selectedFeatures').show(3)"
   ]
  },
  {
   "cell_type": "code",
   "execution_count": 90,
   "metadata": {},
   "outputs": [
    {
     "data": {
      "text/plain": [
       "DenseVector([3.0, 0.0, 0.0, 1.0])"
      ]
     },
     "execution_count": 90,
     "metadata": {},
     "output_type": "execute_result"
    }
   ],
   "source": [
    "result.head().selectedFeatures"
   ]
  },
  {
   "cell_type": "code",
   "execution_count": 79,
   "metadata": {
    "scrolled": true
   },
   "outputs": [
    {
     "name": "stdout",
     "output_type": "stream",
     "text": [
      "[3, 9, 12, 13]\n"
     ]
    }
   ],
   "source": [
    "result.selectedFeatures"
   ]
  },
  {
   "cell_type": "markdown",
   "metadata": {},
   "source": [
    "ChiSqSelector ha seleccionado las columnas 3, 9, 12 y 13 como las cuatro con mayor importancia sobre nuestra columna objetivo.\\\n",
    "Dichos campos son Molestia Torácica, Angina inducida por el Ejercicio, Número de Vasos Principales y Tipo de Defecto."
   ]
  },
  {
   "cell_type": "markdown",
   "metadata": {},
   "source": [
    "### Lo aplicamos a Random Forest"
   ]
  },
  {
   "cell_type": "code",
   "execution_count": 94,
   "metadata": {},
   "outputs": [],
   "source": [
    "assembler = ft.VectorAssembler(\n",
    "    inputCols=['MT','AIE','Vasos','TipoDefecto'], \n",
    "    outputCol='features'\n",
    ")"
   ]
  },
  {
   "cell_type": "code",
   "execution_count": 95,
   "metadata": {},
   "outputs": [],
   "source": [
    "classifier1 = cl.RandomForestClassifier(\n",
    "    numTrees=10, \n",
    "    maxDepth=6, \n",
    "    labelCol='Enfermedad')"
   ]
  },
  {
   "cell_type": "code",
   "execution_count": 96,
   "metadata": {},
   "outputs": [],
   "source": [
    "heart_train5, heart_test5 =  heart_df.randomSplit([0.7, 0.3], seed=666)"
   ]
  },
  {
   "cell_type": "code",
   "execution_count": 97,
   "metadata": {},
   "outputs": [],
   "source": [
    "pipeline = Pipeline(\n",
    "    stages=[assembler, classifier1])\n",
    "\n",
    "model = pipeline.fit(heart_train5)\n",
    "test = model.transform(heart_test5)"
   ]
  },
  {
   "cell_type": "code",
   "execution_count": 98,
   "metadata": {},
   "outputs": [
    {
     "name": "stdout",
     "output_type": "stream",
     "text": [
      "0.8768115942028987\n",
      "0.8456061131861997\n"
     ]
    }
   ],
   "source": [
    "print(evaluatorRF.evaluate(test, \n",
    "     {evaluatorRF.metricName: 'areaUnderROC'}))\n",
    "print(evaluatorRF.evaluate(test, {evaluatorRF.metricName: 'areaUnderPR'}))"
   ]
  },
  {
   "cell_type": "code",
   "execution_count": 99,
   "metadata": {},
   "outputs": [],
   "source": [
    "predictions = model.transform(heart_test5)"
   ]
  },
  {
   "cell_type": "code",
   "execution_count": 100,
   "metadata": {},
   "outputs": [
    {
     "name": "stdout",
     "output_type": "stream",
     "text": [
      "Accuracy = 0.813187\n",
      "f1 = 0.813187\n",
      "weightedPrecision = 0.813383\n",
      "weightedRecall = 0.813187\n"
     ]
    }
   ],
   "source": [
    "evaluatorARF = MulticlassClassificationEvaluator(labelCol=\"Enfermedad\", metricName=\"accuracy\")\n",
    "accuracy = evaluatorARF.evaluate(predictions)\n",
    "print(\"Accuracy = %g\" % accuracy)\n",
    " \n",
    "evaluatorf1 = MulticlassClassificationEvaluator(labelCol=\"Enfermedad\", metricName=\"f1\")\n",
    "f1 = evaluatorf1.evaluate(predictions)\n",
    "print(\"f1 = %g\" % f1)\n",
    " \n",
    "evaluatorwp = MulticlassClassificationEvaluator(labelCol=\"Enfermedad\", metricName=\"weightedPrecision\")\n",
    "wp = evaluatorwp.evaluate(predictions)\n",
    "print(\"weightedPrecision = %g\" % wp)\n",
    " \n",
    "evaluatorwr = MulticlassClassificationEvaluator(labelCol=\"Enfermedad\", metricName=\"weightedRecall\")\n",
    "wr = evaluatorwr.evaluate(predictions)\n",
    "print(\"weightedRecall = %g\" % wr)"
   ]
  },
  {
   "cell_type": "markdown",
   "metadata": {},
   "source": [
    "### Lo aplicamos a Logistic Regression"
   ]
  },
  {
   "cell_type": "code",
   "execution_count": 101,
   "metadata": {},
   "outputs": [],
   "source": [
    "pipeline = Pipeline(stages=[assembler, logistic1])"
   ]
  },
  {
   "cell_type": "code",
   "execution_count": 102,
   "metadata": {},
   "outputs": [],
   "source": [
    "model = pipeline.fit(heart_train)"
   ]
  },
  {
   "cell_type": "code",
   "execution_count": 103,
   "metadata": {},
   "outputs": [],
   "source": [
    "test_model = model.transform(heart_test)"
   ]
  },
  {
   "cell_type": "code",
   "execution_count": 105,
   "metadata": {},
   "outputs": [
    {
     "name": "stdout",
     "output_type": "stream",
     "text": [
      "0.8357487922705313\n",
      "0.7758201886523459\n"
     ]
    }
   ],
   "source": [
    "print(evaluator1.evaluate(test_model, \n",
    "     {evaluator1.metricName: 'areaUnderROC'})) #area bajo la curva ROC\n",
    "print(evaluator1.evaluate(test_model, {evaluator1.metricName: 'areaUnderPR'})) #bajo PR"
   ]
  },
  {
   "cell_type": "code",
   "execution_count": 106,
   "metadata": {},
   "outputs": [],
   "source": [
    "predictions = model.transform(heart_test)"
   ]
  },
  {
   "cell_type": "code",
   "execution_count": 107,
   "metadata": {},
   "outputs": [
    {
     "name": "stdout",
     "output_type": "stream",
     "text": [
      "Accuracy = 0.747253\n",
      "f1 = 0.743854\n",
      "weightedPrecision = 0.763226\n",
      "weightedRecall = 0.747253\n"
     ]
    }
   ],
   "source": [
    "evaluatorALG = ev.MulticlassClassificationEvaluator(labelCol=\"Enfermedad\", metricName=\"accuracy\")\n",
    "accuracy = evaluatorALG.evaluate(predictions)\n",
    "print(\"Accuracy = %g\" % accuracy)\n",
    " \n",
    "evaluatorf1 = ev.MulticlassClassificationEvaluator(labelCol=\"Enfermedad\", metricName=\"f1\")\n",
    "f1 = evaluatorf1.evaluate(predictions)\n",
    "print(\"f1 = %g\" % f1)\n",
    " \n",
    "evaluatorwp = ev.MulticlassClassificationEvaluator(labelCol=\"Enfermedad\", metricName=\"weightedPrecision\")\n",
    "wp = evaluatorwp.evaluate(predictions)\n",
    "print(\"weightedPrecision = %g\" % wp)\n",
    " \n",
    "evaluatorwr = ev.MulticlassClassificationEvaluator(labelCol=\"Enfermedad\", metricName=\"weightedRecall\")\n",
    "wr = evaluatorwr.evaluate(predictions)\n",
    "print(\"weightedRecall = %g\" % wr)"
   ]
  },
  {
   "cell_type": "markdown",
   "metadata": {},
   "source": [
    "## PCA"
   ]
  },
  {
   "cell_type": "markdown",
   "metadata": {},
   "source": [
    "PCA es una técnica matemática para encontrar los aspectos más importantes de nuestros datos. Cambia la representación de los rasgos de nuestros datos creando un nuevo conjunto de features. Cada nueva característica es una combinación de las características originales. El poder de PCA es que puede crear un conjunto más pequeño de características más significativas para ser introducidas en su modelo."
   ]
  },
  {
   "cell_type": "code",
   "execution_count": 117,
   "metadata": {},
   "outputs": [],
   "source": [
    "#featuresCreatorPCA = ft.VectorAssembler(inputCols=['Edad','Genero','EcgReposo','Vasos'], outputCol='features')"
   ]
  },
  {
   "cell_type": "markdown",
   "metadata": {},
   "source": [
    "PCA toma un parámetro k, especificando el número de características de salida a crear. Generalmente, esto debería ser mucho más pequeño que la dimensión de sus vectores de entrada."
   ]
  },
  {
   "cell_type": "code",
   "execution_count": 119,
   "metadata": {},
   "outputs": [],
   "source": [
    "from pyspark.ml.feature import PCA\n",
    "pca = PCA(k=2, inputCol='features', outputCol='pcaFeature')\n",
    "#lr = cl.LogisticRegression(maxIter=10, regParam=0.3).setLabelCol('Enfermedad')\n",
    "pipelinePCA = Pipeline(stages=[featuresCreator,pca,logistic1])"
   ]
  },
  {
   "cell_type": "markdown",
   "metadata": {},
   "source": [
    "Entrenamos y evaluamos el modelo igual que anteriormente"
   ]
  },
  {
   "cell_type": "code",
   "execution_count": 122,
   "metadata": {},
   "outputs": [],
   "source": [
    "model2 = pipelinePCA.fit(heart_train)\n",
    "test_model = model2.transform(heart_test5)\n",
    "#test_model.show()"
   ]
  },
  {
   "cell_type": "code",
   "execution_count": 121,
   "metadata": {},
   "outputs": [
    {
     "name": "stdout",
     "output_type": "stream",
     "text": [
      "+--------------------+\n",
      "|          pcaFeature|\n",
      "+--------------------+\n",
      "|[-273.84475460670...|\n",
      "|[-307.41907567324...|\n",
      "|[-172.16606376989...|\n",
      "+--------------------+\n",
      "only showing top 3 rows\n",
      "\n"
     ]
    }
   ],
   "source": [
    "test_model.select('pcaFeature').distinct().show(3)"
   ]
  },
  {
   "cell_type": "code",
   "execution_count": 123,
   "metadata": {},
   "outputs": [
    {
     "name": "stdout",
     "output_type": "stream",
     "text": [
      "0.9009661835748793\n",
      "0.9023919947343534\n"
     ]
    }
   ],
   "source": [
    "print(evaluator.evaluate(test_model, \n",
    "     {evaluator.metricName: 'areaUnderROC'})) #area bajo la curva ROC\n",
    "print(evaluator.evaluate(test_model, {evaluator.metricName: 'areaUnderPR'}))"
   ]
  },
  {
   "cell_type": "code",
   "execution_count": 126,
   "metadata": {},
   "outputs": [],
   "source": [
    "predictions = model2.transform(heart_test)"
   ]
  },
  {
   "cell_type": "code",
   "execution_count": 127,
   "metadata": {},
   "outputs": [
    {
     "name": "stdout",
     "output_type": "stream",
     "text": [
      "Accuracy = 0.853774\n",
      "f1 = 0.851167\n",
      "weightedPrecision = 0.860337\n",
      "weightedRecall = 0.853774\n"
     ]
    }
   ],
   "source": [
    "evaluatorALG = ev.MulticlassClassificationEvaluator(labelCol=\"Enfermedad\", metricName=\"accuracy\")\n",
    "accuracy = evaluatorALG.evaluate(predictions)\n",
    "print(\"Accuracy = %g\" % accuracy)\n",
    " \n",
    "evaluatorf1 = ev.MulticlassClassificationEvaluator(labelCol=\"Enfermedad\", metricName=\"f1\")\n",
    "f1 = evaluatorf1.evaluate(predictions)\n",
    "print(\"f1 = %g\" % f1)\n",
    " \n",
    "evaluatorwp = ev.MulticlassClassificationEvaluator(labelCol=\"Enfermedad\", metricName=\"weightedPrecision\")\n",
    "wp = evaluatorwp.evaluate(predictions)\n",
    "print(\"weightedPrecision = %g\" % wp)\n",
    " \n",
    "evaluatorwr = ev.MulticlassClassificationEvaluator(labelCol=\"Enfermedad\", metricName=\"weightedRecall\")\n",
    "wr = evaluatorwr.evaluate(predictions)\n",
    "print(\"weightedRecall = %g\" % wr)"
   ]
  },
  {
   "cell_type": "markdown",
   "metadata": {},
   "source": [
    "## CONCLUSIÓN"
   ]
  },
  {
   "cell_type": "markdown",
   "metadata": {},
   "source": [
    "- Aprendizaje y entendimiento de **Apache Spark**  \n",
    "  \n",
    "- Esto en añadido al estudio de algoritmos ML concluye en el proyecto realizado\n",
    "  \n",
    "- Mejores resultados con **KFold** en ambos algoritmos y con **PCA**\n",
    "\n",
    "- Todo esto nos ayuda en el desarrollo del resto de asignaturas\n",
    "\n",
    "- Estamos formando una base sólida de conocimientos"
   ]
  },
  {
   "cell_type": "markdown",
   "metadata": {},
   "source": [
    "## FIN"
   ]
  }
 ],
 "metadata": {
  "kernelspec": {
   "display_name": "Python 3",
   "language": "python",
   "name": "python3"
  },
  "language_info": {
   "codemirror_mode": {
    "name": "ipython",
    "version": 3
   },
   "file_extension": ".py",
   "mimetype": "text/x-python",
   "name": "python",
   "nbconvert_exporter": "python",
   "pygments_lexer": "ipython3",
   "version": "3.7.4"
  }
 },
 "nbformat": 4,
 "nbformat_minor": 2
}
